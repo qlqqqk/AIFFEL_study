{
  "cells": [
    {
      "cell_type": "markdown",
      "metadata": {
        "colab_type": "text",
        "id": "view-in-github"
      },
      "source": [
        "<a href=\"https://colab.research.google.com/github/qlqqqk/Aiffel_prac/blob/main/GD/%5BGD_1%5DSentencePiece.ipynb\" target=\"_parent\"><img src=\"https://colab.research.google.com/assets/colab-badge.svg\" alt=\"Open In Colab\"/></a>"
      ]
    },
    {
      "cell_type": "markdown",
      "metadata": {
        "id": "n7gO9YvPMZk2"
      },
      "source": [
        "## 프로젝트 : SentencePiece 사용하기\n"
      ]
    },
    {
      "cell_type": "markdown",
      "metadata": {
        "id": "k8ri5y_9R86l"
      },
      "source": [
        "### NAVER_REVIEW DATA LOAD\n",
        "\n",
        "    id: The review id, provieded by Naver\n",
        "    document: The actual review\n",
        "    label: The sentiment class of the review. (0: negative, 1: positive)"
      ]
    },
    {
      "cell_type": "code",
      "execution_count": 1,
      "metadata": {
        "id": "zCWER4fDfgeC"
      },
      "outputs": [],
      "source": [
        "#Colab에서 Mecab 설치\n",
        "%%capture\n",
        "!apt-get update\n",
        "!apt-get install g++ openjdk-8-jdk \n",
        "!pip3 install konlpy JPype1-py3\n",
        "!bash <(curl -s https://raw.githubusercontent.com/konlpy/konlpy/master/scripts/mecab.sh)\n",
        "\n",
        "# !wget https://github.com/jungyeul/korean-parallel-corpora/raw/master/korean-english-news-v1/korean-english-park.train.tar.gz\n",
        "# !mkdir -p /content/drive/MyDrive/Aiffel/data/sp_tokenizer/data\n",
        "# !mv korean-english-park.train.tar.gz /content/drive/MyDrive/Aiffel/data/sp_tokenizer/data\n",
        "# !cd /content/drive/MyDrive/Aiffel/data/sp_tokenizer/data\n",
        "# !tar -xzvf korean-english-park.train.tar.gz"
      ]
    },
    {
      "cell_type": "code",
      "execution_count": 2,
      "metadata": {
        "colab": {
          "base_uri": "https://localhost:8080/"
        },
        "id": "oFATNSMxy_c4",
        "outputId": "95c19d83-4b2f-461d-e77a-5df1b2b2f246"
      },
      "outputs": [
        {
          "name": "stdout",
          "output_type": "stream",
          "text": [
            "Drive already mounted at /content/drive; to attempt to forcibly remount, call drive.mount(\"/content/drive\", force_remount=True).\n"
          ]
        }
      ],
      "source": [
        "from google.colab import drive\n",
        "drive.mount('/content/drive')"
      ]
    },
    {
      "cell_type": "code",
      "execution_count": 3,
      "metadata": {
        "colab": {
          "base_uri": "https://localhost:8080/"
        },
        "id": "dRzEN9mIJJh-",
        "outputId": "2d4ebe17-af19-4d77-d6fe-b369f39a147f"
      },
      "outputs": [
        {
          "name": "stdout",
          "output_type": "stream",
          "text": [
            "Looking in indexes: https://pypi.org/simple, https://us-python.pkg.dev/colab-wheels/public/simple/\n",
            "Requirement already satisfied: sentencepiece in /usr/local/lib/python3.7/dist-packages (0.1.96)\n",
            "2.8.2\n",
            "1.21.6\n"
          ]
        }
      ],
      "source": [
        "import os\n",
        "import csv\n",
        "import matplotlib.pyplot as plt\n",
        "%matplotlib inline\n",
        "import numpy as np\n",
        "\n",
        "import tensorflow as tf\n",
        "from konlpy.tag import Mecab\n",
        "\n",
        "!pip install sentencepiece\n",
        "import sentencepiece as spm\n",
        "import pandas as pd\n",
        "\n",
        "from sklearn.model_selection import train_test_split\n",
        "from tensorflow.keras.models import load_model\n",
        "from tensorflow.keras.initializers import Constant\n",
        "from tensorflow.keras.callbacks import EarlyStopping, ModelCheckpoint\n",
        "\n",
        "print(tf.__version__)\n",
        "print(np.__version__)\n",
        "# print(konlpy.__version__)"
      ]
    },
    {
      "cell_type": "markdown",
      "metadata": {
        "id": "NDgD-uINt39O"
      },
      "source": [
        "### 데이터 로드/ 분석"
      ]
    },
    {
      "cell_type": "code",
      "execution_count": 4,
      "metadata": {
        "colab": {
          "base_uri": "https://localhost:8080/",
          "height": 423
        },
        "id": "moXG5QpdOWtL",
        "outputId": "54d6f115-595a-4a30-91a3-e5e9963d2c36"
      },
      "outputs": [
        {
          "data": {
            "text/html": [
              "\n",
              "  <div id=\"df-d8acf3e4-7608-4132-827e-9e29e7a32b00\">\n",
              "    <div class=\"colab-df-container\">\n",
              "      <div>\n",
              "<style scoped>\n",
              "    .dataframe tbody tr th:only-of-type {\n",
              "        vertical-align: middle;\n",
              "    }\n",
              "\n",
              "    .dataframe tbody tr th {\n",
              "        vertical-align: top;\n",
              "    }\n",
              "\n",
              "    .dataframe thead th {\n",
              "        text-align: right;\n",
              "    }\n",
              "</style>\n",
              "<table border=\"1\" class=\"dataframe\">\n",
              "  <thead>\n",
              "    <tr style=\"text-align: right;\">\n",
              "      <th></th>\n",
              "      <th>id</th>\n",
              "      <th>document</th>\n",
              "      <th>label</th>\n",
              "    </tr>\n",
              "  </thead>\n",
              "  <tbody>\n",
              "    <tr>\n",
              "      <th>0</th>\n",
              "      <td>8112052</td>\n",
              "      <td>어릴때보고 지금다시봐도 재밌어요ㅋㅋ</td>\n",
              "      <td>1</td>\n",
              "    </tr>\n",
              "    <tr>\n",
              "      <th>1</th>\n",
              "      <td>8132799</td>\n",
              "      <td>디자인을 배우는 학생으로, 외국디자이너와 그들이 일군 전통을 통해 발전해가는 문화산...</td>\n",
              "      <td>1</td>\n",
              "    </tr>\n",
              "    <tr>\n",
              "      <th>2</th>\n",
              "      <td>4655635</td>\n",
              "      <td>폴리스스토리 시리즈는 1부터 뉴까지 버릴께 하나도 없음.. 최고.</td>\n",
              "      <td>1</td>\n",
              "    </tr>\n",
              "    <tr>\n",
              "      <th>3</th>\n",
              "      <td>9251303</td>\n",
              "      <td>와.. 연기가 진짜 개쩔구나.. 지루할거라고 생각했는데 몰입해서 봤다.. 그래 이런...</td>\n",
              "      <td>1</td>\n",
              "    </tr>\n",
              "    <tr>\n",
              "      <th>4</th>\n",
              "      <td>10067386</td>\n",
              "      <td>안개 자욱한 밤하늘에 떠 있는 초승달 같은 영화.</td>\n",
              "      <td>1</td>\n",
              "    </tr>\n",
              "    <tr>\n",
              "      <th>...</th>\n",
              "      <td>...</td>\n",
              "      <td>...</td>\n",
              "      <td>...</td>\n",
              "    </tr>\n",
              "    <tr>\n",
              "      <th>199995</th>\n",
              "      <td>8963373</td>\n",
              "      <td>포켓 몬스터 짜가 ㅡㅡ;;</td>\n",
              "      <td>0</td>\n",
              "    </tr>\n",
              "    <tr>\n",
              "      <th>199996</th>\n",
              "      <td>3302770</td>\n",
              "      <td>쓰.레.기</td>\n",
              "      <td>0</td>\n",
              "    </tr>\n",
              "    <tr>\n",
              "      <th>199997</th>\n",
              "      <td>5458175</td>\n",
              "      <td>완전 사이코영화. 마지막은 더욱더 이 영화의질을 떨어트린다.</td>\n",
              "      <td>0</td>\n",
              "    </tr>\n",
              "    <tr>\n",
              "      <th>199998</th>\n",
              "      <td>6908648</td>\n",
              "      <td>왜난 재미없었지 ㅠㅠ 라따뚜이 보고나서 스머프 봐서 그런가 ㅋㅋ</td>\n",
              "      <td>0</td>\n",
              "    </tr>\n",
              "    <tr>\n",
              "      <th>199999</th>\n",
              "      <td>8548411</td>\n",
              "      <td>포풍저그가나가신다영차영차영차</td>\n",
              "      <td>0</td>\n",
              "    </tr>\n",
              "  </tbody>\n",
              "</table>\n",
              "<p>200000 rows × 3 columns</p>\n",
              "</div>\n",
              "      <button class=\"colab-df-convert\" onclick=\"convertToInteractive('df-d8acf3e4-7608-4132-827e-9e29e7a32b00')\"\n",
              "              title=\"Convert this dataframe to an interactive table.\"\n",
              "              style=\"display:none;\">\n",
              "        \n",
              "  <svg xmlns=\"http://www.w3.org/2000/svg\" height=\"24px\"viewBox=\"0 0 24 24\"\n",
              "       width=\"24px\">\n",
              "    <path d=\"M0 0h24v24H0V0z\" fill=\"none\"/>\n",
              "    <path d=\"M18.56 5.44l.94 2.06.94-2.06 2.06-.94-2.06-.94-.94-2.06-.94 2.06-2.06.94zm-11 1L8.5 8.5l.94-2.06 2.06-.94-2.06-.94L8.5 2.5l-.94 2.06-2.06.94zm10 10l.94 2.06.94-2.06 2.06-.94-2.06-.94-.94-2.06-.94 2.06-2.06.94z\"/><path d=\"M17.41 7.96l-1.37-1.37c-.4-.4-.92-.59-1.43-.59-.52 0-1.04.2-1.43.59L10.3 9.45l-7.72 7.72c-.78.78-.78 2.05 0 2.83L4 21.41c.39.39.9.59 1.41.59.51 0 1.02-.2 1.41-.59l7.78-7.78 2.81-2.81c.8-.78.8-2.07 0-2.86zM5.41 20L4 18.59l7.72-7.72 1.47 1.35L5.41 20z\"/>\n",
              "  </svg>\n",
              "      </button>\n",
              "      \n",
              "  <style>\n",
              "    .colab-df-container {\n",
              "      display:flex;\n",
              "      flex-wrap:wrap;\n",
              "      gap: 12px;\n",
              "    }\n",
              "\n",
              "    .colab-df-convert {\n",
              "      background-color: #E8F0FE;\n",
              "      border: none;\n",
              "      border-radius: 50%;\n",
              "      cursor: pointer;\n",
              "      display: none;\n",
              "      fill: #1967D2;\n",
              "      height: 32px;\n",
              "      padding: 0 0 0 0;\n",
              "      width: 32px;\n",
              "    }\n",
              "\n",
              "    .colab-df-convert:hover {\n",
              "      background-color: #E2EBFA;\n",
              "      box-shadow: 0px 1px 2px rgba(60, 64, 67, 0.3), 0px 1px 3px 1px rgba(60, 64, 67, 0.15);\n",
              "      fill: #174EA6;\n",
              "    }\n",
              "\n",
              "    [theme=dark] .colab-df-convert {\n",
              "      background-color: #3B4455;\n",
              "      fill: #D2E3FC;\n",
              "    }\n",
              "\n",
              "    [theme=dark] .colab-df-convert:hover {\n",
              "      background-color: #434B5C;\n",
              "      box-shadow: 0px 1px 3px 1px rgba(0, 0, 0, 0.15);\n",
              "      filter: drop-shadow(0px 1px 2px rgba(0, 0, 0, 0.3));\n",
              "      fill: #FFFFFF;\n",
              "    }\n",
              "  </style>\n",
              "\n",
              "      <script>\n",
              "        const buttonEl =\n",
              "          document.querySelector('#df-d8acf3e4-7608-4132-827e-9e29e7a32b00 button.colab-df-convert');\n",
              "        buttonEl.style.display =\n",
              "          google.colab.kernel.accessAllowed ? 'block' : 'none';\n",
              "\n",
              "        async function convertToInteractive(key) {\n",
              "          const element = document.querySelector('#df-d8acf3e4-7608-4132-827e-9e29e7a32b00');\n",
              "          const dataTable =\n",
              "            await google.colab.kernel.invokeFunction('convertToInteractive',\n",
              "                                                     [key], {});\n",
              "          if (!dataTable) return;\n",
              "\n",
              "          const docLinkHtml = 'Like what you see? Visit the ' +\n",
              "            '<a target=\"_blank\" href=https://colab.research.google.com/notebooks/data_table.ipynb>data table notebook</a>'\n",
              "            + ' to learn more about interactive tables.';\n",
              "          element.innerHTML = '';\n",
              "          dataTable['output_type'] = 'display_data';\n",
              "          await google.colab.output.renderOutput(dataTable, element);\n",
              "          const docLink = document.createElement('div');\n",
              "          docLink.innerHTML = docLinkHtml;\n",
              "          element.appendChild(docLink);\n",
              "        }\n",
              "      </script>\n",
              "    </div>\n",
              "  </div>\n",
              "  "
            ],
            "text/plain": [
              "              id                                           document  label\n",
              "0        8112052                                어릴때보고 지금다시봐도 재밌어요ㅋㅋ      1\n",
              "1        8132799  디자인을 배우는 학생으로, 외국디자이너와 그들이 일군 전통을 통해 발전해가는 문화산...      1\n",
              "2        4655635               폴리스스토리 시리즈는 1부터 뉴까지 버릴께 하나도 없음.. 최고.      1\n",
              "3        9251303  와.. 연기가 진짜 개쩔구나.. 지루할거라고 생각했는데 몰입해서 봤다.. 그래 이런...      1\n",
              "4       10067386                        안개 자욱한 밤하늘에 떠 있는 초승달 같은 영화.      1\n",
              "...          ...                                                ...    ...\n",
              "199995   8963373                                     포켓 몬스터 짜가 ㅡㅡ;;      0\n",
              "199996   3302770                                              쓰.레.기      0\n",
              "199997   5458175                  완전 사이코영화. 마지막은 더욱더 이 영화의질을 떨어트린다.      0\n",
              "199998   6908648                왜난 재미없었지 ㅠㅠ 라따뚜이 보고나서 스머프 봐서 그런가 ㅋㅋ      0\n",
              "199999   8548411                                    포풍저그가나가신다영차영차영차      0\n",
              "\n",
              "[200000 rows x 3 columns]"
            ]
          },
          "execution_count": 4,
          "metadata": {},
          "output_type": "execute_result"
        }
      ],
      "source": [
        "data_file = '/content/drive/MyDrive/Aiffel/data/sp_tokenizer/nsmc/ratings.txt'\n",
        "\n",
        "data = pd.read_table(data_file)\n",
        "data"
      ]
    },
    {
      "cell_type": "code",
      "execution_count": 5,
      "metadata": {
        "colab": {
          "base_uri": "https://localhost:8080/"
        },
        "id": "weJsFs13RRfJ",
        "outputId": "b88d8b84-c908-4050-9722-924177439d96"
      },
      "outputs": [
        {
          "data": {
            "text/plain": [
              "array([1, 0])"
            ]
          },
          "execution_count": 5,
          "metadata": {},
          "output_type": "execute_result"
        }
      ],
      "source": [
        "data.label.unique()"
      ]
    },
    {
      "cell_type": "code",
      "execution_count": 6,
      "metadata": {
        "colab": {
          "base_uri": "https://localhost:8080/"
        },
        "id": "Yz-qN9AATYQM",
        "outputId": "827837fa-5613-46fb-e1cc-2fb7c807bcf4"
      },
      "outputs": [
        {
          "data": {
            "text/plain": [
              "199992"
            ]
          },
          "execution_count": 6,
          "metadata": {},
          "output_type": "execute_result"
        }
      ],
      "source": [
        "data.document.isnull().sum() # 결측 데이터 확인 None은 isnull로 카운팅 되지않음\n",
        "data = data.dropna()\n",
        "len(data)"
      ]
    },
    {
      "cell_type": "code",
      "execution_count": 7,
      "metadata": {
        "colab": {
          "base_uri": "https://localhost:8080/"
        },
        "id": "JQ1P8iwSXV-C",
        "outputId": "0aecd74e-9ea7-44f6-b105-761db92364d6"
      },
      "outputs": [
        {
          "data": {
            "text/plain": [
              "5449"
            ]
          },
          "execution_count": 7,
          "metadata": {},
          "output_type": "execute_result"
        }
      ],
      "source": [
        "data['document'].duplicated().sum()"
      ]
    },
    {
      "cell_type": "code",
      "execution_count": 8,
      "metadata": {
        "colab": {
          "base_uri": "https://localhost:8080/"
        },
        "id": "BcYtLqfnT7-t",
        "outputId": "5c467bf2-0e93-4c2b-ddd5-ae65d81c8d6a"
      },
      "outputs": [
        {
          "name": "stdout",
          "output_type": "stream",
          "text": [
            "46471\n",
            "60735\n",
            "77665\n",
            "84098\n",
            "127017\n",
            "172375\n",
            "173526\n",
            "197279\n"
          ]
        },
        {
          "data": {
            "text/plain": [
              "[19, 137, 36, 54, 27, 29, 16, 27, 1, 14]"
            ]
          },
          "execution_count": 8,
          "metadata": {},
          "output_type": "execute_result"
        }
      ],
      "source": [
        "length_list = []\n",
        "for i in range(len(data.document)):\n",
        "  \n",
        "  try:\n",
        "    sen_length = len(data.document[i]) \n",
        "    length_list.append(sen_length)\n",
        "  except: print(i)\n",
        "\n",
        "length_list[:10]"
      ]
    },
    {
      "cell_type": "code",
      "execution_count": 9,
      "metadata": {
        "colab": {
          "base_uri": "https://localhost:8080/"
        },
        "id": "a41L0RnRk0jE",
        "outputId": "a58041a8-3f79-40f1-cf6e-20d7b10bc618"
      },
      "outputs": [
        {
          "data": {
            "text/plain": [
              "45"
            ]
          },
          "execution_count": 9,
          "metadata": {},
          "output_type": "execute_result"
        }
      ],
      "source": [
        "len(data.document.iloc[55737])"
      ]
    },
    {
      "cell_type": "code",
      "execution_count": 10,
      "metadata": {
        "colab": {
          "base_uri": "https://localhost:8080/"
        },
        "id": "KQ6n1Fah1gqd",
        "outputId": "d46af50a-b477-4424-d1b5-88ff98bb6c3e"
      },
      "outputs": [
        {
          "data": {
            "text/plain": [
              "194543"
            ]
          },
          "execution_count": 10,
          "metadata": {},
          "output_type": "execute_result"
        }
      ],
      "source": [
        "len(list(set(data.document)))"
      ]
    },
    {
      "cell_type": "code",
      "execution_count": 11,
      "metadata": {
        "colab": {
          "base_uri": "https://localhost:8080/",
          "height": 412
        },
        "id": "MDpAJWCvd7uD",
        "outputId": "91dcb1b3-56e4-4fe6-9586-99359a613a99"
      },
      "outputs": [
        {
          "name": "stdout",
          "output_type": "stream",
          "text": [
            "문장의 최단 길이: 1\n",
            "문장의 최장 길이: 142\n",
            "문장의 평균 길이: 36\n"
          ]
        },
        {
          "name": "stderr",
          "output_type": "stream",
          "text": [
            "/usr/local/lib/python3.7/dist-packages/ipykernel_launcher.py:15: DeprecationWarning: `np.int` is a deprecated alias for the builtin `int`. To silence this warning, use `int` by itself. Doing this will not modify any behavior and is safe. When replacing `np.int`, you may wish to use e.g. `np.int64` or `np.int32` to specify the precision. If you wish to review your current use, check the release note link for additional information.\n",
            "Deprecated in NumPy 1.20; for more details and guidance: https://numpy.org/devdocs/release/1.20.0-notes.html#deprecations\n",
            "  from ipykernel import kernelapp as app\n"
          ]
        },
        {
          "data": {
            "image/png": "[encoded data removed]",
            "text/plain": [
              "<Figure size 432x288 with 1 Axes>"
            ]
          },
          "metadata": {
            "needs_background": "light"
          },
          "output_type": "display_data"
        }
      ],
      "source": [
        "min_len = 999\n",
        "max_len = 0\n",
        "sum_len = 0\n",
        "cleaned = data.drop_duplicates(['document'])\n",
        "for s in cleaned.document:\n",
        "  length = len(s)\n",
        "  if min_len > length: min_len = length\n",
        "  if max_len < length: max_len = length\n",
        "  sum_len += length\n",
        "\n",
        "print(\"문장의 최단 길이:\",min_len)\n",
        "print(\"문장의 최장 길이:\",max_len)\n",
        "print(\"문장의 평균 길이:\",sum_len//len(cleaned.document))\n",
        "\n",
        "sentence_length = np.zeros((max_len), dtype=np.int)\n",
        "\n",
        "for s in cleaned.document:\n",
        "  sentence_length[len(s)-1] += 1\n",
        "\n",
        "plt.bar(range(max_len),sentence_length,width=1.0)\n",
        "plt.title(\"Sentence Length Distribution\")\n",
        "plt.show()"
      ]
    },
    {
      "cell_type": "code",
      "execution_count": 12,
      "metadata": {
        "colab": {
          "base_uri": "https://localhost:8080/"
        },
        "id": "8AyRoBNyhEX7",
        "outputId": "25c19ec7-b087-4605-b330-bd0fdc7951cd"
      },
      "outputs": [
        {
          "name": "stdout",
          "output_type": "stream",
          "text": [
            "내용이너무좋아요.ㅎ\n",
            "뀰잼이다뀰잼이라구여\n",
            "13살이엇냐?...\n",
            "알파치노 연기때문에\n",
            "이물감. 시 같았다\n",
            "매력적인 영화...\n",
            "이거 재밌는데...\n",
            ".겁쟁이페달보고싶다\n",
            "한국 영화치고 좋다\n",
            "정말 멋진 결말!ㅎ\n",
            "너무 잘 봣어요..\n"
          ]
        }
      ],
      "source": [
        "def check_sentence_with_length(raw,length):    \n",
        "  cnt = 0\n",
        "\n",
        "  for s in raw:\n",
        "    if len(s) == length:\n",
        "      print(s)\n",
        "      cnt += 1\n",
        "      if cnt > 10: return\n",
        "\n",
        "check_sentence_with_length(cleaned.document,10)"
      ]
    },
    {
      "cell_type": "code",
      "execution_count": 13,
      "metadata": {
        "colab": {
          "base_uri": "https://localhost:8080/"
        },
        "id": "KdUYL4Zchfs6",
        "outputId": "ca9710de-3fe6-4218-9ca9-2f0eb0728bd4"
      },
      "outputs": [
        {
          "name": "stdout",
          "output_type": "stream",
          "text": [
            "1 문장길이: 124\n",
            "2 문장길이: 460\n",
            "3 문장길이: 793\n",
            "4 문장길이: 1222\n",
            "5 문장길이: 1469\n",
            "6 문장길이: 1882\n",
            "7 문장길이: 2187\n",
            "8 문장길이: 2270\n",
            "9 문장길이: 2440\n",
            "10 문장길이: 3379\n",
            "11 문장길이: 4459\n"
          ]
        }
      ],
      "source": [
        "for idx, _sum in enumerate(sentence_length):\n",
        "    # 문장의 수가 1500을 초과하는 문장 길이를 추출합니다.\n",
        "    if idx <= 10:\n",
        "        print(f\"{idx+1} 문장길이:\", _sum)"
      ]
    },
    {
      "cell_type": "code",
      "execution_count": 14,
      "metadata": {
        "colab": {
          "base_uri": "https://localhost:8080/",
          "height": 356
        },
        "id": "JvDyH0hsh6vO",
        "outputId": "68bf3751-d17e-4e0f-99ec-43c0dd2069a1"
      },
      "outputs": [
        {
          "name": "stderr",
          "output_type": "stream",
          "text": [
            "/usr/local/lib/python3.7/dist-packages/ipykernel_launcher.py:5: DeprecationWarning: `np.int` is a deprecated alias for the builtin `int`. To silence this warning, use `int` by itself. Doing this will not modify any behavior and is safe. When replacing `np.int`, you may wish to use e.g. `np.int64` or `np.int32` to specify the precision. If you wish to review your current use, check the release note link for additional information.\n",
            "Deprecated in NumPy 1.20; for more details and guidance: https://numpy.org/devdocs/release/1.20.0-notes.html#deprecations\n",
            "  \"\"\"\n"
          ]
        },
        {
          "data": {
            "image/png": "[encoded data removed]",
            "text/plain": [
              "<Figure size 432x288 with 1 Axes>"
            ]
          },
          "metadata": {
            "needs_background": "light"
          },
          "output_type": "display_data"
        }
      ],
      "source": [
        "max_len = 140 # 미니배치 문장 길이를 맞추기 위해 Padding 처리\n",
        "min_len = 10 # 너무 짧은 데이터는 noise 가능성 있음.\n",
        "\n",
        "filtered_corpus = cleaned[(cleaned['document'].str.len() < max_len) & (cleaned['document'].str.len() >= min_len)]\n",
        "sentence_length = np.zeros((max_len),dtype=np.int)\n",
        "\n",
        "for s in filtered_corpus.document:\n",
        "  sentence_length[len(s)-1] += 1\n",
        "\n",
        "plt.bar(range(max_len),sentence_length,width=1.0)\n",
        "plt.title(\"Sentence Length Distribution\")\n",
        "plt.show()"
      ]
    },
    {
      "cell_type": "markdown",
      "metadata": {
        "id": "BbgOWatCt8eP"
      },
      "source": [
        "### SentencePiece 구성"
      ]
    },
    {
      "cell_type": "code",
      "execution_count": 15,
      "metadata": {
        "id": "z7_LdwVE6YQd"
      },
      "outputs": [],
      "source": [
        "temp_file = '/content/drive/MyDrive/Aiffel/data/sp_tokenizer/data/practice.temp'\n",
        "\n",
        "vocab_size = 8000\n",
        "\n",
        "with open(temp_file, 'w') as f:\n",
        "    for row in filtered_corpus.document:   # 이전 스텝에서 정제했던 corpus를 활용합니다.\n",
        "        f.write(str(row) + '\\n')\n",
        "\n",
        "# vocab size=8000, model_type=unigram\n",
        "spm.SentencePieceTrainer.Train(\n",
        "    '--input={} --model_prefix=kor_spm_unigram_8k --vocab_size={}'.format(temp_file, vocab_size)    \n",
        ")\n",
        "\n",
        "# vocab size=8000, model_type=bpe\n",
        "spm.SentencePieceTrainer.Train(\n",
        "    '--input={} --model_prefix=kor_spm_bpe_8k --model_type=bpe --vocab_size={} --bos_id=1 --eos_id=2 --unk_id=0'.format(temp_file, vocab_size)    \n",
        ")\n",
        "\n",
        "# vocab size = 16000, model_type=bpe\n",
        "spm.SentencePieceTrainer.Train(\n",
        "    '--input={} --model_prefix=kor_spm_bpe_16k --model_type=bpe --vocab_size={} --bos_id=1 --eos_id=2 --unk_id=0'.format(temp_file, vocab_size*2)    \n",
        ")\n",
        "# vocab size=8000, model_type=char\n",
        "spm.SentencePieceTrainer.Train(\n",
        "    '--input={} --model_prefix=kor_spm_char_8k --model_type=char --vocab_size={} --bos_id=1 --eos_id=2 --unk_id=0'.format(temp_file, vocab_size)    \n",
        ")\n",
        "# vocab size=8000, model_type=word\n",
        "spm.SentencePieceTrainer.Train(\n",
        "    '--input={} --model_prefix=kor_spm_word_8k --model_type=word --vocab_size={} --bos_id=1 --eos_id=2 --unk_id=0'.format(temp_file, vocab_size)    \n",
        ")\n"
      ]
    },
    {
      "cell_type": "code",
      "execution_count": 16,
      "metadata": {
        "colab": {
          "base_uri": "https://localhost:8080/"
        },
        "id": "irRVuSDeW9wR",
        "outputId": "6820f7d4-471e-45c8-caaa-746751b1f882"
      },
      "outputs": [
        {
          "name": "stdout",
          "output_type": "stream",
          "text": [
            "-rw-r--r-- 1 root root 4097368 Jul 11 11:51 kor_spm_unigram_8k_best_model_lstm.h5\n",
            "-rw-r--r-- 1 root root  374904 Jul 11 14:04 kor_spm_unigram_8k.model\n",
            "-rw-r--r-- 1 root root  144373 Jul 11 14:04 kor_spm_unigram_8k.vocab\n",
            "-rw-r--r-- 1 root root 4097368 Jul 11 11:54 kor_spm_bpe_8k_best_model_lstm.h5\n",
            "-rw-r--r-- 1 root root  370381 Jul 11 14:04 kor_spm_bpe_8k.model\n",
            "-rw-r--r-- 1 root root  115574 Jul 11 14:04 kor_spm_bpe_8k.vocab\n",
            "-rw-r--r-- 1 root root 4097368 Jul 11 11:57 kor_spm_bpe_16k_best_model_lstm.h5\n",
            "-rw-r--r-- 1 root root  523576 Jul 11 14:05 kor_spm_bpe_16k.model\n",
            "-rw-r--r-- 1 root root  258765 Jul 11 14:05 kor_spm_bpe_16k.vocab\n",
            "-rw-r--r-- 1 root root 4097368 Jul 11 12:03 kor_spm_char_8k_best_model_lstm.h5\n",
            "-rw-r--r-- 1 root root  258103 Jul 11 14:05 kor_spm_char_8k.model\n",
            "-rw-r--r-- 1 root root   21952 Jul 11 14:05 kor_spm_char_8k.vocab\n",
            "-rw-r--r-- 1 root root 4097368 Jul 11 12:07 kor_spm_word_8k_best_model_lstm.h5\n",
            "-rw-r--r-- 1 root root  406238 Jul 11 14:05 kor_spm_word_8k.model\n",
            "-rw-r--r-- 1 root root  175599 Jul 11 14:05 kor_spm_word_8k.vocab\n"
          ]
        }
      ],
      "source": [
        "!ls -l kor_spm_unigram_8k*\n",
        "!ls -l kor_spm_bpe_8k*\n",
        "!ls -l kor_spm_bpe_16k*\n",
        "!ls -l kor_spm_char_8k*\n",
        "!ls -l kor_spm_word_8k*"
      ]
    },
    {
      "cell_type": "code",
      "execution_count": 17,
      "metadata": {
        "colab": {
          "base_uri": "https://localhost:8080/",
          "height": 363
        },
        "id": "fynLVmKJUMzv",
        "outputId": "d7b717b0-f12d-4dbf-86ad-cad17c54bd7b"
      },
      "outputs": [
        {
          "data": {
            "text/html": [
              "\n",
              "  <div id=\"df-650d03a2-33ce-44f7-bd7a-dc11cd8ce2e2\">\n",
              "    <div class=\"colab-df-container\">\n",
              "      <div>\n",
              "<style scoped>\n",
              "    .dataframe tbody tr th:only-of-type {\n",
              "        vertical-align: middle;\n",
              "    }\n",
              "\n",
              "    .dataframe tbody tr th {\n",
              "        vertical-align: top;\n",
              "    }\n",
              "\n",
              "    .dataframe thead th {\n",
              "        text-align: right;\n",
              "    }\n",
              "</style>\n",
              "<table border=\"1\" class=\"dataframe\">\n",
              "  <thead>\n",
              "    <tr style=\"text-align: right;\">\n",
              "      <th></th>\n",
              "      <th>0</th>\n",
              "      <th>1</th>\n",
              "    </tr>\n",
              "  </thead>\n",
              "  <tbody>\n",
              "    <tr>\n",
              "      <th>0</th>\n",
              "      <td>&lt;unk&gt;</td>\n",
              "      <td>0</td>\n",
              "    </tr>\n",
              "    <tr>\n",
              "      <th>1</th>\n",
              "      <td>&lt;s&gt;</td>\n",
              "      <td>0</td>\n",
              "    </tr>\n",
              "    <tr>\n",
              "      <th>2</th>\n",
              "      <td>&lt;/s&gt;</td>\n",
              "      <td>0</td>\n",
              "    </tr>\n",
              "    <tr>\n",
              "      <th>3</th>\n",
              "      <td>..</td>\n",
              "      <td>0</td>\n",
              "    </tr>\n",
              "    <tr>\n",
              "      <th>4</th>\n",
              "      <td>영화</td>\n",
              "      <td>-1</td>\n",
              "    </tr>\n",
              "    <tr>\n",
              "      <th>5</th>\n",
              "      <td>▁영화</td>\n",
              "      <td>-2</td>\n",
              "    </tr>\n",
              "    <tr>\n",
              "      <th>6</th>\n",
              "      <td>▁이</td>\n",
              "      <td>-3</td>\n",
              "    </tr>\n",
              "    <tr>\n",
              "      <th>7</th>\n",
              "      <td>▁아</td>\n",
              "      <td>-4</td>\n",
              "    </tr>\n",
              "    <tr>\n",
              "      <th>8</th>\n",
              "      <td>...</td>\n",
              "      <td>-5</td>\n",
              "    </tr>\n",
              "    <tr>\n",
              "      <th>9</th>\n",
              "      <td>▁그</td>\n",
              "      <td>-6</td>\n",
              "    </tr>\n",
              "  </tbody>\n",
              "</table>\n",
              "</div>\n",
              "      <button class=\"colab-df-convert\" onclick=\"convertToInteractive('df-650d03a2-33ce-44f7-bd7a-dc11cd8ce2e2')\"\n",
              "              title=\"Convert this dataframe to an interactive table.\"\n",
              "              style=\"display:none;\">\n",
              "        \n",
              "  <svg xmlns=\"http://www.w3.org/2000/svg\" height=\"24px\"viewBox=\"0 0 24 24\"\n",
              "       width=\"24px\">\n",
              "    <path d=\"M0 0h24v24H0V0z\" fill=\"none\"/>\n",
              "    <path d=\"M18.56 5.44l.94 2.06.94-2.06 2.06-.94-2.06-.94-.94-2.06-.94 2.06-2.06.94zm-11 1L8.5 8.5l.94-2.06 2.06-.94-2.06-.94L8.5 2.5l-.94 2.06-2.06.94zm10 10l.94 2.06.94-2.06 2.06-.94-2.06-.94-.94-2.06-.94 2.06-2.06.94z\"/><path d=\"M17.41 7.96l-1.37-1.37c-.4-.4-.92-.59-1.43-.59-.52 0-1.04.2-1.43.59L10.3 9.45l-7.72 7.72c-.78.78-.78 2.05 0 2.83L4 21.41c.39.39.9.59 1.41.59.51 0 1.02-.2 1.41-.59l7.78-7.78 2.81-2.81c.8-.78.8-2.07 0-2.86zM5.41 20L4 18.59l7.72-7.72 1.47 1.35L5.41 20z\"/>\n",
              "  </svg>\n",
              "      </button>\n",
              "      \n",
              "  <style>\n",
              "    .colab-df-container {\n",
              "      display:flex;\n",
              "      flex-wrap:wrap;\n",
              "      gap: 12px;\n",
              "    }\n",
              "\n",
              "    .colab-df-convert {\n",
              "      background-color: #E8F0FE;\n",
              "      border: none;\n",
              "      border-radius: 50%;\n",
              "      cursor: pointer;\n",
              "      display: none;\n",
              "      fill: #1967D2;\n",
              "      height: 32px;\n",
              "      padding: 0 0 0 0;\n",
              "      width: 32px;\n",
              "    }\n",
              "\n",
              "    .colab-df-convert:hover {\n",
              "      background-color: #E2EBFA;\n",
              "      box-shadow: 0px 1px 2px rgba(60, 64, 67, 0.3), 0px 1px 3px 1px rgba(60, 64, 67, 0.15);\n",
              "      fill: #174EA6;\n",
              "    }\n",
              "\n",
              "    [theme=dark] .colab-df-convert {\n",
              "      background-color: #3B4455;\n",
              "      fill: #D2E3FC;\n",
              "    }\n",
              "\n",
              "    [theme=dark] .colab-df-convert:hover {\n",
              "      background-color: #434B5C;\n",
              "      box-shadow: 0px 1px 3px 1px rgba(0, 0, 0, 0.15);\n",
              "      filter: drop-shadow(0px 1px 2px rgba(0, 0, 0, 0.3));\n",
              "      fill: #FFFFFF;\n",
              "    }\n",
              "  </style>\n",
              "\n",
              "      <script>\n",
              "        const buttonEl =\n",
              "          document.querySelector('#df-650d03a2-33ce-44f7-bd7a-dc11cd8ce2e2 button.colab-df-convert');\n",
              "        buttonEl.style.display =\n",
              "          google.colab.kernel.accessAllowed ? 'block' : 'none';\n",
              "\n",
              "        async function convertToInteractive(key) {\n",
              "          const element = document.querySelector('#df-650d03a2-33ce-44f7-bd7a-dc11cd8ce2e2');\n",
              "          const dataTable =\n",
              "            await google.colab.kernel.invokeFunction('convertToInteractive',\n",
              "                                                     [key], {});\n",
              "          if (!dataTable) return;\n",
              "\n",
              "          const docLinkHtml = 'Like what you see? Visit the ' +\n",
              "            '<a target=\"_blank\" href=https://colab.research.google.com/notebooks/data_table.ipynb>data table notebook</a>'\n",
              "            + ' to learn more about interactive tables.';\n",
              "          element.innerHTML = '';\n",
              "          dataTable['output_type'] = 'display_data';\n",
              "          await google.colab.output.renderOutput(dataTable, element);\n",
              "          const docLink = document.createElement('div');\n",
              "          docLink.innerHTML = docLinkHtml;\n",
              "          element.appendChild(docLink);\n",
              "        }\n",
              "      </script>\n",
              "    </div>\n",
              "  </div>\n",
              "  "
            ],
            "text/plain": [
              "       0  1\n",
              "0  <unk>  0\n",
              "1    <s>  0\n",
              "2   </s>  0\n",
              "3     ..  0\n",
              "4     영화 -1\n",
              "5    ▁영화 -2\n",
              "6     ▁이 -3\n",
              "7     ▁아 -4\n",
              "8    ... -5\n",
              "9     ▁그 -6"
            ]
          },
          "execution_count": 17,
          "metadata": {},
          "output_type": "execute_result"
        }
      ],
      "source": [
        "vocab_file = '/content/kor_spm_bpe_8k.vocab'\n",
        "# vocab_list = pd.read_csv(vocab_file, sep='\\t')\n",
        "vocab_list = pd.read_csv(vocab_file, sep='\\t', header=None, quoting=csv.QUOTE_NONE)\n",
        "vocab_list[:10]"
      ]
    },
    {
      "cell_type": "code",
      "execution_count": 18,
      "metadata": {
        "id": "HfZQJYrVojdG"
      },
      "outputs": [],
      "source": [
        "def sentence_print(model):\n",
        "#sentencePiece 확인\n",
        "  s = spm.SentencePieceProcessor()\n",
        "  s.Load(f'{model}.model')\n",
        "\n",
        "  # SentencePiece를 활용한 sentence -> encoding\n",
        "  tokensIDs = s.EncodeAsIds('아버지가방에들어가신다.')\n",
        "  print(tokensIDs)\n",
        "\n",
        "  # SentencePiece를 활용한 sentence -> encoded pieces\n",
        "  print(s.SampleEncodeAsPieces('아버지가방에들어가신다.',1, 0.0))\n",
        "\n",
        "  # SentencePiece를 활용한 encoding -> sentence 복원\n",
        "  print(s.DecodeIds(tokensIDs))"
      ]
    },
    {
      "cell_type": "code",
      "execution_count": 19,
      "metadata": {
        "colab": {
          "base_uri": "https://localhost:8080/"
        },
        "id": "d-6xBKOjecoG",
        "outputId": "6f569435-4afd-4dee-b4ed-7ec338c175ed"
      },
      "outputs": [
        {
          "name": "stdout",
          "output_type": "stream",
          "text": [
            "[1391, 9, 384, 15, 1331, 9, 148, 17, 4]\n",
            "['▁아버지', '가', '방', '에', '들어', '가', '신', '다', '.']\n",
            "아버지가방에들어가신다.\n"
          ]
        }
      ],
      "source": [
        "sentence_print('kor_spm_unigram_8k')"
      ]
    },
    {
      "cell_type": "code",
      "execution_count": 20,
      "metadata": {
        "colab": {
          "base_uri": "https://localhost:8080/"
        },
        "id": "mMknXLQCc9WX",
        "outputId": "59256452-c369-4c61-f062-4479b9ae1cb6"
      },
      "outputs": [
        {
          "name": "stdout",
          "output_type": "stream",
          "text": [
            "[4940, 862, 6552, 6299, 1405, 6295, 6396, 6289, 6287]\n",
            "['▁아버', '지가', '방', '에', '들어', '가', '신', '다', '.']\n",
            "아버지가방에들어가신다.\n"
          ]
        }
      ],
      "source": [
        "sentence_print('kor_spm_bpe_8k')"
      ]
    },
    {
      "cell_type": "code",
      "execution_count": 21,
      "metadata": {
        "colab": {
          "base_uri": "https://localhost:8080/"
        },
        "id": "VvBqHQoKci5R",
        "outputId": "4af23081-1e5a-4347-b78a-bc9029b2c081"
      },
      "outputs": [
        {
          "name": "stdout",
          "output_type": "stream",
          "text": [
            "[7631, 11655, 1405, 14295, 13650, 14287]\n",
            "['▁아버지가', '방에', '들어', '가', '신다', '.']\n",
            "아버지가방에들어가신다.\n"
          ]
        }
      ],
      "source": [
        "sentence_print('kor_spm_bpe_16k')"
      ]
    },
    {
      "cell_type": "code",
      "execution_count": 22,
      "metadata": {
        "colab": {
          "base_uri": "https://localhost:8080/"
        },
        "id": "8ZfmcNKfcslm",
        "outputId": "c87afdc5-6046-4988-ef66-c01e013a5efb"
      },
      "outputs": [
        {
          "name": "stdout",
          "output_type": "stream",
          "text": [
            "[3, 15, 189, 9, 12, 269, 16, 35, 22, 12, 113, 6, 4]\n",
            "[]\n",
            "아버지가방에들어가신다.\n"
          ]
        }
      ],
      "source": [
        "sentence_print('kor_spm_char_8k')# 제외"
      ]
    },
    {
      "cell_type": "code",
      "execution_count": 23,
      "metadata": {
        "colab": {
          "base_uri": "https://localhost:8080/"
        },
        "id": "2i3LjH3OdMlI",
        "outputId": "4467ab62-fc75-40cc-91a9-f95b50739725"
      },
      "outputs": [
        {
          "name": "stdout",
          "output_type": "stream",
          "text": [
            "[0]\n",
            "[]\n",
            " ⁇ \n"
          ]
        }
      ],
      "source": [
        "sentence_print('kor_spm_word_8k') # 제외"
      ]
    },
    {
      "cell_type": "code",
      "execution_count": 24,
      "metadata": {
        "id": "BBJPrMSSTUen"
      },
      "outputs": [],
      "source": [
        "def sp_tokenize(corpus,sp):\n",
        "    s = spm.SentencePieceProcessor()\n",
        "    s.Load(f'{sp}.model')\n",
        "    tensor = []\n",
        "\n",
        "    for sen in corpus:\n",
        "        tensor.append(s.EncodeAsIds(sen))\n",
        "\n",
        "    with open(f\"{sp}.vocab\", 'r') as f:\n",
        "        vocab = f.readlines()\n",
        "\n",
        "    word_index = {}\n",
        "    index_word = {}\n",
        "\n",
        "    for idx, line in enumerate(vocab):\n",
        "        word = line.split(\"\\t\")[0]\n",
        "\n",
        "        word_index.update({idx:word})\n",
        "        index_word.update({word:idx})\n",
        "\n",
        "    tensor = tf.keras.preprocessing.sequence.pad_sequences(tensor, padding='pre',maxlen=max_len)\n",
        "\n",
        "    return tensor, word_index, index_word"
      ]
    },
    {
      "cell_type": "markdown",
      "metadata": {
        "id": "QgfxPkt0uDpu"
      },
      "source": [
        "### LSTM 모델 훈련"
      ]
    },
    {
      "cell_type": "code",
      "execution_count": 30,
      "metadata": {
        "id": "dIVwrZ7Mmf7F"
      },
      "outputs": [],
      "source": [
        "def sentence_lstm(sp,vocab_size=8000,word_vector_dim=32):\n",
        "\n",
        "  tensor, word_index, index_word = sp_tokenize(filtered_corpus['document'],sp)\n",
        "\n",
        "  #data split\n",
        "  filtered_label = np.array(filtered_corpus['label'])\n",
        "  x_train, x_test, y_train, y_test = train_test_split(tensor, filtered_label, test_size=0.2)\n",
        "\n",
        "  vocab_size = vocab_size    # 어휘 사전의 크기입니다(10,000개의 단어)\n",
        "  word_vector_dim = word_vector_dim  # 워드 벡터의 차원 수 (변경 가능한 하이퍼파라미터)\n",
        "\n",
        "  #model\n",
        "  model = tf.keras.Sequential()\n",
        "  model.add(tf.keras.layers.Embedding(vocab_size, word_vector_dim))\n",
        "  model.add(tf.keras.layers.LSTM(128))\n",
        "  model.add(tf.keras.layers.Dense(1, activation='sigmoid'))\n",
        "  model.summary()\n",
        "  \n",
        "  model.compile(optimizer='adam', loss='binary_crossentropy', metrics=['accuracy'])\n",
        "  early = EarlyStopping(monitor='val_loss', mode='min', verbose=1, patience=5)\n",
        "  check = ModelCheckpoint(f'{sp}_best_model_lstm.h5', monitor='val_acc', mode='max', verbose=1, save_bast_only=True)\n",
        "  epochs=20\n",
        "  batch_size=64\n",
        "\n",
        "  lstm_history = model.fit(x_train,\n",
        "                    y_train,\n",
        "                    epochs=epochs,\n",
        "                    batch_size=batch_size,\n",
        "                    validation_split=0.2,\n",
        "                    callbacks=[early,check],\n",
        "                    verbose=1\n",
        "                    )\n",
        "  \n",
        "  loaded_model = load_model(f'{i}_best_model_lstm.h5')\n",
        "  print(f\"\\n {i} 테스트 정확도: %.4f\" % (loaded_model.evaluate(x_test, y_test)[1]))\n",
        "  test_loss.append(loaded_model.evaluate(x_test, y_test)[0])\n",
        "  test_acc.append(loaded_model.evaluate(x_test, y_test)[1])\n",
        "\n",
        "  visualize_train(lstm_history, param = f'{sp}')"
      ]
    },
    {
      "cell_type": "code",
      "execution_count": 31,
      "metadata": {
        "id": "uBVRZpUuVKFd"
      },
      "outputs": [],
      "source": [
        "def visualize_train(train_history, param):\n",
        "    # summarize history for accuracy\n",
        "    plt.plot(train_history.history['accuracy'])\n",
        "    plt.plot(train_history.history['val_accuracy'])\n",
        "    plt.title('{}_accuracy'.format(param))\n",
        "    plt.ylabel('accuracy')\n",
        "    plt.xlabel('epoch')\n",
        "    plt.legend(['train', 'val'], loc='upper left')\n",
        "    plt.show()\n",
        "    # summarize history for loss\n",
        "    plt.plot(train_history.history['loss'])\n",
        "    plt.plot(train_history.history['val_loss'])\n",
        "    plt.title('{}_loss'.format(param))\n",
        "    plt.ylabel('loss')\n",
        "    plt.xlabel('epoch')\n",
        "    plt.legend(['train', 'val'], loc='upper left')\n",
        "    plt.show()"
      ]
    },
    {
      "cell_type": "code",
      "execution_count": 32,
      "metadata": {
        "colab": {
          "base_uri": "https://localhost:8080/",
          "height": 1000
        },
        "id": "ILPgeXD1Jd0C",
        "outputId": "29856dfc-668c-45e1-ab60-e5cad50e8528"
      },
      "outputs": [
        {
          "name": "stdout",
          "output_type": "stream",
          "text": [
            "Model: \"sequential_1\"\n",
            "_________________________________________________________________\n",
            " Layer (type)                Output Shape              Param #   \n",
            "=================================================================\n",
            " embedding_1 (Embedding)     (None, None, 32)          256000    \n",
            "                                                                 \n",
            " lstm_1 (LSTM)               (None, 128)               82432     \n",
            "                                                                 \n",
            " dense_1 (Dense)             (None, 1)                 129       \n",
            "                                                                 \n",
            "=================================================================\n",
            "Total params: 338,561\n",
            "Trainable params: 338,561\n",
            "Non-trainable params: 0\n",
            "_________________________________________________________________\n",
            "Epoch 1/20\n",
            "1803/1804 [============================>.] - ETA: 0s - loss: 0.4018 - accuracy: 0.8160\n",
            "Epoch 1: saving model to kor_spm_unigram_8k_best_model_lstm.h5\n",
            "1804/1804 [==============================] - 23s 12ms/step - loss: 0.4018 - accuracy: 0.8160 - val_loss: 0.3493 - val_accuracy: 0.8457\n",
            "Epoch 2/20\n",
            "1802/1804 [============================>.] - ETA: 0s - loss: 0.3091 - accuracy: 0.8669\n",
            "Epoch 2: saving model to kor_spm_unigram_8k_best_model_lstm.h5\n",
            "1804/1804 [==============================] - 21s 12ms/step - loss: 0.3092 - accuracy: 0.8669 - val_loss: 0.3284 - val_accuracy: 0.8554\n",
            "Epoch 3/20\n",
            "1802/1804 [============================>.] - ETA: 0s - loss: 0.2743 - accuracy: 0.8837\n",
            "Epoch 3: saving model to kor_spm_unigram_8k_best_model_lstm.h5\n",
            "1804/1804 [==============================] - 22s 12ms/step - loss: 0.2745 - accuracy: 0.8837 - val_loss: 0.3263 - val_accuracy: 0.8578\n",
            "Epoch 4/20\n",
            "1803/1804 [============================>.] - ETA: 0s - loss: 0.2444 - accuracy: 0.8968\n",
            "Epoch 4: saving model to kor_spm_unigram_8k_best_model_lstm.h5\n",
            "1804/1804 [==============================] - 22s 12ms/step - loss: 0.2444 - accuracy: 0.8969 - val_loss: 0.3368 - val_accuracy: 0.8542\n",
            "Epoch 5/20\n",
            "1801/1804 [============================>.] - ETA: 0s - loss: 0.2142 - accuracy: 0.9116\n",
            "Epoch 5: saving model to kor_spm_unigram_8k_best_model_lstm.h5\n",
            "1804/1804 [==============================] - 22s 12ms/step - loss: 0.2141 - accuracy: 0.9117 - val_loss: 0.3622 - val_accuracy: 0.8564\n",
            "Epoch 6/20\n",
            "1802/1804 [============================>.] - ETA: 0s - loss: 0.1872 - accuracy: 0.9234\n",
            "Epoch 6: saving model to kor_spm_unigram_8k_best_model_lstm.h5\n",
            "1804/1804 [==============================] - 22s 12ms/step - loss: 0.1872 - accuracy: 0.9234 - val_loss: 0.3888 - val_accuracy: 0.8539\n",
            "Epoch 7/20\n",
            "1803/1804 [============================>.] - ETA: 0s - loss: 0.1624 - accuracy: 0.9347\n",
            "Epoch 7: saving model to kor_spm_unigram_8k_best_model_lstm.h5\n",
            "1804/1804 [==============================] - 21s 12ms/step - loss: 0.1624 - accuracy: 0.9346 - val_loss: 0.4113 - val_accuracy: 0.8482\n",
            "Epoch 8/20\n",
            "1804/1804 [==============================] - ETA: 0s - loss: 0.1388 - accuracy: 0.9457\n",
            "Epoch 8: saving model to kor_spm_unigram_8k_best_model_lstm.h5\n",
            "1804/1804 [==============================] - 21s 12ms/step - loss: 0.1388 - accuracy: 0.9457 - val_loss: 0.4550 - val_accuracy: 0.8462\n",
            "Epoch 8: early stopping\n",
            "1128/1128 [==============================] - 6s 5ms/step - loss: 0.4539 - accuracy: 0.8434\n",
            "\n",
            " kor_spm_unigram_8k 테스트 정확도: 0.8434\n",
            "1128/1128 [==============================] - 5s 5ms/step - loss: 0.4539 - accuracy: 0.8434\n",
            "1128/1128 [==============================] - 5s 5ms/step - loss: 0.4539 - accuracy: 0.8434\n"
          ]
        },
        {
          "data": {
            "image/png": "[encoded data removed]",
            "text/plain": [
              "<Figure size 432x288 with 1 Axes>"
            ]
          },
          "metadata": {
            "needs_background": "light"
          },
          "output_type": "display_data"
        },
        {
          "data": {
            "image/png": "[encoded data removed]",
            "text/plain": [
              "<Figure size 432x288 with 1 Axes>"
            ]
          },
          "metadata": {
            "needs_background": "light"
          },
          "output_type": "display_data"
        },
        {
          "name": "stdout",
          "output_type": "stream",
          "text": [
            "===============================================================================================\n",
            "Model: \"sequential_2\"\n",
            "_________________________________________________________________\n",
            " Layer (type)                Output Shape              Param #   \n",
            "=================================================================\n",
            " embedding_2 (Embedding)     (None, None, 32)          256000    \n",
            "                                                                 \n",
            " lstm_2 (LSTM)               (None, 128)               82432     \n",
            "                                                                 \n",
            " dense_2 (Dense)             (None, 1)                 129       \n",
            "                                                                 \n",
            "=================================================================\n",
            "Total params: 338,561\n",
            "Trainable params: 338,561\n",
            "Non-trainable params: 0\n",
            "_________________________________________________________________\n",
            "Epoch 1/20\n",
            "1800/1804 [============================>.] - ETA: 0s - loss: 0.3961 - accuracy: 0.8180\n",
            "Epoch 1: saving model to kor_spm_bpe_8k_best_model_lstm.h5\n",
            "1804/1804 [==============================] - 23s 12ms/step - loss: 0.3960 - accuracy: 0.8181 - val_loss: 0.3403 - val_accuracy: 0.8519\n",
            "Epoch 2/20\n",
            "1802/1804 [============================>.] - ETA: 0s - loss: 0.3098 - accuracy: 0.8660\n",
            "Epoch 2: saving model to kor_spm_bpe_8k_best_model_lstm.h5\n",
            "1804/1804 [==============================] - 22s 12ms/step - loss: 0.3097 - accuracy: 0.8660 - val_loss: 0.3266 - val_accuracy: 0.8584\n",
            "Epoch 3/20\n",
            "1800/1804 [============================>.] - ETA: 0s - loss: 0.2694 - accuracy: 0.8849\n",
            "Epoch 3: saving model to kor_spm_bpe_8k_best_model_lstm.h5\n",
            "1804/1804 [==============================] - 21s 12ms/step - loss: 0.2694 - accuracy: 0.8849 - val_loss: 0.3222 - val_accuracy: 0.8588\n",
            "Epoch 4/20\n",
            "1802/1804 [============================>.] - ETA: 0s - loss: 0.2372 - accuracy: 0.9004\n",
            "Epoch 4: saving model to kor_spm_bpe_8k_best_model_lstm.h5\n",
            "1804/1804 [==============================] - 21s 12ms/step - loss: 0.2373 - accuracy: 0.9003 - val_loss: 0.3382 - val_accuracy: 0.8560\n",
            "Epoch 5/20\n",
            "1800/1804 [============================>.] - ETA: 0s - loss: 0.2114 - accuracy: 0.9129\n",
            "Epoch 5: saving model to kor_spm_bpe_8k_best_model_lstm.h5\n",
            "1804/1804 [==============================] - 21s 12ms/step - loss: 0.2114 - accuracy: 0.9130 - val_loss: 0.3734 - val_accuracy: 0.8516\n",
            "Epoch 6/20\n",
            "1804/1804 [==============================] - ETA: 0s - loss: 0.1860 - accuracy: 0.9248\n",
            "Epoch 6: saving model to kor_spm_bpe_8k_best_model_lstm.h5\n",
            "1804/1804 [==============================] - 21s 12ms/step - loss: 0.1860 - accuracy: 0.9248 - val_loss: 0.3922 - val_accuracy: 0.8453\n",
            "Epoch 7/20\n",
            "1801/1804 [============================>.] - ETA: 0s - loss: 0.1611 - accuracy: 0.9366\n",
            "Epoch 7: saving model to kor_spm_bpe_8k_best_model_lstm.h5\n",
            "1804/1804 [==============================] - 21s 12ms/step - loss: 0.1611 - accuracy: 0.9367 - val_loss: 0.4214 - val_accuracy: 0.8461\n",
            "Epoch 8/20\n",
            "1801/1804 [============================>.] - ETA: 0s - loss: 0.1373 - accuracy: 0.9467\n",
            "Epoch 8: saving model to kor_spm_bpe_8k_best_model_lstm.h5\n",
            "1804/1804 [==============================] - 21s 12ms/step - loss: 0.1373 - accuracy: 0.9467 - val_loss: 0.4582 - val_accuracy: 0.8410\n",
            "Epoch 8: early stopping\n",
            "1128/1128 [==============================] - 6s 5ms/step - loss: 0.4657 - accuracy: 0.8419\n",
            "\n",
            " kor_spm_bpe_8k 테스트 정확도: 0.8419\n",
            "1128/1128 [==============================] - 6s 5ms/step - loss: 0.4657 - accuracy: 0.8419\n",
            "1128/1128 [==============================] - 6s 5ms/step - loss: 0.4657 - accuracy: 0.8419\n"
          ]
        },
        {
          "data": {
            "image/png": "[encoded data removed]",
            "text/plain": [
              "<Figure size 432x288 with 1 Axes>"
            ]
          },
          "metadata": {
            "needs_background": "light"
          },
          "output_type": "display_data"
        },
        {
          "data": {
            "image/png": "[encoded data removed]",
            "text/plain": [
              "<Figure size 432x288 with 1 Axes>"
            ]
          },
          "metadata": {
            "needs_background": "light"
          },
          "output_type": "display_data"
        },
        {
          "name": "stdout",
          "output_type": "stream",
          "text": [
            "===============================================================================================\n",
            "Model: \"sequential_3\"\n",
            "_________________________________________________________________\n",
            " Layer (type)                Output Shape              Param #   \n",
            "=================================================================\n",
            " embedding_3 (Embedding)     (None, None, 32)          256000    \n",
            "                                                                 \n",
            " lstm_3 (LSTM)               (None, 128)               82432     \n",
            "                                                                 \n",
            " dense_3 (Dense)             (None, 1)                 129       \n",
            "                                                                 \n",
            "=================================================================\n",
            "Total params: 338,561\n",
            "Trainable params: 338,561\n",
            "Non-trainable params: 0\n",
            "_________________________________________________________________\n",
            "Epoch 1/20\n",
            "1801/1804 [============================>.] - ETA: 0s - loss: 0.4153 - accuracy: 0.8056\n",
            "Epoch 1: saving model to kor_spm_bpe_16k_best_model_lstm.h5\n",
            "1804/1804 [==============================] - 24s 12ms/step - loss: 0.4152 - accuracy: 0.8056 - val_loss: 0.3672 - val_accuracy: 0.8315\n",
            "Epoch 2/20\n",
            "1801/1804 [============================>.] - ETA: 0s - loss: 0.3440 - accuracy: 0.8462\n",
            "Epoch 2: saving model to kor_spm_bpe_16k_best_model_lstm.h5\n",
            "1804/1804 [==============================] - 21s 12ms/step - loss: 0.3442 - accuracy: 0.8462 - val_loss: 0.3572 - val_accuracy: 0.8360\n",
            "Epoch 3/20\n",
            "1800/1804 [============================>.] - ETA: 0s - loss: 0.3149 - accuracy: 0.8598\n",
            "Epoch 3: saving model to kor_spm_bpe_16k_best_model_lstm.h5\n",
            "1804/1804 [==============================] - 22s 12ms/step - loss: 0.3149 - accuracy: 0.8598 - val_loss: 0.3570 - val_accuracy: 0.8391\n",
            "Epoch 4/20\n",
            "1800/1804 [============================>.] - ETA: 0s - loss: 0.2842 - accuracy: 0.8749\n",
            "Epoch 4: saving model to kor_spm_bpe_16k_best_model_lstm.h5\n",
            "1804/1804 [==============================] - 22s 12ms/step - loss: 0.2841 - accuracy: 0.8750 - val_loss: 0.3588 - val_accuracy: 0.8366\n",
            "Epoch 5/20\n",
            "1800/1804 [============================>.] - ETA: 0s - loss: 0.2562 - accuracy: 0.8883\n",
            "Epoch 5: saving model to kor_spm_bpe_16k_best_model_lstm.h5\n",
            "1804/1804 [==============================] - 22s 12ms/step - loss: 0.2561 - accuracy: 0.8884 - val_loss: 0.3831 - val_accuracy: 0.8344\n",
            "Epoch 6/20\n",
            "1803/1804 [============================>.] - ETA: 0s - loss: 0.2300 - accuracy: 0.9016\n",
            "Epoch 6: saving model to kor_spm_bpe_16k_best_model_lstm.h5\n",
            "1804/1804 [==============================] - 21s 12ms/step - loss: 0.2301 - accuracy: 0.9016 - val_loss: 0.4179 - val_accuracy: 0.8328\n",
            "Epoch 7/20\n",
            "1801/1804 [============================>.] - ETA: 0s - loss: 0.2052 - accuracy: 0.9139\n",
            "Epoch 7: saving model to kor_spm_bpe_16k_best_model_lstm.h5\n",
            "1804/1804 [==============================] - 22s 12ms/step - loss: 0.2052 - accuracy: 0.9139 - val_loss: 0.4648 - val_accuracy: 0.8270\n",
            "Epoch 8/20\n",
            "1802/1804 [============================>.] - ETA: 0s - loss: 0.1809 - accuracy: 0.9252\n",
            "Epoch 8: saving model to kor_spm_bpe_16k_best_model_lstm.h5\n",
            "1804/1804 [==============================] - 22s 12ms/step - loss: 0.1809 - accuracy: 0.9252 - val_loss: 0.5074 - val_accuracy: 0.8222\n",
            "Epoch 8: early stopping\n",
            "1128/1128 [==============================] - 6s 5ms/step - loss: 0.5089 - accuracy: 0.8198\n",
            "\n",
            " kor_spm_bpe_16k 테스트 정확도: 0.8198\n",
            "1128/1128 [==============================] - 6s 5ms/step - loss: 0.5089 - accuracy: 0.8198\n",
            "1128/1128 [==============================] - 6s 5ms/step - loss: 0.5089 - accuracy: 0.8198\n"
          ]
        },
        {
          "data": {
            "image/png": "[encoded data removed]",
            "text/plain": [
              "<Figure size 432x288 with 1 Axes>"
            ]
          },
          "metadata": {
            "needs_background": "light"
          },
          "output_type": "display_data"
        },
        {
          "data": {
            "image/png": "[encoded data removed]",
            "text/plain": [
              "<Figure size 432x288 with 1 Axes>"
            ]
          },
          "metadata": {
            "needs_background": "light"
          },
          "output_type": "display_data"
        },
        {
          "name": "stdout",
          "output_type": "stream",
          "text": [
            "===============================================================================================\n"
          ]
        }
      ],
      "source": [
        "'''\n",
        "!ls -l kor_spm_unigram_8k*\n",
        "!ls -l kor_spm_unigram_16k*\n",
        "!ls -l kor_spm_bpe_8k*\n",
        "!ls -l kor_spm_char_8k*\n",
        "!ls -l kor_spm_word_8k*\n",
        "'''\n",
        "#predict test\n",
        "test_loss = []\n",
        "test_acc = []\n",
        "\n",
        "option_list = ['kor_spm_unigram_8k','kor_spm_bpe_8k','kor_spm_bpe_16k']\n",
        "for i in option_list:\n",
        "  sentence_lstm(i)\n",
        "  print('===============================================================================================')\n",
        "  "
      ]
    },
    {
      "cell_type": "code",
      "execution_count": 33,
      "metadata": {
        "colab": {
          "base_uri": "https://localhost:8080/"
        },
        "id": "dOuO7IKkTpcz",
        "outputId": "2c80bbfe-f680-49de-a96b-6ae92ab5df68"
      },
      "outputs": [
        {
          "data": {
            "text/plain": [
              "([0.4539063572883606, 0.465746134519577, 0.5088862776756287],\n",
              " [0.8433775305747986, 0.8419082760810852, 0.8198148012161255])"
            ]
          },
          "execution_count": 33,
          "metadata": {},
          "output_type": "execute_result"
        }
      ],
      "source": [
        "test_loss,test_acc"
      ]
    },
    {
      "cell_type": "code",
      "execution_count": 34,
      "metadata": {
        "colab": {
          "base_uri": "https://localhost:8080/",
          "height": 297
        },
        "id": "7nCDLOnyaAsu",
        "outputId": "307802be-27d1-422e-9603-cece8ab27ea4"
      },
      "outputs": [
        {
          "data": {
            "image/png": "[encoded data removed]",
            "text/plain": [
              "<Figure size 432x288 with 1 Axes>"
            ]
          },
          "metadata": {
            "needs_background": "light"
          },
          "output_type": "display_data"
        }
      ],
      "source": [
        "#sentencepiece 옵션별 loss,accuracy\n",
        "labels = option_list\n",
        "\n",
        "x = np.arange(len(labels))\n",
        "width = 0.35  \n",
        "\n",
        "fig, ax = plt.subplots()\n",
        "rects1 = ax.bar(x - width/2, test_loss, width, label='loss')\n",
        "rects2 = ax.bar(x + width/2, test_acc, width, label='acc')\n",
        "\n",
        "ax.set_ylabel('Scores')\n",
        "ax.set_title('sentencePiece option comparison')\n",
        "ax.set_xticks(x)\n",
        "ax.set_xticklabels(labels)\n",
        "ax.legend()\n",
        "\n",
        "fig.tight_layout()\n",
        "\n",
        "plt.show()"
      ]
    },
    {
      "cell_type": "markdown",
      "metadata": {
        "id": "KDH2ix8PsE9v"
      },
      "source": [
        "## Mecab"
      ]
    },
    {
      "cell_type": "code",
      "execution_count": 42,
      "metadata": {
        "id": "j65Semj3bm2c"
      },
      "outputs": [],
      "source": [
        "# # 위에서 사용한 코드를 활용해 MeCab 단어 사전을 만들어보세요. \n",
        "# # Hint : mecab.morphs()를 사용해서 형태소분석을 합니다.\n",
        "mecab = Mecab()\n",
        "def mecab_split(sentence):\n",
        "  return mecab.morphs(sentence)\n",
        "\n",
        "mecab_corpus = []\n",
        "\n",
        "for kor in filtered_corpus.document:\n",
        "  mecab_corpus.append(mecab_split(kor))"
      ]
    },
    {
      "cell_type": "code",
      "execution_count": 36,
      "metadata": {
        "id": "75gTOM7ssizR"
      },
      "outputs": [],
      "source": [
        "def tokenize(corpus):  # corpus: Tokenized Sentence's List\n",
        "    tokenizer = tf.keras.preprocessing.text.Tokenizer(filters='')\n",
        "    tokenizer.fit_on_texts(corpus)\n",
        "\n",
        "    tensor = tokenizer.texts_to_sequences(corpus)\n",
        "\n",
        "    tensor = tf.keras.preprocessing.sequence.pad_sequences(tensor, padding='post')\n",
        "\n",
        "    return tensor, tokenizer"
      ]
    },
    {
      "cell_type": "code",
      "execution_count": 37,
      "metadata": {
        "colab": {
          "base_uri": "https://localhost:8080/"
        },
        "id": "dTYq8OC4pyIe",
        "outputId": "16c40405-d347-4935-f4bf-2d4e692b8fe2"
      },
      "outputs": [
        {
          "name": "stdout",
          "output_type": "stream",
          "text": [
            "MeCab Vocab Size: 59284\n"
          ]
        }
      ],
      "source": [
        "mecab_tensor, mecab_tokenizer = tokenize(mecab_corpus)\n",
        "\n",
        "print(\"MeCab Vocab Size:\", len(mecab_tokenizer.index_word))"
      ]
    },
    {
      "cell_type": "code",
      "execution_count": 38,
      "metadata": {
        "colab": {
          "base_uri": "https://localhost:8080/"
        },
        "id": "8yxbNjLTsRTi",
        "outputId": "2543a250-1458-450b-fc9b-9b82d71d8b18"
      },
      "outputs": [
        {
          "name": "stdout",
          "output_type": "stream",
          "text": [
            "인도 영화 는 역시 ! !! 스토리 , 영상 , 배우 들 의 연기 까지 뭐 하나 빠지 는 거 없이 꽉 찬 영화 ! ! 대박 감동 ~ ㅠㅠ\n"
          ]
        }
      ],
      "source": [
        "# Case 1 : tokenizer.sequences_to_texts()\n",
        "\n",
        "texts = mecab_tokenizer.sequences_to_texts([mecab_tensor[100]])\n",
        "print(texts[0])"
      ]
    },
    {
      "cell_type": "code",
      "execution_count": 39,
      "metadata": {
        "colab": {
          "base_uri": "https://localhost:8080/"
        },
        "id": "Nt6_oHIOsTfZ",
        "outputId": "f9fe58ec-512b-4506-f1f6-20c3e0d7a654"
      },
      "outputs": [
        {
          "name": "stdout",
          "output_type": "stream",
          "text": [
            "인도 영화 는 역시 ! !! 스토리 , 영상 , 배우 들 의 연기 까지 뭐 하나 빠지 는 거 없이 꽉 찬 영화 ! ! 대박 감동 ~ ㅠㅠ \n"
          ]
        }
      ],
      "source": [
        "# Case 2 : tokenizer.index_word\n",
        "\n",
        "sentence = \"\"\n",
        "\n",
        "for w in mecab_tensor[100]:\n",
        "    if w == 0: continue\n",
        "    sentence += mecab_tokenizer.index_word[w] + \" \"\n",
        "\n",
        "print(sentence)"
      ]
    },
    {
      "cell_type": "code",
      "execution_count": 40,
      "metadata": {
        "colab": {
          "base_uri": "https://localhost:8080/"
        },
        "id": "_wDXzO28t3Ae",
        "outputId": "4e130a16-9d5d-43d7-883a-6cd38229ec29"
      },
      "outputs": [
        {
          "name": "stdout",
          "output_type": "stream",
          "text": [
            "Model: \"sequential_4\"\n",
            "_________________________________________________________________\n",
            " Layer (type)                Output Shape              Param #   \n",
            "=================================================================\n",
            " embedding_4 (Embedding)     (None, None, 128)         6400000   \n",
            "                                                                 \n",
            " lstm_4 (LSTM)               (None, 128)               131584    \n",
            "                                                                 \n",
            " dense_4 (Dense)             (None, 1)                 129       \n",
            "                                                                 \n",
            "=================================================================\n",
            "Total params: 6,531,713\n",
            "Trainable params: 6,531,713\n",
            "Non-trainable params: 0\n",
            "_________________________________________________________________\n",
            "Epoch 1/20\n",
            "1804/1804 [==============================] - ETA: 0s - loss: 0.6932 - accuracy: 0.4995\n",
            "Epoch 1: saving model to mecab_best_model_lstm.h5\n",
            "1804/1804 [==============================] - 26s 14ms/step - loss: 0.6932 - accuracy: 0.4995 - val_loss: 0.6932 - val_accuracy: 0.4995\n",
            "Epoch 2/20\n",
            "1801/1804 [============================>.] - ETA: 0s - loss: 0.6932 - accuracy: 0.5029\n",
            "Epoch 2: saving model to mecab_best_model_lstm.h5\n",
            "1804/1804 [==============================] - 24s 13ms/step - loss: 0.6932 - accuracy: 0.5030 - val_loss: 0.6932 - val_accuracy: 0.4995\n",
            "Epoch 3/20\n",
            "1804/1804 [==============================] - ETA: 0s - loss: 0.6932 - accuracy: 0.5002\n",
            "Epoch 3: saving model to mecab_best_model_lstm.h5\n",
            "1804/1804 [==============================] - 24s 13ms/step - loss: 0.6932 - accuracy: 0.5002 - val_loss: 0.6932 - val_accuracy: 0.4995\n",
            "Epoch 4/20\n",
            "1802/1804 [============================>.] - ETA: 0s - loss: 0.6931 - accuracy: 0.5009\n",
            "Epoch 4: saving model to mecab_best_model_lstm.h5\n",
            "1804/1804 [==============================] - 24s 13ms/step - loss: 0.6931 - accuracy: 0.5008 - val_loss: 0.6931 - val_accuracy: 0.5005\n",
            "Epoch 5/20\n",
            "1803/1804 [============================>.] - ETA: 0s - loss: 0.6932 - accuracy: 0.4989\n",
            "Epoch 5: saving model to mecab_best_model_lstm.h5\n",
            "1804/1804 [==============================] - 24s 13ms/step - loss: 0.6932 - accuracy: 0.4989 - val_loss: 0.6931 - val_accuracy: 0.5005\n",
            "Epoch 6/20\n",
            "1800/1804 [============================>.] - ETA: 0s - loss: 0.6932 - accuracy: 0.4999\n",
            "Epoch 6: saving model to mecab_best_model_lstm.h5\n",
            "1804/1804 [==============================] - 24s 13ms/step - loss: 0.6932 - accuracy: 0.4999 - val_loss: 0.6932 - val_accuracy: 0.4995\n",
            "Epoch 7/20\n",
            "1802/1804 [============================>.] - ETA: 0s - loss: 0.6932 - accuracy: 0.5006\n",
            "Epoch 7: saving model to mecab_best_model_lstm.h5\n",
            "1804/1804 [==============================] - 23s 13ms/step - loss: 0.6932 - accuracy: 0.5005 - val_loss: 0.6933 - val_accuracy: 0.4995\n",
            "Epoch 8/20\n",
            "1802/1804 [============================>.] - ETA: 0s - loss: 0.6932 - accuracy: 0.5010\n",
            "Epoch 8: saving model to mecab_best_model_lstm.h5\n",
            "1804/1804 [==============================] - 23s 13ms/step - loss: 0.6932 - accuracy: 0.5010 - val_loss: 0.6932 - val_accuracy: 0.4995\n",
            "Epoch 9/20\n",
            "1802/1804 [============================>.] - ETA: 0s - loss: 0.6932 - accuracy: 0.4993\n",
            "Epoch 9: saving model to mecab_best_model_lstm.h5\n",
            "1804/1804 [==============================] - 23s 13ms/step - loss: 0.6932 - accuracy: 0.4993 - val_loss: 0.6932 - val_accuracy: 0.4995\n",
            "Epoch 9: early stopping\n"
          ]
        }
      ],
      "source": [
        "#data split\n",
        "filtered_label = np.array(filtered_corpus['label'])\n",
        "x_train, x_test, y_train, y_test = train_test_split(mecab_tensor, filtered_label, test_size=0.2)\n",
        "\n",
        "vocab_size = 50000    # 어휘 사전의 크기입니다(10,000개의 단어)\n",
        "word_vector_dim = 128  # 워드 벡터의 차원 수 (변경 가능한 하이퍼파라미터)\n",
        "\n",
        "#model\n",
        "model = tf.keras.Sequential()\n",
        "model.add(tf.keras.layers.Embedding(vocab_size, word_vector_dim))\n",
        "model.add(tf.keras.layers.LSTM(128))\n",
        "model.add(tf.keras.layers.Dense(1, activation='sigmoid'))\n",
        "model.summary()\n",
        "\n",
        "model.compile(optimizer='adam', loss='binary_crossentropy', metrics=['accuracy'])\n",
        "early = EarlyStopping(monitor='val_loss', mode='min', verbose=1, patience=5)\n",
        "check = ModelCheckpoint('mecab_best_model_lstm.h5', monitor='val_acc', mode='max', verbose=1, save_bast_only=True)\n",
        "epochs=20\n",
        "batch_size=64\n",
        "\n",
        "lstm_history = model.fit(x_train,\n",
        "                  y_train,\n",
        "                  epochs=epochs,\n",
        "                  batch_size=batch_size,\n",
        "                  validation_split=0.2,\n",
        "                  callbacks=[early,check],\n",
        "                  verbose=1\n",
        "                  )"
      ]
    },
    {
      "cell_type": "markdown",
      "metadata": {
        "id": "1y-7Vu7lsO1r"
      },
      "source": [
        "## 회고록\n",
        "### sentencePiece\n",
        "실험 당시 모종의 이유에 의해서(?)  acc가 50%정도밖에 나오지 않는 현상을 보였다. 지금까지의 수정결과 인스턴스로 받아왔던 변수 s = spm.SentencePieceProcessor()에서 다른 옵션을 실험할때 가장 처음에 Load했던 unigram_8k.model을 계속 사용해서 훈련을 진행한 것처럼 보였다. (실제 훈련상에서 unigram_8k를 제외한 나머지 모델들이 모두 성능이 좋지 못했다.) 이를 하나의 함수에 같이 넣어서 진행하니 완화된 모습을 보였다.  \n",
        "최종 결과는 다음과 같다. ![image.png](data:image/png;base64,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)\n",
        "\n",
        "### Mecab\n",
        "앞의 sentencepiece의 오류 잡는 시간을 너무 많이 할애해서 많은 부분을 연습해보지 못해 아쉬웠다. 기본적으로 좋은 성능을 보이는 것으로 알고있는데, 어떤 부분을 빼먹은 것인지 성능이 온전치 못했다."
      ]
    },
    {
      "cell_type": "code",
      "execution_count": null,
      "metadata": {
        "id": "6spgvNL5v2rW"
      },
      "outputs": [],
      "source": []
    }
  ],
  "metadata": {
    "accelerator": "GPU",
    "colab": {
      "authorship_tag": "ABX9TyPbM66MOKPX7wDcg1jx7sP+",
      "collapsed_sections": [],
      "include_colab_link": true,
      "mount_file_id": "1f6sZLFdnC85hO2RRf9QjnhJz75ihQbRQ",
      "name": "[GD-1]SentencePiece.ipynb",
      "provenance": [],
      "toc_visible": true
    },
    "gpuClass": "standard",
    "kernelspec": {
      "display_name": "Python 3.9.7",
      "language": "python",
      "name": "python3"
    },
    "language_info": {
      "name": "python",
      "version": "3.9.7"
    },
    "vscode": {
      "interpreter": {
        "hash": "40d3a090f54c6569ab1632332b64b2c03c39dcf918b08424e98f38b5ae0af88f"
      }
    }
  },
  "nbformat": 4,
  "nbformat_minor": 0
}
