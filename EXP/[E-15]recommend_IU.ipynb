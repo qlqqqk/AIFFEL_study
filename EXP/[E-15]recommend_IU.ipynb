{
 "cells": [
  {
   "cell_type": "markdown",
   "id": "2a6fc189",
   "metadata": {},
   "source": [
    "## MNIST Movielens data로 영화 추천하기 \n",
    "\n",
    "ratings == 시청횟수로 해석  \n",
    "ratings < 3 일경우 영화를 선호하지 않는다고 가정, 제외"
   ]
  },
  {
   "cell_type": "code",
   "execution_count": 1,
   "id": "84c898a8",
   "metadata": {},
   "outputs": [
    {
     "name": "stdout",
     "output_type": "stream",
     "text": [
      "1.21.4\n",
      "1.7.1\n",
      "0.4.8\n"
     ]
    }
   ],
   "source": [
    "import numpy as np\n",
    "import os\n",
    "import scipy\n",
    "import implicit\n",
    "from scipy.sparse import csr_matrix\n",
    "from implicit.als import AlternatingLeastSquares\n",
    "import pandas as pd\n",
    "\n",
    "print(np.__version__)\n",
    "print(scipy.__version__)\n",
    "print(implicit.__version__)"
   ]
  },
  {
   "cell_type": "markdown",
   "id": "a2f0fd4b",
   "metadata": {},
   "source": [
    "## Load data, propressing"
   ]
  },
  {
   "cell_type": "markdown",
   "id": "79440747",
   "metadata": {},
   "source": [
    "### Rating data"
   ]
  },
  {
   "cell_type": "code",
   "execution_count": 2,
   "id": "5880ea2b",
   "metadata": {},
   "outputs": [
    {
     "data": {
      "text/html": [
       "<div>\n",
       "<style scoped>\n",
       "    .dataframe tbody tr th:only-of-type {\n",
       "        vertical-align: middle;\n",
       "    }\n",
       "\n",
       "    .dataframe tbody tr th {\n",
       "        vertical-align: top;\n",
       "    }\n",
       "\n",
       "    .dataframe thead th {\n",
       "        text-align: right;\n",
       "    }\n",
       "</style>\n",
       "<table border=\"1\" class=\"dataframe\">\n",
       "  <thead>\n",
       "    <tr style=\"text-align: right;\">\n",
       "      <th></th>\n",
       "      <th>user_id</th>\n",
       "      <th>movie_id</th>\n",
       "      <th>ratings</th>\n",
       "      <th>timestamp</th>\n",
       "    </tr>\n",
       "  </thead>\n",
       "  <tbody>\n",
       "    <tr>\n",
       "      <th>0</th>\n",
       "      <td>1</td>\n",
       "      <td>1193</td>\n",
       "      <td>5</td>\n",
       "      <td>978300760</td>\n",
       "    </tr>\n",
       "    <tr>\n",
       "      <th>1</th>\n",
       "      <td>1</td>\n",
       "      <td>661</td>\n",
       "      <td>3</td>\n",
       "      <td>978302109</td>\n",
       "    </tr>\n",
       "    <tr>\n",
       "      <th>2</th>\n",
       "      <td>1</td>\n",
       "      <td>914</td>\n",
       "      <td>3</td>\n",
       "      <td>978301968</td>\n",
       "    </tr>\n",
       "    <tr>\n",
       "      <th>3</th>\n",
       "      <td>1</td>\n",
       "      <td>3408</td>\n",
       "      <td>4</td>\n",
       "      <td>978300275</td>\n",
       "    </tr>\n",
       "    <tr>\n",
       "      <th>4</th>\n",
       "      <td>1</td>\n",
       "      <td>2355</td>\n",
       "      <td>5</td>\n",
       "      <td>978824291</td>\n",
       "    </tr>\n",
       "  </tbody>\n",
       "</table>\n",
       "</div>"
      ],
      "text/plain": [
       "   user_id  movie_id  ratings  timestamp\n",
       "0        1      1193        5  978300760\n",
       "1        1       661        3  978302109\n",
       "2        1       914        3  978301968\n",
       "3        1      3408        4  978300275\n",
       "4        1      2355        5  978824291"
      ]
     },
     "execution_count": 2,
     "metadata": {},
     "output_type": "execute_result"
    }
   ],
   "source": [
    "rating_file_path=os.getenv('HOME') + '/aiffel/recommendata_iu/data/ml-1m/ratings.dat'\n",
    "ratings_cols = ['user_id', 'movie_id', 'ratings', 'timestamp']\n",
    "ratings = pd.read_csv(rating_file_path, sep='::', names=ratings_cols, engine='python', encoding = \"ISO-8859-1\")\n",
    "orginal_data_size = len(ratings)\n",
    "ratings.head()"
   ]
  },
  {
   "cell_type": "code",
   "execution_count": 3,
   "id": "ad7fc418",
   "metadata": {},
   "outputs": [
    {
     "name": "stdout",
     "output_type": "stream",
     "text": [
      "orginal_data_size: 1000209, filtered_data_size: 836478\n",
      "Ratio of Remaining Data is 83.63%\n"
     ]
    }
   ],
   "source": [
    "# 3점 이상만 남깁니다.\n",
    "ratings = ratings[ratings['ratings']>=3]\n",
    "filtered_data_size = len(ratings)\n",
    "\n",
    "print(f'orginal_data_size: {orginal_data_size}, filtered_data_size: {filtered_data_size}')\n",
    "print(f'Ratio of Remaining Data is {filtered_data_size / orginal_data_size:.2%}')"
   ]
  },
  {
   "cell_type": "code",
   "execution_count": 4,
   "id": "a501df3d",
   "metadata": {},
   "outputs": [
    {
     "data": {
      "text/plain": [
       "0          5\n",
       "1          3\n",
       "2          3\n",
       "3          4\n",
       "4          5\n",
       "          ..\n",
       "1000203    3\n",
       "1000205    5\n",
       "1000206    5\n",
       "1000207    4\n",
       "1000208    4\n",
       "Name: counts, Length: 836478, dtype: int64"
      ]
     },
     "execution_count": 4,
     "metadata": {},
     "output_type": "execute_result"
    }
   ],
   "source": [
    "# ratings 컬럼의 이름을 counts로 바꿉니다.\n",
    "ratings.rename(columns={'ratings':'counts'}, inplace=True)\n",
    "ratings['counts']"
   ]
  },
  {
   "cell_type": "code",
   "execution_count": 5,
   "id": "e28b1e4b",
   "metadata": {},
   "outputs": [
    {
     "data": {
      "text/html": [
       "<div>\n",
       "<style scoped>\n",
       "    .dataframe tbody tr th:only-of-type {\n",
       "        vertical-align: middle;\n",
       "    }\n",
       "\n",
       "    .dataframe tbody tr th {\n",
       "        vertical-align: top;\n",
       "    }\n",
       "\n",
       "    .dataframe thead th {\n",
       "        text-align: right;\n",
       "    }\n",
       "</style>\n",
       "<table border=\"1\" class=\"dataframe\">\n",
       "  <thead>\n",
       "    <tr style=\"text-align: right;\">\n",
       "      <th></th>\n",
       "      <th>user_id</th>\n",
       "      <th>movie_id</th>\n",
       "      <th>counts</th>\n",
       "      <th>timestamp</th>\n",
       "    </tr>\n",
       "  </thead>\n",
       "  <tbody>\n",
       "    <tr>\n",
       "      <th>0</th>\n",
       "      <td>1</td>\n",
       "      <td>1193</td>\n",
       "      <td>5</td>\n",
       "      <td>978300760</td>\n",
       "    </tr>\n",
       "    <tr>\n",
       "      <th>1</th>\n",
       "      <td>1</td>\n",
       "      <td>661</td>\n",
       "      <td>3</td>\n",
       "      <td>978302109</td>\n",
       "    </tr>\n",
       "    <tr>\n",
       "      <th>2</th>\n",
       "      <td>1</td>\n",
       "      <td>914</td>\n",
       "      <td>3</td>\n",
       "      <td>978301968</td>\n",
       "    </tr>\n",
       "    <tr>\n",
       "      <th>3</th>\n",
       "      <td>1</td>\n",
       "      <td>3408</td>\n",
       "      <td>4</td>\n",
       "      <td>978300275</td>\n",
       "    </tr>\n",
       "    <tr>\n",
       "      <th>4</th>\n",
       "      <td>1</td>\n",
       "      <td>2355</td>\n",
       "      <td>5</td>\n",
       "      <td>978824291</td>\n",
       "    </tr>\n",
       "    <tr>\n",
       "      <th>...</th>\n",
       "      <td>...</td>\n",
       "      <td>...</td>\n",
       "      <td>...</td>\n",
       "      <td>...</td>\n",
       "    </tr>\n",
       "    <tr>\n",
       "      <th>1000203</th>\n",
       "      <td>6040</td>\n",
       "      <td>1090</td>\n",
       "      <td>3</td>\n",
       "      <td>956715518</td>\n",
       "    </tr>\n",
       "    <tr>\n",
       "      <th>1000205</th>\n",
       "      <td>6040</td>\n",
       "      <td>1094</td>\n",
       "      <td>5</td>\n",
       "      <td>956704887</td>\n",
       "    </tr>\n",
       "    <tr>\n",
       "      <th>1000206</th>\n",
       "      <td>6040</td>\n",
       "      <td>562</td>\n",
       "      <td>5</td>\n",
       "      <td>956704746</td>\n",
       "    </tr>\n",
       "    <tr>\n",
       "      <th>1000207</th>\n",
       "      <td>6040</td>\n",
       "      <td>1096</td>\n",
       "      <td>4</td>\n",
       "      <td>956715648</td>\n",
       "    </tr>\n",
       "    <tr>\n",
       "      <th>1000208</th>\n",
       "      <td>6040</td>\n",
       "      <td>1097</td>\n",
       "      <td>4</td>\n",
       "      <td>956715569</td>\n",
       "    </tr>\n",
       "  </tbody>\n",
       "</table>\n",
       "<p>836478 rows × 4 columns</p>\n",
       "</div>"
      ],
      "text/plain": [
       "         user_id  movie_id  counts  timestamp\n",
       "0              1      1193       5  978300760\n",
       "1              1       661       3  978302109\n",
       "2              1       914       3  978301968\n",
       "3              1      3408       4  978300275\n",
       "4              1      2355       5  978824291\n",
       "...          ...       ...     ...        ...\n",
       "1000203     6040      1090       3  956715518\n",
       "1000205     6040      1094       5  956704887\n",
       "1000206     6040       562       5  956704746\n",
       "1000207     6040      1096       4  956715648\n",
       "1000208     6040      1097       4  956715569\n",
       "\n",
       "[836478 rows x 4 columns]"
      ]
     },
     "execution_count": 5,
     "metadata": {},
     "output_type": "execute_result"
    }
   ],
   "source": [
    "ratings"
   ]
  },
  {
   "cell_type": "markdown",
   "id": "e2dfe89b",
   "metadata": {},
   "source": [
    "### Title, Genre data load"
   ]
  },
  {
   "cell_type": "code",
   "execution_count": 6,
   "id": "e18d49f3",
   "metadata": {},
   "outputs": [
    {
     "data": {
      "text/html": [
       "<div>\n",
       "<style scoped>\n",
       "    .dataframe tbody tr th:only-of-type {\n",
       "        vertical-align: middle;\n",
       "    }\n",
       "\n",
       "    .dataframe tbody tr th {\n",
       "        vertical-align: top;\n",
       "    }\n",
       "\n",
       "    .dataframe thead th {\n",
       "        text-align: right;\n",
       "    }\n",
       "</style>\n",
       "<table border=\"1\" class=\"dataframe\">\n",
       "  <thead>\n",
       "    <tr style=\"text-align: right;\">\n",
       "      <th></th>\n",
       "      <th>movie_id</th>\n",
       "      <th>title</th>\n",
       "      <th>genre</th>\n",
       "    </tr>\n",
       "  </thead>\n",
       "  <tbody>\n",
       "    <tr>\n",
       "      <th>0</th>\n",
       "      <td>1</td>\n",
       "      <td>Toy Story (1995)</td>\n",
       "      <td>Animation|Children's|Comedy</td>\n",
       "    </tr>\n",
       "    <tr>\n",
       "      <th>1</th>\n",
       "      <td>2</td>\n",
       "      <td>Jumanji (1995)</td>\n",
       "      <td>Adventure|Children's|Fantasy</td>\n",
       "    </tr>\n",
       "    <tr>\n",
       "      <th>2</th>\n",
       "      <td>3</td>\n",
       "      <td>Grumpier Old Men (1995)</td>\n",
       "      <td>Comedy|Romance</td>\n",
       "    </tr>\n",
       "    <tr>\n",
       "      <th>3</th>\n",
       "      <td>4</td>\n",
       "      <td>Waiting to Exhale (1995)</td>\n",
       "      <td>Comedy|Drama</td>\n",
       "    </tr>\n",
       "    <tr>\n",
       "      <th>4</th>\n",
       "      <td>5</td>\n",
       "      <td>Father of the Bride Part II (1995)</td>\n",
       "      <td>Comedy</td>\n",
       "    </tr>\n",
       "  </tbody>\n",
       "</table>\n",
       "</div>"
      ],
      "text/plain": [
       "   movie_id                               title                         genre\n",
       "0         1                    Toy Story (1995)   Animation|Children's|Comedy\n",
       "1         2                      Jumanji (1995)  Adventure|Children's|Fantasy\n",
       "2         3             Grumpier Old Men (1995)                Comedy|Romance\n",
       "3         4            Waiting to Exhale (1995)                  Comedy|Drama\n",
       "4         5  Father of the Bride Part II (1995)                        Comedy"
      ]
     },
     "execution_count": 6,
     "metadata": {},
     "output_type": "execute_result"
    }
   ],
   "source": [
    "# 영화 제목을 보기 위해 메타 데이터를 읽어옵니다.\n",
    "movie_file_path=os.getenv('HOME') + '/aiffel/recommendata_iu/data/ml-1m/movies.dat'\n",
    "cols = ['movie_id', 'title', 'genre'] \n",
    "movies = pd.read_csv(movie_file_path, sep='::', names=cols, engine='python', encoding='ISO-8859-1')\n",
    "movies.head()"
   ]
  },
  {
   "cell_type": "code",
   "execution_count": 7,
   "id": "abd2ad92",
   "metadata": {
    "scrolled": false
   },
   "outputs": [
    {
     "data": {
      "text/html": [
       "<div>\n",
       "<style scoped>\n",
       "    .dataframe tbody tr th:only-of-type {\n",
       "        vertical-align: middle;\n",
       "    }\n",
       "\n",
       "    .dataframe tbody tr th {\n",
       "        vertical-align: top;\n",
       "    }\n",
       "\n",
       "    .dataframe thead th {\n",
       "        text-align: right;\n",
       "    }\n",
       "</style>\n",
       "<table border=\"1\" class=\"dataframe\">\n",
       "  <thead>\n",
       "    <tr style=\"text-align: right;\">\n",
       "      <th></th>\n",
       "      <th>movie_id</th>\n",
       "      <th>title</th>\n",
       "      <th>genre</th>\n",
       "    </tr>\n",
       "  </thead>\n",
       "  <tbody>\n",
       "    <tr>\n",
       "      <th>151</th>\n",
       "      <td>153</td>\n",
       "      <td>Batman Forever (1995)</td>\n",
       "      <td>Action|Adventure|Comedy|Crime</td>\n",
       "    </tr>\n",
       "  </tbody>\n",
       "</table>\n",
       "</div>"
      ],
      "text/plain": [
       "     movie_id                  title                          genre\n",
       "151       153  Batman Forever (1995)  Action|Adventure|Comedy|Crime"
      ]
     },
     "execution_count": 7,
     "metadata": {},
     "output_type": "execute_result"
    }
   ],
   "source": [
    "movies[movies['title']=='Batman Forever (1995)']"
   ]
  },
  {
   "cell_type": "code",
   "execution_count": 8,
   "id": "93a59d2c",
   "metadata": {},
   "outputs": [
    {
     "data": {
      "text/html": [
       "<div>\n",
       "<style scoped>\n",
       "    .dataframe tbody tr th:only-of-type {\n",
       "        vertical-align: middle;\n",
       "    }\n",
       "\n",
       "    .dataframe tbody tr th {\n",
       "        vertical-align: top;\n",
       "    }\n",
       "\n",
       "    .dataframe thead th {\n",
       "        text-align: right;\n",
       "    }\n",
       "</style>\n",
       "<table border=\"1\" class=\"dataframe\">\n",
       "  <thead>\n",
       "    <tr style=\"text-align: right;\">\n",
       "      <th></th>\n",
       "      <th>movie_id</th>\n",
       "      <th>title</th>\n",
       "      <th>genre</th>\n",
       "    </tr>\n",
       "  </thead>\n",
       "  <tbody>\n",
       "    <tr>\n",
       "      <th>151</th>\n",
       "      <td>153</td>\n",
       "      <td>Batman Forever (1995)</td>\n",
       "      <td>Action|Adventure|Comedy|Crime</td>\n",
       "    </tr>\n",
       "    <tr>\n",
       "      <th>1356</th>\n",
       "      <td>1377</td>\n",
       "      <td>Batman Returns (1992)</td>\n",
       "      <td>Action|Adventure|Comedy|Crime</td>\n",
       "    </tr>\n",
       "    <tr>\n",
       "      <th>3035</th>\n",
       "      <td>3104</td>\n",
       "      <td>Midnight Run (1988)</td>\n",
       "      <td>Action|Adventure|Comedy|Crime</td>\n",
       "    </tr>\n",
       "  </tbody>\n",
       "</table>\n",
       "</div>"
      ],
      "text/plain": [
       "      movie_id                  title                          genre\n",
       "151        153  Batman Forever (1995)  Action|Adventure|Comedy|Crime\n",
       "1356      1377  Batman Returns (1992)  Action|Adventure|Comedy|Crime\n",
       "3035      3104    Midnight Run (1988)  Action|Adventure|Comedy|Crime"
      ]
     },
     "execution_count": 8,
     "metadata": {},
     "output_type": "execute_result"
    }
   ],
   "source": [
    "movies[movies['genre']=='Action|Adventure|Comedy|Crime']"
   ]
  },
  {
   "cell_type": "code",
   "execution_count": 9,
   "id": "d01943ef",
   "metadata": {},
   "outputs": [
    {
     "data": {
      "text/plain": [
       "(3628, 6039)"
      ]
     },
     "execution_count": 9,
     "metadata": {},
     "output_type": "execute_result"
    }
   ],
   "source": [
    "#ratings 에 있는 영화,사용자 수\n",
    "ratings['movie_id'].nunique(),ratings['user_id'].nunique()"
   ]
  },
  {
   "cell_type": "code",
   "execution_count": 10,
   "id": "4ec51a2c",
   "metadata": {},
   "outputs": [
    {
     "name": "stdout",
     "output_type": "stream",
     "text": [
      "American Beauty (1999) 3211\n",
      "Star Wars: Episode IV - A New Hope (1977) 2910\n",
      "Star Wars: Episode V - The Empire Strikes Back (1980) 2885\n",
      "Star Wars: Episode VI - Return of the Jedi (1983) 2716\n",
      "Saving Private Ryan (1998) 2561\n",
      "Terminator 2: Judgment Day (1991) 2509\n",
      "Silence of the Lambs, The (1991) 2498\n",
      "Raiders of the Lost Ark (1981) 2473\n",
      "Back to the Future (1985) 2460\n",
      "Matrix, The (1999) 2434\n",
      "Jurassic Park (1993) 2413\n",
      "Sixth Sense, The (1999) 2385\n",
      "Fargo (1996) 2371\n",
      "Braveheart (1995) 2314\n",
      "Men in Black (1997) 2297\n",
      "Schindler's List (1993) 2257\n",
      "Princess Bride, The (1987) 2252\n",
      "Shakespeare in Love (1998) 2213\n",
      "L.A. Confidential (1997) 2210\n",
      "Shawshank Redemption, The (1994) 2194\n",
      "Godfather, The (1972) 2167\n",
      "Groundhog Day (1993) 2121\n",
      "E.T. the Extra-Terrestrial (1982) 2102\n",
      "Being John Malkovich (1999) 2066\n",
      "Ghostbusters (1984) 2051\n",
      "Pulp Fiction (1994) 2030\n",
      "Forrest Gump (1994) 2022\n",
      "Terminator, The (1984) 2019\n",
      "Toy Story (1995) 2000\n",
      "Fugitive, The (1993) 1941\n"
     ]
    }
   ],
   "source": [
    "#가장 인기 있는 영화 30개(인기순)\n",
    "cnt = ratings.groupby('movie_id')['user_id'].count()\n",
    "top30 = cnt.sort_values(ascending=False).head(30)\n",
    "\n",
    "for i, k in zip(top30.index, top30.values):\n",
    "    print(movies[movies['movie_id']==i]['title'].values[0],k)\n"
   ]
  },
  {
   "cell_type": "code",
   "execution_count": 11,
   "id": "c9454ba1",
   "metadata": {},
   "outputs": [
    {
     "data": {
      "text/plain": [
       "Int64Index([2858,  260, 1196, 1210, 2028,  589,  593, 1198, 1270, 2571,  480,\n",
       "            2762,  608,  110, 1580,  527, 1197, 2396, 1617,  318,  858, 1265,\n",
       "            1097, 2997, 2716,  296,  356, 1240,    1,  457],\n",
       "           dtype='int64', name='movie_id')"
      ]
     },
     "execution_count": 11,
     "metadata": {},
     "output_type": "execute_result"
    }
   ],
   "source": [
    "top30.index"
   ]
  },
  {
   "cell_type": "code",
   "execution_count": 12,
   "id": "1b28ee42",
   "metadata": {},
   "outputs": [
    {
     "data": {
      "text/plain": [
       "count    6039.000000\n",
       "mean      138.512668\n",
       "std       156.241599\n",
       "min         1.000000\n",
       "25%        38.000000\n",
       "50%        81.000000\n",
       "75%       177.000000\n",
       "max      1968.000000\n",
       "Name: movie_id, dtype: float64"
      ]
     },
     "execution_count": 12,
     "metadata": {},
     "output_type": "execute_result"
    }
   ],
   "source": [
    "# 유저별 영화를 몇번 봤는지에 대한 통계\n",
    "user_count = ratings.groupby('user_id')['movie_id'].count()\n",
    "user_count.describe()"
   ]
  },
  {
   "cell_type": "code",
   "execution_count": 13,
   "id": "4df7fc67",
   "metadata": {},
   "outputs": [
    {
     "data": {
      "text/plain": [
       "count    6039.000000\n",
       "mean        4.055970\n",
       "std         0.432143\n",
       "min         3.000000\n",
       "25%         4.000000\n",
       "50%         4.000000\n",
       "75%         4.000000\n",
       "max         5.000000\n",
       "Name: counts, dtype: float64"
      ]
     },
     "execution_count": 13,
     "metadata": {},
     "output_type": "execute_result"
    }
   ],
   "source": [
    "# 유저별 count횟수 중앙값에 대한 통계\n",
    "user_median = ratings.groupby('user_id')['counts'].median()\n",
    "user_median.describe()"
   ]
  },
  {
   "cell_type": "markdown",
   "id": "539e3b69",
   "metadata": {},
   "source": [
    "### 내가 선호하는 영화 5개 ratings에 추가하기"
   ]
  },
  {
   "cell_type": "code",
   "execution_count": 14,
   "id": "47d102ce",
   "metadata": {},
   "outputs": [
    {
     "data": {
      "text/html": [
       "<div>\n",
       "<style scoped>\n",
       "    .dataframe tbody tr th:only-of-type {\n",
       "        vertical-align: middle;\n",
       "    }\n",
       "\n",
       "    .dataframe tbody tr th {\n",
       "        vertical-align: top;\n",
       "    }\n",
       "\n",
       "    .dataframe thead th {\n",
       "        text-align: right;\n",
       "    }\n",
       "</style>\n",
       "<table border=\"1\" class=\"dataframe\">\n",
       "  <thead>\n",
       "    <tr style=\"text-align: right;\">\n",
       "      <th></th>\n",
       "      <th>user_id</th>\n",
       "      <th>movie_id</th>\n",
       "      <th>counts</th>\n",
       "      <th>timestamp</th>\n",
       "    </tr>\n",
       "  </thead>\n",
       "  <tbody>\n",
       "    <tr>\n",
       "      <th>1000203</th>\n",
       "      <td>6040</td>\n",
       "      <td>1090</td>\n",
       "      <td>3</td>\n",
       "      <td>956715518.0</td>\n",
       "    </tr>\n",
       "    <tr>\n",
       "      <th>1000205</th>\n",
       "      <td>6040</td>\n",
       "      <td>1094</td>\n",
       "      <td>5</td>\n",
       "      <td>956704887.0</td>\n",
       "    </tr>\n",
       "    <tr>\n",
       "      <th>1000206</th>\n",
       "      <td>6040</td>\n",
       "      <td>562</td>\n",
       "      <td>5</td>\n",
       "      <td>956704746.0</td>\n",
       "    </tr>\n",
       "    <tr>\n",
       "      <th>1000207</th>\n",
       "      <td>6040</td>\n",
       "      <td>1096</td>\n",
       "      <td>4</td>\n",
       "      <td>956715648.0</td>\n",
       "    </tr>\n",
       "    <tr>\n",
       "      <th>1000208</th>\n",
       "      <td>6040</td>\n",
       "      <td>1097</td>\n",
       "      <td>4</td>\n",
       "      <td>956715569.0</td>\n",
       "    </tr>\n",
       "    <tr>\n",
       "      <th>0</th>\n",
       "      <td>6041</td>\n",
       "      <td>1580</td>\n",
       "      <td>5</td>\n",
       "      <td>NaN</td>\n",
       "    </tr>\n",
       "    <tr>\n",
       "      <th>1</th>\n",
       "      <td>6041</td>\n",
       "      <td>1270</td>\n",
       "      <td>5</td>\n",
       "      <td>NaN</td>\n",
       "    </tr>\n",
       "    <tr>\n",
       "      <th>2</th>\n",
       "      <td>6041</td>\n",
       "      <td>2762</td>\n",
       "      <td>5</td>\n",
       "      <td>NaN</td>\n",
       "    </tr>\n",
       "    <tr>\n",
       "      <th>3</th>\n",
       "      <td>6041</td>\n",
       "      <td>1097</td>\n",
       "      <td>5</td>\n",
       "      <td>NaN</td>\n",
       "    </tr>\n",
       "    <tr>\n",
       "      <th>4</th>\n",
       "      <td>6041</td>\n",
       "      <td>153</td>\n",
       "      <td>5</td>\n",
       "      <td>NaN</td>\n",
       "    </tr>\n",
       "  </tbody>\n",
       "</table>\n",
       "</div>"
      ],
      "text/plain": [
       "         user_id  movie_id  counts    timestamp\n",
       "1000203     6040      1090       3  956715518.0\n",
       "1000205     6040      1094       5  956704887.0\n",
       "1000206     6040       562       5  956704746.0\n",
       "1000207     6040      1096       4  956715648.0\n",
       "1000208     6040      1097       4  956715569.0\n",
       "0           6041      1580       5          NaN\n",
       "1           6041      1270       5          NaN\n",
       "2           6041      2762       5          NaN\n",
       "3           6041      1097       5          NaN\n",
       "4           6041       153       5          NaN"
      ]
     },
     "execution_count": 14,
     "metadata": {},
     "output_type": "execute_result"
    }
   ],
   "source": [
    "# 5개 영화 픽\n",
    "my_favorite_movie = ['Men in Black (1997)' , 'Back to the Future (1985)' ,'Sixth Sense, The (1999)',\n",
    "                    'E.T. the Extra-Terrestrial (1982)','Batman Forever (1995)']\n",
    "my_favorite = [movies[movies['title'] == name]['movie_id'].values[0] for name in my_favorite_movie]\n",
    "\n",
    "# A라는 user_id가 위 영화를 5회씩 봤다고 가정.\n",
    "A = max(ratings['user_id']) + 1\n",
    "my_playlist = pd.DataFrame({'user_id': [A]*5, 'movie_id': my_favorite, 'counts':[5]*5})\n",
    "\n",
    "if not ratings.isin({'user_id':[A]})['user_id'].any():  # user_id에 'A'이라는 데이터가 없다면\n",
    "    ratings = ratings.append(my_playlist)                           # 위에 임의로 만든 my_favorite 데이터를 추가해 줍니다. \n",
    "ratings.tail(10)       # 잘 추가되었는지 확인해 봅시다."
   ]
  },
  {
   "cell_type": "code",
   "execution_count": 15,
   "id": "88d0c091",
   "metadata": {},
   "outputs": [
    {
     "data": {
      "text/html": [
       "<div>\n",
       "<style scoped>\n",
       "    .dataframe tbody tr th:only-of-type {\n",
       "        vertical-align: middle;\n",
       "    }\n",
       "\n",
       "    .dataframe tbody tr th {\n",
       "        vertical-align: top;\n",
       "    }\n",
       "\n",
       "    .dataframe thead th {\n",
       "        text-align: right;\n",
       "    }\n",
       "</style>\n",
       "<table border=\"1\" class=\"dataframe\">\n",
       "  <thead>\n",
       "    <tr style=\"text-align: right;\">\n",
       "      <th></th>\n",
       "      <th>user_id</th>\n",
       "      <th>movie_id</th>\n",
       "      <th>title</th>\n",
       "      <th>counts</th>\n",
       "    </tr>\n",
       "  </thead>\n",
       "  <tbody>\n",
       "    <tr>\n",
       "      <th>0</th>\n",
       "      <td>1</td>\n",
       "      <td>1</td>\n",
       "      <td>Toy Story (1995)</td>\n",
       "      <td>5</td>\n",
       "    </tr>\n",
       "    <tr>\n",
       "      <th>1</th>\n",
       "      <td>6</td>\n",
       "      <td>1</td>\n",
       "      <td>Toy Story (1995)</td>\n",
       "      <td>4</td>\n",
       "    </tr>\n",
       "    <tr>\n",
       "      <th>2</th>\n",
       "      <td>8</td>\n",
       "      <td>1</td>\n",
       "      <td>Toy Story (1995)</td>\n",
       "      <td>4</td>\n",
       "    </tr>\n",
       "    <tr>\n",
       "      <th>3</th>\n",
       "      <td>9</td>\n",
       "      <td>1</td>\n",
       "      <td>Toy Story (1995)</td>\n",
       "      <td>5</td>\n",
       "    </tr>\n",
       "    <tr>\n",
       "      <th>4</th>\n",
       "      <td>10</td>\n",
       "      <td>1</td>\n",
       "      <td>Toy Story (1995)</td>\n",
       "      <td>5</td>\n",
       "    </tr>\n",
       "    <tr>\n",
       "      <th>...</th>\n",
       "      <td>...</td>\n",
       "      <td>...</td>\n",
       "      <td>...</td>\n",
       "      <td>...</td>\n",
       "    </tr>\n",
       "    <tr>\n",
       "      <th>836478</th>\n",
       "      <td>5682</td>\n",
       "      <td>3952</td>\n",
       "      <td>Contender, The (2000)</td>\n",
       "      <td>3</td>\n",
       "    </tr>\n",
       "    <tr>\n",
       "      <th>836479</th>\n",
       "      <td>5812</td>\n",
       "      <td>3952</td>\n",
       "      <td>Contender, The (2000)</td>\n",
       "      <td>4</td>\n",
       "    </tr>\n",
       "    <tr>\n",
       "      <th>836480</th>\n",
       "      <td>5831</td>\n",
       "      <td>3952</td>\n",
       "      <td>Contender, The (2000)</td>\n",
       "      <td>3</td>\n",
       "    </tr>\n",
       "    <tr>\n",
       "      <th>836481</th>\n",
       "      <td>5837</td>\n",
       "      <td>3952</td>\n",
       "      <td>Contender, The (2000)</td>\n",
       "      <td>4</td>\n",
       "    </tr>\n",
       "    <tr>\n",
       "      <th>836482</th>\n",
       "      <td>5998</td>\n",
       "      <td>3952</td>\n",
       "      <td>Contender, The (2000)</td>\n",
       "      <td>4</td>\n",
       "    </tr>\n",
       "  </tbody>\n",
       "</table>\n",
       "<p>836483 rows × 4 columns</p>\n",
       "</div>"
      ],
      "text/plain": [
       "        user_id  movie_id                  title  counts\n",
       "0             1         1       Toy Story (1995)       5\n",
       "1             6         1       Toy Story (1995)       4\n",
       "2             8         1       Toy Story (1995)       4\n",
       "3             9         1       Toy Story (1995)       5\n",
       "4            10         1       Toy Story (1995)       5\n",
       "...         ...       ...                    ...     ...\n",
       "836478     5682      3952  Contender, The (2000)       3\n",
       "836479     5812      3952  Contender, The (2000)       4\n",
       "836480     5831      3952  Contender, The (2000)       3\n",
       "836481     5837      3952  Contender, The (2000)       4\n",
       "836482     5998      3952  Contender, The (2000)       4\n",
       "\n",
       "[836483 rows x 4 columns]"
      ]
     },
     "execution_count": 15,
     "metadata": {},
     "output_type": "execute_result"
    }
   ],
   "source": [
    "total = pd.merge(movies,ratings)\n",
    "col = ['user_id','movie_id','title','counts']\n",
    "total = total[col]\n",
    "total"
   ]
  },
  {
   "cell_type": "markdown",
   "id": "0c1a9cc2",
   "metadata": {},
   "source": [
    "### CSR matrix"
   ]
  },
  {
   "cell_type": "code",
   "execution_count": 16,
   "id": "c759bb2a",
   "metadata": {},
   "outputs": [],
   "source": [
    "user_unique = total['user_id'].unique()\n",
    "title_unique = total['title'].unique()\n",
    "\n",
    "user_to_idx = {v:k for k,v in enumerate(user_unique)}\n",
    "title_to_idx = {v:k for k,v in enumerate(title_unique)}"
   ]
  },
  {
   "cell_type": "code",
   "execution_count": 17,
   "id": "aa83d2fc",
   "metadata": {},
   "outputs": [
    {
     "data": {
      "text/plain": [
       "5193"
      ]
     },
     "execution_count": 17,
     "metadata": {},
     "output_type": "execute_result"
    }
   ],
   "source": [
    "user_to_idx[6041]"
   ]
  },
  {
   "cell_type": "code",
   "execution_count": 56,
   "id": "7723a0ed",
   "metadata": {},
   "outputs": [
    {
     "name": "stdout",
     "output_type": "stream",
     "text": [
      "('Toy Story (1995)', 0)\n",
      "('Jumanji (1995)', 1)\n",
      "('Grumpier Old Men (1995)', 2)\n",
      "('Waiting to Exhale (1995)', 3)\n",
      "('Father of the Bride Part II (1995)', 4)\n",
      "('Heat (1995)', 5)\n",
      "('Sabrina (1995)', 6)\n"
     ]
    }
   ],
   "source": [
    "#title_index 일부 확인\n",
    "for n,i in enumerate(title_to_idx.items()):\n",
    "    print(i)\n",
    "    if n >5:\n",
    "        break"
   ]
  },
  {
   "cell_type": "code",
   "execution_count": 19,
   "id": "d916f8ab",
   "metadata": {},
   "outputs": [
    {
     "name": "stdout",
     "output_type": "stream",
     "text": [
      "user_id column indexing OK!!\n",
      "title column indexing OK!!\n"
     ]
    },
    {
     "data": {
      "text/html": [
       "<div>\n",
       "<style scoped>\n",
       "    .dataframe tbody tr th:only-of-type {\n",
       "        vertical-align: middle;\n",
       "    }\n",
       "\n",
       "    .dataframe tbody tr th {\n",
       "        vertical-align: top;\n",
       "    }\n",
       "\n",
       "    .dataframe thead th {\n",
       "        text-align: right;\n",
       "    }\n",
       "</style>\n",
       "<table border=\"1\" class=\"dataframe\">\n",
       "  <thead>\n",
       "    <tr style=\"text-align: right;\">\n",
       "      <th></th>\n",
       "      <th>user_id</th>\n",
       "      <th>movie_id</th>\n",
       "      <th>title</th>\n",
       "      <th>counts</th>\n",
       "    </tr>\n",
       "  </thead>\n",
       "  <tbody>\n",
       "    <tr>\n",
       "      <th>0</th>\n",
       "      <td>0</td>\n",
       "      <td>1</td>\n",
       "      <td>0</td>\n",
       "      <td>5</td>\n",
       "    </tr>\n",
       "    <tr>\n",
       "      <th>1</th>\n",
       "      <td>1</td>\n",
       "      <td>1</td>\n",
       "      <td>0</td>\n",
       "      <td>4</td>\n",
       "    </tr>\n",
       "    <tr>\n",
       "      <th>2</th>\n",
       "      <td>2</td>\n",
       "      <td>1</td>\n",
       "      <td>0</td>\n",
       "      <td>4</td>\n",
       "    </tr>\n",
       "    <tr>\n",
       "      <th>3</th>\n",
       "      <td>3</td>\n",
       "      <td>1</td>\n",
       "      <td>0</td>\n",
       "      <td>5</td>\n",
       "    </tr>\n",
       "    <tr>\n",
       "      <th>4</th>\n",
       "      <td>4</td>\n",
       "      <td>1</td>\n",
       "      <td>0</td>\n",
       "      <td>5</td>\n",
       "    </tr>\n",
       "    <tr>\n",
       "      <th>...</th>\n",
       "      <td>...</td>\n",
       "      <td>...</td>\n",
       "      <td>...</td>\n",
       "      <td>...</td>\n",
       "    </tr>\n",
       "    <tr>\n",
       "      <th>836478</th>\n",
       "      <td>2696</td>\n",
       "      <td>3952</td>\n",
       "      <td>3627</td>\n",
       "      <td>3</td>\n",
       "    </tr>\n",
       "    <tr>\n",
       "      <th>836479</th>\n",
       "      <td>2161</td>\n",
       "      <td>3952</td>\n",
       "      <td>3627</td>\n",
       "      <td>4</td>\n",
       "    </tr>\n",
       "    <tr>\n",
       "      <th>836480</th>\n",
       "      <td>1931</td>\n",
       "      <td>3952</td>\n",
       "      <td>3627</td>\n",
       "      <td>3</td>\n",
       "    </tr>\n",
       "    <tr>\n",
       "      <th>836481</th>\n",
       "      <td>2162</td>\n",
       "      <td>3952</td>\n",
       "      <td>3627</td>\n",
       "      <td>4</td>\n",
       "    </tr>\n",
       "    <tr>\n",
       "      <th>836482</th>\n",
       "      <td>3134</td>\n",
       "      <td>3952</td>\n",
       "      <td>3627</td>\n",
       "      <td>4</td>\n",
       "    </tr>\n",
       "  </tbody>\n",
       "</table>\n",
       "<p>836483 rows × 4 columns</p>\n",
       "</div>"
      ],
      "text/plain": [
       "        user_id  movie_id  title  counts\n",
       "0             0         1      0       5\n",
       "1             1         1      0       4\n",
       "2             2         1      0       4\n",
       "3             3         1      0       5\n",
       "4             4         1      0       5\n",
       "...         ...       ...    ...     ...\n",
       "836478     2696      3952   3627       3\n",
       "836479     2161      3952   3627       4\n",
       "836480     1931      3952   3627       3\n",
       "836481     2162      3952   3627       4\n",
       "836482     3134      3952   3627       4\n",
       "\n",
       "[836483 rows x 4 columns]"
      ]
     },
     "execution_count": 19,
     "metadata": {},
     "output_type": "execute_result"
    }
   ],
   "source": [
    "temp_user_data = total['user_id'].map(user_to_idx.get).dropna()\n",
    "if len(temp_user_data) == len(total):\n",
    "    print('user_id column indexing OK!!')\n",
    "    total['user_id'] = temp_user_data\n",
    "else:\n",
    "    print('user_id column indexing Fail!!')\n",
    "\n",
    "\n",
    "    \n",
    "temp_title_data = total['title'].map(title_to_idx.get).dropna()\n",
    "if len(temp_title_data) == len(total):\n",
    "    print('title column indexing OK!!')\n",
    "    total['title'] = temp_title_data\n",
    "else:\n",
    "    print('title column indexing Fail!!')\n",
    "total"
   ]
  },
  {
   "cell_type": "code",
   "execution_count": 20,
   "id": "ed0131f0",
   "metadata": {},
   "outputs": [
    {
     "name": "stdout",
     "output_type": "stream",
     "text": [
      " # of unique users : 6040 \n",
      " # of unique movies : 3628 \n"
     ]
    },
    {
     "data": {
      "text/plain": [
       "<6040x3628 sparse matrix of type '<class 'numpy.int64'>'\n",
       "\twith 836483 stored elements in Compressed Sparse Row format>"
      ]
     },
     "execution_count": 20,
     "metadata": {},
     "output_type": "execute_result"
    }
   ],
   "source": [
    "num_user = total['user_id'].nunique()\n",
    "num_title = total['title'].nunique()\n",
    "\n",
    "print(f' # of unique users : {num_user} ')\n",
    "print(f' # of unique movies : {num_title} ')\n",
    "\n",
    "csr_data = csr_matrix((total.counts, (total.user_id, total.title)), shape= (num_user, num_title))\n",
    "csr_data"
   ]
  },
  {
   "cell_type": "markdown",
   "id": "ca2ff933",
   "metadata": {},
   "source": [
    "### AlternatingLeastSquares 훈련"
   ]
  },
  {
   "cell_type": "code",
   "execution_count": 21,
   "id": "8d37f34f",
   "metadata": {},
   "outputs": [
    {
     "data": {
      "application/vnd.jupyter.widget-view+json": {
       "model_id": "b7a51309979e4503a6d4140214ce443c",
       "version_major": 2,
       "version_minor": 0
      },
      "text/plain": [
       "  0%|          | 0/100 [00:00<?, ?it/s]"
      ]
     },
     "metadata": {},
     "output_type": "display_data"
    }
   ],
   "source": [
    "# implicit 라이브러리에서 권장하고 있는 부분입니다. 학습 내용과는 무관합니다.\n",
    "os.environ['OPENBLAS_NUM_THREADS']='1'\n",
    "os.environ['KMP_DUPLICATE_LIB_OK']='True'\n",
    "os.environ['MKL_NUM_THREADS']='1'\n",
    "\n",
    "\n",
    "# Implicit AlternatingLeastSquares 모델의 선언\n",
    "als_model = AlternatingLeastSquares(factors=400, regularization=0.01, use_gpu=False, iterations=100, dtype=np.float32)\n",
    "\n",
    "\n",
    "# als 모델은 input으로 (item X user 꼴의 matrix를 받기 때문에 Transpose해줍니다.)\n",
    "csr_data_transpose = csr_data.T\n",
    "\n",
    "\n",
    "# 모델 훈련\n",
    "als_model.fit(csr_data_transpose)"
   ]
  },
  {
   "cell_type": "code",
   "execution_count": 22,
   "id": "f8b9963d",
   "metadata": {},
   "outputs": [],
   "source": [
    "my_index, matrix_index = user_to_idx[6041], title_to_idx['Batman Forever (1995)']\n",
    "my_vector, matrix_vector = als_model.user_factors[my_index], als_model.item_factors[matrix_index]"
   ]
  },
  {
   "cell_type": "code",
   "execution_count": 23,
   "id": "3634a69b",
   "metadata": {},
   "outputs": [
    {
     "data": {
      "text/plain": [
       "array([ 0.09993128, -0.08839921, -0.3111683 ,  0.15907115,  0.2619438 ,\n",
       "        0.08184379,  0.05914115, -0.12925299, -0.30305237,  0.00862933,\n",
       "        0.15628414, -0.08848069, -0.18151495, -0.24334416,  0.13928089,\n",
       "        0.11886246,  0.09866893,  0.09911662,  0.07537232, -0.02197685,\n",
       "        0.14883973,  0.09379678,  0.12723489, -0.15085089,  0.08545969,\n",
       "        0.0327779 , -0.07027385, -0.04827826,  0.31686544,  0.32400146,\n",
       "       -0.05045943, -0.19854288, -0.27425268,  0.19589289, -0.13774608,\n",
       "       -0.2077292 ,  0.29093224,  0.10136276,  0.1882746 ,  0.24601652,\n",
       "        0.0813208 ,  0.04476741,  0.40148175,  0.10179494, -0.11515841,\n",
       "        0.0504953 ,  0.1483344 ,  0.00127208, -0.0174896 , -0.29255328,\n",
       "       -0.07046296, -0.2604008 , -0.05686668,  0.06729379,  0.09342004,\n",
       "        0.08644832, -0.0382722 ,  0.10634198, -0.04869567, -0.29247594,\n",
       "       -0.40277055, -0.19790247,  0.04464735,  0.4285053 , -0.27070093,\n",
       "        0.06956217, -0.0014123 , -0.03834092, -0.19473729,  0.02682377,\n",
       "       -0.00571899,  0.2114947 , -0.23099492, -0.29779106,  0.21669944,\n",
       "        0.06913313,  0.15037169, -0.05593684,  0.19093747,  0.3121168 ,\n",
       "       -0.3616494 ,  0.13500705,  0.07070767, -0.05941445,  0.28938258,\n",
       "        0.10925649,  0.02661954,  0.24219334,  0.03566784,  0.12332212,\n",
       "        0.08753856,  0.01927142,  0.06522243,  0.18958329, -0.20021568,\n",
       "       -0.17049499, -0.19378595, -0.18139984,  0.22514428, -0.00333997,\n",
       "        0.25283954,  0.30710098, -0.08494208,  0.34149778,  0.19885832,\n",
       "       -0.14153445, -0.10525884,  0.13858952, -0.18507417,  0.13892905,\n",
       "        0.1987148 ,  0.05206953, -0.16575085,  0.1421167 , -0.04473265,\n",
       "       -0.05593332, -0.20266958,  0.09533852, -0.26706377, -0.0600081 ,\n",
       "        0.04639442, -0.05322684,  0.1892359 , -0.03590586,  0.01471313,\n",
       "        0.05224488,  0.1431011 , -0.13048871, -0.13376214, -0.10036826,\n",
       "        0.07416195, -0.19074054,  0.07158697, -0.02203452, -0.05615245,\n",
       "       -0.16811265,  0.10439608,  0.09346642, -0.13177846,  0.12344167,\n",
       "       -0.04502184,  0.00917129,  0.39748546,  0.18069056, -0.05050071,\n",
       "       -0.03787452, -0.03464895,  0.15321928,  0.08506787,  0.24809198,\n",
       "       -0.2171765 , -0.10687929, -0.00660684, -0.13845204,  0.11470854,\n",
       "        0.00910471, -0.1716365 , -0.04005644, -0.10345099,  0.48077628,\n",
       "        0.00829084,  0.14154309,  0.01951291, -0.18050055,  0.15344116,\n",
       "       -0.01343056,  0.12573795,  0.01571352,  0.29006717,  0.05189607,\n",
       "        0.09536484,  0.22400431, -0.16112904,  0.1847027 , -0.15679033,\n",
       "        0.04412114, -0.1272492 , -0.01452091, -0.01596302,  0.14468858,\n",
       "        0.1428846 , -0.0022444 ,  0.17444117, -0.21413635,  0.36512864,\n",
       "       -0.2955189 , -0.03714272, -0.21992016, -0.07260335,  0.2637347 ,\n",
       "       -0.17593983,  0.10454075,  0.11941826, -0.37356442, -0.07267287,\n",
       "       -0.12539212, -0.26807338,  0.06179059, -0.11974683, -0.12163033,\n",
       "        0.18923551,  0.15903537,  0.16040806,  0.3275293 , -0.05773301,\n",
       "        0.2805635 , -0.08251233, -0.1355568 , -0.27609843,  0.06817482,\n",
       "       -0.29425701, -0.03102077, -0.0068284 ,  0.0304492 ,  0.13221538,\n",
       "        0.16886048,  0.13277993, -0.00431299, -0.01137172,  0.07298777,\n",
       "        0.02113246,  0.11194018, -0.10893918, -0.04652109,  0.364342  ,\n",
       "       -0.0055165 , -0.02049915, -0.2865908 ,  0.0787026 , -0.21584958,\n",
       "       -0.07650096, -0.24885401, -0.05698212,  0.0045863 ,  0.06202259,\n",
       "        0.21033198, -0.22864833, -0.32575682, -0.14760989, -0.2417315 ,\n",
       "        0.13727917, -0.17518371,  0.15337342, -0.13762408,  0.12669027,\n",
       "        0.11471778,  0.26105094, -0.04971398, -0.07479481, -0.08286224,\n",
       "        0.03185591, -0.13990113, -0.24694914,  0.26540878,  0.05184243,\n",
       "       -0.144132  ,  0.3116539 , -0.13471018, -0.22325632, -0.11055129,\n",
       "       -0.08747758, -0.24298763, -0.02958155,  0.03738208,  0.09965211,\n",
       "       -0.20615898, -0.16752656, -0.01648035,  0.04340117,  0.11795056,\n",
       "        0.10194633, -0.07157232, -0.1577102 , -0.06072367,  0.30847487,\n",
       "        0.30268425,  0.01444665, -0.40507507, -0.31876302,  0.09334755,\n",
       "        0.1245582 , -0.21221223, -0.05579843,  0.06308232,  0.09717136,\n",
       "        0.14007108,  0.11725032,  0.1588388 ,  0.03224149,  0.32611147,\n",
       "       -0.34421042,  0.04098904,  0.00319444,  0.21072622, -0.25065514,\n",
       "       -0.01078822,  0.13088189, -0.35681483, -0.23215096, -0.03194652,\n",
       "        0.1385174 ,  0.12881671,  0.00145515,  0.19496858, -0.07903076,\n",
       "        0.13531654,  0.03998361,  0.01862796,  0.0318518 , -0.22537294,\n",
       "        0.01032933,  0.17745788, -0.22527345,  0.11891998, -0.35486308,\n",
       "       -0.19995947,  0.12812693, -0.09325459, -0.24479963, -0.09925832,\n",
       "        0.05146633, -0.2273283 , -0.00580228,  0.48057896,  0.21532896,\n",
       "        0.14724775,  0.20544289,  0.02943229, -0.04125324, -0.2509259 ,\n",
       "       -0.26368338,  0.12971647,  0.03735056,  0.07487117,  0.00095089,\n",
       "       -0.0184885 ,  0.14764312, -0.29110882,  0.23998031, -0.33160216,\n",
       "       -0.15339419, -0.05562979, -0.03467062,  0.09647734,  0.0595629 ,\n",
       "        0.05124144,  0.03101692, -0.1801471 ,  0.21345767,  0.01905821,\n",
       "       -0.03539184, -0.08761732, -0.14628991, -0.05790788, -0.15089206,\n",
       "       -0.03523449,  0.19315414, -0.10639814, -0.14946003, -0.08158267,\n",
       "        0.11764683, -0.38795325,  0.04465709, -0.0871366 ,  0.06122394,\n",
       "       -0.00072119, -0.13394003, -0.00234797, -0.23278151, -0.23644672,\n",
       "        0.22601296,  0.24959923,  0.00977624,  0.20974238, -0.33568287,\n",
       "        0.17835282,  0.0509306 ,  0.36614445, -0.00855872,  0.04662814,\n",
       "       -0.15826681, -0.36043972,  0.21182352, -0.24460523, -0.21128647,\n",
       "       -0.1573475 , -0.31814978, -0.14946464, -0.03862562,  0.19610076,\n",
       "        0.28930515, -0.12910867,  0.10201337,  0.33314598,  0.06599808,\n",
       "       -0.24669565, -0.08836965,  0.07870686, -0.06302758,  0.18984257],\n",
       "      dtype=float32)"
      ]
     },
     "execution_count": 23,
     "metadata": {},
     "output_type": "execute_result"
    }
   ],
   "source": [
    "my_vector"
   ]
  },
  {
   "cell_type": "code",
   "execution_count": 24,
   "id": "27ea3870",
   "metadata": {},
   "outputs": [
    {
     "data": {
      "text/plain": [
       "array([ 0.03958609,  0.00787926, -0.02885679,  0.00462308,  0.0089391 ,\n",
       "        0.00049481,  0.01326965,  0.01895494, -0.01519008, -0.02315713,\n",
       "       -0.01905125, -0.00332799, -0.02458555, -0.01544077, -0.01288255,\n",
       "        0.03322029, -0.00932579, -0.00505351,  0.00969823,  0.00657097,\n",
       "        0.01740834,  0.03074496,  0.01064942, -0.03572135,  0.03037043,\n",
       "        0.02438041,  0.00090942,  0.01753327,  0.02861254,  0.03292083,\n",
       "        0.01952961,  0.00700525, -0.01539102,  0.0072593 , -0.01488146,\n",
       "       -0.02458254,  0.00507273,  0.02944311,  0.01958509, -0.00855321,\n",
       "        0.00038363, -0.00124458,  0.00169099,  0.02951275, -0.02199455,\n",
       "        0.00828011,  0.0078014 ,  0.01960475,  0.02099241, -0.01095318,\n",
       "       -0.02136962,  0.0074155 ,  0.01862469,  0.01110194,  0.02937974,\n",
       "        0.00561243, -0.01034121,  0.00935025, -0.00664274, -0.00746652,\n",
       "       -0.00598264,  0.0015738 , -0.00542581,  0.04606044, -0.02171431,\n",
       "        0.00017176, -0.00672594, -0.00947547,  0.00497545,  0.04037162,\n",
       "        0.01014392,  0.02825376, -0.01165878, -0.00358457,  0.00083746,\n",
       "       -0.02109943,  0.02237768, -0.02079272,  0.0209959 ,  0.02237091,\n",
       "       -0.00739722, -0.00752234,  0.0366616 ,  0.01213737,  0.02933842,\n",
       "        0.0030416 ,  0.01502018,  0.00135333,  0.01700162,  0.01532144,\n",
       "        0.02567029,  0.0199244 , -0.00825878,  0.01952865,  0.01727498,\n",
       "        0.00497245, -0.00142409, -0.02245086,  0.04560514,  0.02074152,\n",
       "        0.01381338, -0.00372095,  0.0002497 ,  0.02512041,  0.01163139,\n",
       "        0.00341132,  0.00157648,  0.02106106, -0.00363389,  0.02501892,\n",
       "        0.04035645,  0.01364039,  0.01137741,  0.03512312, -0.00095414,\n",
       "       -0.00835111, -0.00118294,  0.00420237,  0.00182085, -0.0189085 ,\n",
       "        0.03811676,  0.01031531,  0.01283201,  0.03089548, -0.00507027,\n",
       "        0.01073176, -0.01097435, -0.00706428,  0.00274468, -0.01529044,\n",
       "        0.0008632 ,  0.01372806, -0.03013352,  0.00962407,  0.01830809,\n",
       "       -0.03408575,  0.01507023,  0.00262966, -0.01487312, -0.00506408,\n",
       "        0.00154932, -0.01244235,  0.02357116,  0.03074505,  0.01824589,\n",
       "        0.00956947, -0.0010615 ,  0.0333946 ,  0.0007337 ,  0.037451  ,\n",
       "        0.00128291,  0.0043622 ,  0.0269271 , -0.02334829,  0.02719296,\n",
       "        0.02809947, -0.01051672, -0.00950205, -0.00541148,  0.02909427,\n",
       "        0.0172895 ,  0.0117377 , -0.00570829, -0.00448443,  0.01274136,\n",
       "       -0.02673654, -0.00925333,  0.02189341,  0.02079453,  0.02016906,\n",
       "        0.02319488,  0.01628595,  0.01185078,  0.027909  ,  0.00345297,\n",
       "        0.01793302, -0.01714915,  0.00693309,  0.00329997, -0.00344428,\n",
       "        0.00269241,  0.021692  ,  0.02437285, -0.00823538,  0.00439777,\n",
       "        0.00546559, -0.02085174, -0.02103088, -0.01084736, -0.00586994,\n",
       "        0.00677359,  0.03351226,  0.01305154, -0.00737375, -0.00191631,\n",
       "        0.00945986, -0.0213018 , -0.00058164, -0.01310028, -0.02563285,\n",
       "        0.0100321 , -0.00549079,  0.01814614,  0.02854665,  0.01645748,\n",
       "        0.00929944,  0.00880642, -0.00983599, -0.00507911,  0.01935441,\n",
       "       -0.00167586,  0.01188403,  0.04320329,  0.02875586,  0.00428163,\n",
       "        0.01066264, -0.00173307,  0.00687769,  0.00883361, -0.00537165,\n",
       "        0.00454844,  0.00779631,  0.0026834 , -0.01262626,  0.03150536,\n",
       "       -0.0105374 ,  0.00322038,  0.00251616, -0.01832129, -0.02855562,\n",
       "        0.00076812, -0.00046607, -0.01212848, -0.01544931,  0.00422923,\n",
       "        0.02754698,  0.00861067, -0.02456321,  0.01560984, -0.00514993,\n",
       "        0.01382094, -0.01168328, -0.00176575, -0.01995167,  0.00798796,\n",
       "       -0.00454595,  0.02435226, -0.00674183, -0.01786957, -0.00355572,\n",
       "       -0.00383914, -0.0186888 ,  0.0045792 ,  0.0038707 ,  0.01851292,\n",
       "       -0.01365255,  0.02186345,  0.00667722,  0.01004889, -0.0014169 ,\n",
       "        0.00053131, -0.01867121,  0.02975324,  0.00847851,  0.02330887,\n",
       "        0.00409214, -0.00554389,  0.01758999, -0.0056322 ,  0.00304474,\n",
       "        0.01960619,  0.01218489, -0.01502837, -0.01541871,  0.02623757,\n",
       "        0.00839898, -0.00165702,  0.0099097 , -0.00730469,  0.04173137,\n",
       "        0.03186575, -0.01191087, -0.01020513,  0.02109417,  0.01898066,\n",
       "       -0.01354793,  0.00314914, -0.0225001 ,  0.02747486,  0.02118129,\n",
       "       -0.01261681, -0.01837476,  0.02580984, -0.01988368, -0.0206798 ,\n",
       "       -0.02341183,  0.02374574, -0.03375616, -0.00878676,  0.04707258,\n",
       "        0.02955234,  0.0127574 , -0.00255529,  0.02531805, -0.01128211,\n",
       "       -0.00599458,  0.00304293,  0.0196099 , -0.01955369,  0.00638024,\n",
       "       -0.01331594,  0.01552765,  0.00940603,  0.00433053, -0.0060085 ,\n",
       "        0.00051105,  0.00593475,  0.00680247, -0.00018848, -0.00108215,\n",
       "        0.02880377, -0.00632229,  0.00525514,  0.02327241, -0.03323524,\n",
       "        0.00928134,  0.01356097, -0.01038844,  0.00235614, -0.01103972,\n",
       "        0.00888216,  0.02683007, -0.0169907 ,  0.00126825,  0.02289925,\n",
       "       -0.00403329,  0.00114559, -0.00959756,  0.00638862,  0.00955694,\n",
       "        0.01003395,  0.00081784,  0.01234757,  0.02081147,  0.01244883,\n",
       "        0.0352579 ,  0.02239585, -0.0018438 ,  0.01341714, -0.01466441,\n",
       "        0.00837947, -0.00111459, -0.03578273,  0.00903003,  0.00403681,\n",
       "        0.00982714,  0.02734455,  0.0042333 , -0.00256511,  0.00415187,\n",
       "        0.02780158, -0.02202957,  0.01153872, -0.01214162,  0.00279208,\n",
       "        0.01892866,  0.01492946, -0.01753   , -0.0100851 ,  0.03123776,\n",
       "        0.02001941,  0.03925962, -0.02161227,  0.03222391,  0.02311968,\n",
       "        0.01064078,  0.01971921, -0.0019053 , -0.01364335,  0.02396224,\n",
       "        0.00466464, -0.01205519,  0.03900015, -0.02248092, -0.00058695,\n",
       "       -0.00669523,  0.00851351,  0.00889507, -0.01265328,  0.02214982,\n",
       "        0.00628175,  0.024061  , -0.00404161,  0.03686562,  0.01079386,\n",
       "       -0.02851892, -0.02586797, -0.00411205,  0.02857452, -0.00057768],\n",
       "      dtype=float32)"
      ]
     },
     "execution_count": 24,
     "metadata": {},
     "output_type": "execute_result"
    }
   ],
   "source": [
    "matrix_vector"
   ]
  },
  {
   "cell_type": "code",
   "execution_count": 25,
   "id": "e1f78357",
   "metadata": {},
   "outputs": [
    {
     "data": {
      "text/plain": [
       "0.54911697"
      ]
     },
     "execution_count": 25,
     "metadata": {},
     "output_type": "execute_result"
    }
   ],
   "source": [
    "#Batman Forever (1995)\n",
    "np.dot(my_vector, matrix_vector)"
   ]
  },
  {
   "cell_type": "code",
   "execution_count": 26,
   "id": "01d713ff",
   "metadata": {},
   "outputs": [
    {
     "data": {
      "text/plain": [
       "0.02088853"
      ]
     },
     "execution_count": 26,
     "metadata": {},
     "output_type": "execute_result"
    }
   ],
   "source": [
    "#Big Green, The (1995): 52 \n",
    "BigGreen_vector = als_model.item_factors[52]\n",
    "np.dot(my_vector, BigGreen_vector)"
   ]
  },
  {
   "cell_type": "markdown",
   "id": "c8e574c7",
   "metadata": {},
   "source": [
    "### 내가 좋아하는 영화와 비슷한거 추천받기"
   ]
  },
  {
   "cell_type": "code",
   "execution_count": 27,
   "id": "c8b1e952",
   "metadata": {},
   "outputs": [
    {
     "data": {
      "text/html": [
       "<div>\n",
       "<style scoped>\n",
       "    .dataframe tbody tr th:only-of-type {\n",
       "        vertical-align: middle;\n",
       "    }\n",
       "\n",
       "    .dataframe tbody tr th {\n",
       "        vertical-align: top;\n",
       "    }\n",
       "\n",
       "    .dataframe thead th {\n",
       "        text-align: right;\n",
       "    }\n",
       "</style>\n",
       "<table border=\"1\" class=\"dataframe\">\n",
       "  <thead>\n",
       "    <tr style=\"text-align: right;\">\n",
       "      <th></th>\n",
       "      <th>title</th>\n",
       "      <th>similarity</th>\n",
       "    </tr>\n",
       "  </thead>\n",
       "  <tbody>\n",
       "    <tr>\n",
       "      <th>0</th>\n",
       "      <td>Batman Forever (1995)</td>\n",
       "      <td>1.000000</td>\n",
       "    </tr>\n",
       "    <tr>\n",
       "      <th>1</th>\n",
       "      <td>Batman &amp; Robin (1997)</td>\n",
       "      <td>0.635159</td>\n",
       "    </tr>\n",
       "    <tr>\n",
       "      <th>2</th>\n",
       "      <td>Batman Returns (1992)</td>\n",
       "      <td>0.569527</td>\n",
       "    </tr>\n",
       "    <tr>\n",
       "      <th>3</th>\n",
       "      <td>Dick Tracy (1990)</td>\n",
       "      <td>0.327803</td>\n",
       "    </tr>\n",
       "    <tr>\n",
       "      <th>4</th>\n",
       "      <td>Beverly Hills Cop III (1994)</td>\n",
       "      <td>0.310447</td>\n",
       "    </tr>\n",
       "    <tr>\n",
       "      <th>5</th>\n",
       "      <td>Flintstones, The (1994)</td>\n",
       "      <td>0.307313</td>\n",
       "    </tr>\n",
       "    <tr>\n",
       "      <th>6</th>\n",
       "      <td>Mortal Kombat: Annihilation (1997)</td>\n",
       "      <td>0.284237</td>\n",
       "    </tr>\n",
       "    <tr>\n",
       "      <th>7</th>\n",
       "      <td>Batman (1989)</td>\n",
       "      <td>0.283343</td>\n",
       "    </tr>\n",
       "    <tr>\n",
       "      <th>8</th>\n",
       "      <td>Pollyanna (1960)</td>\n",
       "      <td>0.275332</td>\n",
       "    </tr>\n",
       "    <tr>\n",
       "      <th>9</th>\n",
       "      <td>Kids of the Round Table (1995)</td>\n",
       "      <td>0.274816</td>\n",
       "    </tr>\n",
       "    <tr>\n",
       "      <th>10</th>\n",
       "      <td>B*A*P*S (1997)</td>\n",
       "      <td>0.269626</td>\n",
       "    </tr>\n",
       "    <tr>\n",
       "      <th>11</th>\n",
       "      <td>Target (1995)</td>\n",
       "      <td>0.268505</td>\n",
       "    </tr>\n",
       "    <tr>\n",
       "      <th>12</th>\n",
       "      <td>Jingle All the Way (1996)</td>\n",
       "      <td>0.267376</td>\n",
       "    </tr>\n",
       "    <tr>\n",
       "      <th>13</th>\n",
       "      <td>Adventures of Elmo in Grouchland, The (1999)</td>\n",
       "      <td>0.264693</td>\n",
       "    </tr>\n",
       "    <tr>\n",
       "      <th>14</th>\n",
       "      <td>Hav Plenty (1997)</td>\n",
       "      <td>0.264271</td>\n",
       "    </tr>\n",
       "  </tbody>\n",
       "</table>\n",
       "</div>"
      ],
      "text/plain": [
       "                                           title  similarity\n",
       "0                          Batman Forever (1995)    1.000000\n",
       "1                          Batman & Robin (1997)    0.635159\n",
       "2                          Batman Returns (1992)    0.569527\n",
       "3                              Dick Tracy (1990)    0.327803\n",
       "4                   Beverly Hills Cop III (1994)    0.310447\n",
       "5                        Flintstones, The (1994)    0.307313\n",
       "6             Mortal Kombat: Annihilation (1997)    0.284237\n",
       "7                                  Batman (1989)    0.283343\n",
       "8                               Pollyanna (1960)    0.275332\n",
       "9                 Kids of the Round Table (1995)    0.274816\n",
       "10                                B*A*P*S (1997)    0.269626\n",
       "11                                 Target (1995)    0.268505\n",
       "12                     Jingle All the Way (1996)    0.267376\n",
       "13  Adventures of Elmo in Grouchland, The (1999)    0.264693\n",
       "14                             Hav Plenty (1997)    0.264271"
      ]
     },
     "execution_count": 27,
     "metadata": {},
     "output_type": "execute_result"
    }
   ],
   "source": [
    "idx_to_title = {v:k for k,v in title_to_idx.items()}\n",
    "\n",
    "favorite_movie = title_to_idx['Batman Forever (1995)']\n",
    "\n",
    "tmp1 = als_model.similar_items(favorite_movie, N=15)\n",
    "tmp2 = [ (idx_to_title[i[0]], i[1]) for i in tmp1]\n",
    "similar_df = pd.DataFrame(tmp2, columns = ['title', 'similarity'])\n",
    "similar_df"
   ]
  },
  {
   "cell_type": "code",
   "execution_count": 28,
   "id": "0f6108a8",
   "metadata": {},
   "outputs": [
    {
     "data": {
      "text/html": [
       "<div>\n",
       "<style scoped>\n",
       "    .dataframe tbody tr th:only-of-type {\n",
       "        vertical-align: middle;\n",
       "    }\n",
       "\n",
       "    .dataframe tbody tr th {\n",
       "        vertical-align: top;\n",
       "    }\n",
       "\n",
       "    .dataframe thead th {\n",
       "        text-align: right;\n",
       "    }\n",
       "</style>\n",
       "<table border=\"1\" class=\"dataframe\">\n",
       "  <thead>\n",
       "    <tr style=\"text-align: right;\">\n",
       "      <th></th>\n",
       "      <th>movie_id</th>\n",
       "      <th>title</th>\n",
       "      <th>genre</th>\n",
       "    </tr>\n",
       "  </thead>\n",
       "  <tbody>\n",
       "    <tr>\n",
       "      <th>151</th>\n",
       "      <td>153</td>\n",
       "      <td>Batman Forever (1995)</td>\n",
       "      <td>Action|Adventure|Comedy|Crime</td>\n",
       "    </tr>\n",
       "  </tbody>\n",
       "</table>\n",
       "</div>"
      ],
      "text/plain": [
       "     movie_id                  title                          genre\n",
       "151       153  Batman Forever (1995)  Action|Adventure|Comedy|Crime"
      ]
     },
     "execution_count": 28,
     "metadata": {},
     "output_type": "execute_result"
    }
   ],
   "source": [
    "movies[movies['title']=='Batman Forever (1995)']"
   ]
  },
  {
   "cell_type": "code",
   "execution_count": 29,
   "id": "d83afbf7",
   "metadata": {},
   "outputs": [
    {
     "data": {
      "text/html": [
       "<div>\n",
       "<style scoped>\n",
       "    .dataframe tbody tr th:only-of-type {\n",
       "        vertical-align: middle;\n",
       "    }\n",
       "\n",
       "    .dataframe tbody tr th {\n",
       "        vertical-align: top;\n",
       "    }\n",
       "\n",
       "    .dataframe thead th {\n",
       "        text-align: right;\n",
       "    }\n",
       "</style>\n",
       "<table border=\"1\" class=\"dataframe\">\n",
       "  <thead>\n",
       "    <tr style=\"text-align: right;\">\n",
       "      <th></th>\n",
       "      <th>movie_id</th>\n",
       "      <th>title</th>\n",
       "      <th>genre</th>\n",
       "    </tr>\n",
       "  </thead>\n",
       "  <tbody>\n",
       "    <tr>\n",
       "      <th>151</th>\n",
       "      <td>153</td>\n",
       "      <td>Batman Forever (1995)</td>\n",
       "      <td>Action|Adventure|Comedy|Crime</td>\n",
       "    </tr>\n",
       "    <tr>\n",
       "      <th>1356</th>\n",
       "      <td>1377</td>\n",
       "      <td>Batman Returns (1992)</td>\n",
       "      <td>Action|Adventure|Comedy|Crime</td>\n",
       "    </tr>\n",
       "    <tr>\n",
       "      <th>3035</th>\n",
       "      <td>3104</td>\n",
       "      <td>Midnight Run (1988)</td>\n",
       "      <td>Action|Adventure|Comedy|Crime</td>\n",
       "    </tr>\n",
       "  </tbody>\n",
       "</table>\n",
       "</div>"
      ],
      "text/plain": [
       "      movie_id                  title                          genre\n",
       "151        153  Batman Forever (1995)  Action|Adventure|Comedy|Crime\n",
       "1356      1377  Batman Returns (1992)  Action|Adventure|Comedy|Crime\n",
       "3035      3104    Midnight Run (1988)  Action|Adventure|Comedy|Crime"
      ]
     },
     "execution_count": 29,
     "metadata": {},
     "output_type": "execute_result"
    }
   ],
   "source": [
    "movies[movies['genre']=='Action|Adventure|Comedy|Crime']"
   ]
  },
  {
   "cell_type": "markdown",
   "id": "f2191b21",
   "metadata": {},
   "source": [
    "### 내가 좋아할 만한거 추천받기"
   ]
  },
  {
   "cell_type": "code",
   "execution_count": 30,
   "id": "772b645c",
   "metadata": {},
   "outputs": [
    {
     "data": {
      "text/html": [
       "<div>\n",
       "<style scoped>\n",
       "    .dataframe tbody tr th:only-of-type {\n",
       "        vertical-align: middle;\n",
       "    }\n",
       "\n",
       "    .dataframe tbody tr th {\n",
       "        vertical-align: top;\n",
       "    }\n",
       "\n",
       "    .dataframe thead th {\n",
       "        text-align: right;\n",
       "    }\n",
       "</style>\n",
       "<table border=\"1\" class=\"dataframe\">\n",
       "  <thead>\n",
       "    <tr style=\"text-align: right;\">\n",
       "      <th></th>\n",
       "      <th>title</th>\n",
       "      <th>recommend_score</th>\n",
       "    </tr>\n",
       "  </thead>\n",
       "  <tbody>\n",
       "    <tr>\n",
       "      <th>0</th>\n",
       "      <td>Batman Returns (1992)</td>\n",
       "      <td>0.292337</td>\n",
       "    </tr>\n",
       "    <tr>\n",
       "      <th>1</th>\n",
       "      <td>Batman &amp; Robin (1997)</td>\n",
       "      <td>0.226950</td>\n",
       "    </tr>\n",
       "    <tr>\n",
       "      <th>2</th>\n",
       "      <td>Thing, The (1982)</td>\n",
       "      <td>0.157031</td>\n",
       "    </tr>\n",
       "    <tr>\n",
       "      <th>3</th>\n",
       "      <td>Batman (1989)</td>\n",
       "      <td>0.156332</td>\n",
       "    </tr>\n",
       "    <tr>\n",
       "      <th>4</th>\n",
       "      <td>Breakfast at Tiffany's (1961)</td>\n",
       "      <td>0.137722</td>\n",
       "    </tr>\n",
       "    <tr>\n",
       "      <th>5</th>\n",
       "      <td>Mars Attacks! (1996)</td>\n",
       "      <td>0.121132</td>\n",
       "    </tr>\n",
       "    <tr>\n",
       "      <th>6</th>\n",
       "      <td>Abyss, The (1989)</td>\n",
       "      <td>0.120819</td>\n",
       "    </tr>\n",
       "    <tr>\n",
       "      <th>7</th>\n",
       "      <td>M*A*S*H (1970)</td>\n",
       "      <td>0.119869</td>\n",
       "    </tr>\n",
       "    <tr>\n",
       "      <th>8</th>\n",
       "      <td>Hackers (1995)</td>\n",
       "      <td>0.118209</td>\n",
       "    </tr>\n",
       "    <tr>\n",
       "      <th>9</th>\n",
       "      <td>Contact (1997)</td>\n",
       "      <td>0.116534</td>\n",
       "    </tr>\n",
       "    <tr>\n",
       "      <th>10</th>\n",
       "      <td>Jurassic Park (1993)</td>\n",
       "      <td>0.113335</td>\n",
       "    </tr>\n",
       "    <tr>\n",
       "      <th>11</th>\n",
       "      <td>Blair Witch Project, The (1999)</td>\n",
       "      <td>0.111750</td>\n",
       "    </tr>\n",
       "    <tr>\n",
       "      <th>12</th>\n",
       "      <td>Three Musketeers, The (1993)</td>\n",
       "      <td>0.111168</td>\n",
       "    </tr>\n",
       "    <tr>\n",
       "      <th>13</th>\n",
       "      <td>Back to the Future Part II (1989)</td>\n",
       "      <td>0.110801</td>\n",
       "    </tr>\n",
       "    <tr>\n",
       "      <th>14</th>\n",
       "      <td>Beavis and Butt-head Do America (1996)</td>\n",
       "      <td>0.106198</td>\n",
       "    </tr>\n",
       "  </tbody>\n",
       "</table>\n",
       "</div>"
      ],
      "text/plain": [
       "                                     title  recommend_score\n",
       "0                    Batman Returns (1992)         0.292337\n",
       "1                    Batman & Robin (1997)         0.226950\n",
       "2                        Thing, The (1982)         0.157031\n",
       "3                            Batman (1989)         0.156332\n",
       "4            Breakfast at Tiffany's (1961)         0.137722\n",
       "5                     Mars Attacks! (1996)         0.121132\n",
       "6                        Abyss, The (1989)         0.120819\n",
       "7                           M*A*S*H (1970)         0.119869\n",
       "8                           Hackers (1995)         0.118209\n",
       "9                           Contact (1997)         0.116534\n",
       "10                    Jurassic Park (1993)         0.113335\n",
       "11         Blair Witch Project, The (1999)         0.111750\n",
       "12            Three Musketeers, The (1993)         0.111168\n",
       "13       Back to the Future Part II (1989)         0.110801\n",
       "14  Beavis and Butt-head Do America (1996)         0.106198"
      ]
     },
     "execution_count": 30,
     "metadata": {},
     "output_type": "execute_result"
    }
   ],
   "source": [
    "user = user_to_idx[6041]\n",
    "\n",
    "tmp1 = als_model.recommend(user, csr_data, N=15, filter_already_liked_items=True)\n",
    "\n",
    "tmp2 = [ (idx_to_title[i[0]], i[1]) for i in tmp1]\n",
    "recommend_df = pd.DataFrame(tmp2, columns = ['title', 'recommend_score'])\n",
    "recommend_df"
   ]
  },
  {
   "cell_type": "markdown",
   "id": "a9235e0e",
   "metadata": {},
   "source": [
    "## 회고록\n",
    "\n",
    "- np.dot(my_vector, matrix_vector) 수치가 너무 낮았다. factors와 iter를 증가시키면 괜찮아진다는데 한번 실험해보았다.  \n",
    "1) factor: 100 iter: 30 dot : 0.2027  \n",
    "2) factor: 200 iter: 30 dot : 0.3628  \n",
    "3) factor: 200 iter: 100 dot : 0.3480\n",
    "4) factor: 400 iter: 100 dot : 0.5491  \n",
    "RESULT: .54까지 확인했으니, 그만 알아보도록 하자. --- factor와 iter 수치 증가에 따라 유의미하게 수치가 상승함.\n",
    "\n",
    "하나의 영화를 기반한 추천이나 유저기반 추천 리스트를 보았을때 시리즈물을 위주로 선 추천후 비슷해보이는 영화들이 보인다. 다만 유저기반 추천의 경우 factor가 늘어남에 따라 score는 낮아지는 현상을 보였다. 시리즈물 조차 0.2정도의 수치를 나타내는 것을 볼때 score의 '절대적 의미' 보다 '상대적 의미'가 더 큰 것인 것 같은 느낌이 든다."
   ]
  }
 ],
 "metadata": {
  "kernelspec": {
   "display_name": "Python 3 (ipykernel)",
   "language": "python",
   "name": "python3"
  },
  "language_info": {
   "codemirror_mode": {
    "name": "ipython",
    "version": 3
   },
   "file_extension": ".py",
   "mimetype": "text/x-python",
   "name": "python",
   "nbconvert_exporter": "python",
   "pygments_lexer": "ipython3",
   "version": "3.9.7"
  }
 },
 "nbformat": 4,
 "nbformat_minor": 5
}
