{
  "cells": [
    {
      "cell_type": "markdown",
      "metadata": {
        "id": "view-in-github",
        "colab_type": "text"
      },
      "source": [
        "<a href=\"https://colab.research.google.com/github/qlqqqk/Aiffel_prac/blob/main/EXP/%5BE_06%5Dlyrics_del_verse.ipynb\" target=\"_parent\"><img src=\"https://colab.research.google.com/assets/colab-badge.svg\" alt=\"Open In Colab\"/></a>"
      ]
    },
    {
      "cell_type": "code",
      "source": [
        "from google.colab import drive\n",
        "drive.mount('/content/drive')"
      ],
      "metadata": {
        "colab": {
          "base_uri": "https://localhost:8080/"
        },
        "id": "fJropLGHy98x",
        "outputId": "fe819ddd-9970-42ca-d875-9d1e4ccd583e"
      },
      "execution_count": 1,
      "outputs": [
        {
          "output_type": "stream",
          "name": "stdout",
          "text": [
            "Mounted at /content/drive\n"
          ]
        }
      ]
    },
    {
      "cell_type": "code",
      "execution_count": 2,
      "metadata": {
        "colab": {
          "base_uri": "https://localhost:8080/"
        },
        "id": "M2iUnd-Hy2Jf",
        "outputId": "08317abb-1f7c-44fe-a622-5e2208d62420"
      },
      "outputs": [
        {
          "output_type": "stream",
          "name": "stdout",
          "text": [
            "[nltk_data] Downloading package punkt to /root/nltk_data...\n",
            "[nltk_data]   Unzipping tokenizers/punkt.zip.\n"
          ]
        }
      ],
      "source": [
        "import glob\n",
        "import os, re \n",
        "import numpy as np\n",
        "import matplotlib.pyplot as plt\n",
        "from sklearn.model_selection import train_test_split\n",
        "import tensorflow as tf\n",
        "import nltk\n",
        "nltk.download('punkt')\n",
        "from nltk.corpus import stopwords\n",
        "from nltk.tokenize import word_tokenize,WordPunctTokenizer\n",
        "from keras.callbacks import ModelCheckpoint\n",
        "from tensorflow.keras.models import save_model, load_model"
      ]
    },
    {
      "cell_type": "code",
      "execution_count": 3,
      "metadata": {
        "id": "B3UCqP6qy2Ji"
      },
      "outputs": [],
      "source": [
        "txt_file_path = '/content/drive/MyDrive/Aiffel/data/lyrics.txt'\n",
        "txt_list = glob.glob(txt_file_path)\n",
        "raw_corpus = []"
      ]
    },
    {
      "cell_type": "code",
      "execution_count": 4,
      "metadata": {
        "id": "1TDFmYVjy2Ji"
      },
      "outputs": [],
      "source": [
        "for txt_file in txt_list:\n",
        "    with open(txt_file,'r') as f:\n",
        "        raw = f.read().splitlines()\n",
        "        raw_corpus.extend(raw)"
      ]
    },
    {
      "cell_type": "code",
      "execution_count": 5,
      "metadata": {
        "colab": {
          "base_uri": "https://localhost:8080/"
        },
        "id": "jeZ6tHK8y2Jj",
        "outputId": "e810355d-183c-42f2-990c-e660f8ec82a7"
      },
      "outputs": [
        {
          "output_type": "stream",
          "name": "stdout",
          "text": [
            "데이터 크기: 187052\n",
            "Examples:\n",
            " [\"Busted flat in Baton Rouge, waitin' for a train\", \"And I's feelin' near as faded as my jeans\", 'Bobby thumbed a diesel down, just before it rained', 'It rode us all the way to New Orleans I pulled my harpoon out of my dirty red bandanna', \"I was playin' soft while Bobby sang the blues, yeah\", \"Windshield wipers slappin' time, I was holdin' Bobby's hand in mine\", \"We sang every song that driver knew Freedom's just another word for nothin' left to lose\", \"Nothin', don't mean nothin' hon' if it ain't free, no no\", \"And, feelin' good was easy, Lord, when he sang the blues\"]\n"
          ]
        }
      ],
      "source": [
        "print(\"데이터 크기:\",len(raw_corpus))\n",
        "print(\"Examples:\\n\",raw_corpus[:9])"
      ]
    },
    {
      "cell_type": "markdown",
      "source": [
        "## 텍스트 전처리\n",
        "기본 베이스 코드 + 'verse'는 유의미한 가사가 아니라고 생각하여 삭제처리 추가"
      ],
      "metadata": {
        "id": "bsq_xItHxSg_"
      }
    },
    {
      "cell_type": "code",
      "source": [
        "##의미가 있는 단어라고 보기 어려운 verse 제거를 위한 확인작업 search가 verse만 잡아내는지 확인 (ex. abverseab를 인식하는가)\n",
        "##무의미한 출력이 길어서 주석처리하겠습니다!\n",
        "# for i in raw_corpus:\n",
        "#   if re.search('verse',i) != None:\n",
        "#     print(re.findall('verse',i))"
      ],
      "metadata": {
        "id": "v7woO_S2Nq18"
      },
      "execution_count": null,
      "outputs": []
    },
    {
      "cell_type": "code",
      "execution_count": 7,
      "metadata": {
        "id": "Pt0y4H25y2Jk",
        "colab": {
          "base_uri": "https://localhost:8080/"
        },
        "outputId": "cfdb80c8-38db-4ddd-b090-79325abf046b"
      },
      "outputs": [
        {
          "output_type": "stream",
          "name": "stdout",
          "text": [
            "<start> busted flat in baton rouge , waitin for a train <end>\n",
            "<start> and i s feelin near as faded as my jeans <end>\n"
          ]
        }
      ],
      "source": [
        "def preprocess_sentence(sentence):\n",
        "    sentence = sentence.lower().strip() # 1 문장의 소문자화 , 양쪽 공백 삭제\n",
        "    sentence = re.sub(r\"([?.!,¿])\", r\" \\1 \", sentence) # 2 특수문자 양쪽에 공백넣기 \n",
        "    sentence = re.sub(r'[\" \"]+', \" \", sentence) # 3 공백이 복수일때 하나로 바꾸기\n",
        "    sentence = re.sub(r\"[^a-zA-Z?.!,¿]+\", \" \", sentence) # 4 불필요한 문자들 공백으로 바꾸기\n",
        "    sentence = re.sub(r\"verse\", \" \", sentence) # verse를 공백으로 바꿔버리기\n",
        "    sentence = sentence.strip() # 5 양쪽의 공백 지우기\n",
        "    sentence = '<start> ' + sentence + ' <end>' # 6 문장 앞뒤로 문자열 추가\n",
        "    return sentence\n",
        "for raw in raw_corpus[:2]:\n",
        "    print(preprocess_sentence(raw))"
      ]
    },
    {
      "cell_type": "code",
      "execution_count": 8,
      "metadata": {
        "id": "BwTZa-dHy2Jl",
        "colab": {
          "base_uri": "https://localhost:8080/"
        },
        "outputId": "5529c3f5-de39-4428-aec8-3f12a2c54756"
      },
      "outputs": [
        {
          "output_type": "execute_result",
          "data": {
            "text/plain": [
              "['<start> busted flat in baton rouge , waitin for a train <end>',\n",
              " '<start> and i s feelin near as faded as my jeans <end>',\n",
              " '<start> bobby thumbed a diesel down , just before it rained <end>',\n",
              " '<start> i was playin soft while bobby sang the blues , yeah <end>',\n",
              " '<start> windshield wipers slappin time , i was holdin bobby s hand in mine <end>',\n",
              " '<start> you know , feelin good was good enough for me <end>',\n",
              " '<start> there bobby shared the secrets of my soul <end>',\n",
              " '<start> through all kinds of weather , through everything we done <end>',\n",
              " '<start> he s lookin for that home , and i hope he finds it <end>',\n",
              " '<start> nothin , that s all that bobby left me , yeah <end>',\n",
              " '<start> hey , feelin good was good enough for me , mm hmm <end>',\n",
              " '<start> good enough for me and my bobby mcghee la da da <end>',\n",
              " '<start> la da da da <end>',\n",
              " '<start> la da da da da da da da <end>',\n",
              " '<start> la da da da da da da da <end>',\n",
              " '<start> bobby mcghee , yeah la da da da da da da <end>',\n",
              " '<start> la da da da da da da <end>',\n",
              " '<start> la da da da da da da <end>',\n",
              " '<start> la da da da da da da da da <end>',\n",
              " '<start> hey , my bobby <end>']"
            ]
          },
          "metadata": {},
          "execution_count": 8
        }
      ],
      "source": [
        "# 여기에 정제된 문장을 모을겁니다\n",
        "corpus = []\n",
        "\n",
        "for sentence in raw_corpus:\n",
        "    # 우리가 원하지 않는 문장은 건너뜁니다\n",
        "    if len(sentence) == 0: continue\n",
        "    if sentence[-1] == \":\": continue\n",
        "    \n",
        "    \n",
        "    preprocessed_sentence = preprocess_sentence(sentence)\n",
        "    if len(re.split(' ',preprocessed_sentence)) <= 15: # 공백 기준으로 단어 개수 산정 15개를 넘지않는 선에서 리스트에 추가\n",
        "          corpus.append(preprocessed_sentence)\n",
        "        \n",
        "corpus[:20] # la da 등 무의미 해보이는 단어이지만 노래 가사 이기때문에 이런 부분도 필요하다고 생각해서 제거하지않음."
      ]
    },
    {
      "cell_type": "code",
      "execution_count": 9,
      "metadata": {
        "id": "jJtmUJv7y2Jm",
        "colab": {
          "base_uri": "https://localhost:8080/",
          "height": 35
        },
        "outputId": "8d87d7c1-d097-4517-b607-7dfbc566590c"
      },
      "outputs": [
        {
          "output_type": "execute_result",
          "data": {
            "text/plain": [
              "'<start> take the beatdown we fuckin givin cmon motherfucker come on motherfuckers come on <end>'"
            ],
            "application/vnd.google.colaboratory.intrinsic+json": {
              "type": "string"
            }
          },
          "metadata": {},
          "execution_count": 9
        }
      ],
      "source": [
        "max(corpus,key=len)"
      ]
    },
    {
      "cell_type": "markdown",
      "source": [
        "## 토큰화\n",
        "num_words를 어느정도로 설정해야 적정할지, 모델 학습에 어떤 영향을 줄지 이해가 조금 어려운 부분이 있었다. <'unk'>' 부분도 자주쓰인 단어 7000개 이외에는 블러처리 해버리겠다는 소리인지..? 만약에 가사 생성시 unk가 나와버리는 상황이 되면 어떻게 처리해야할지 의문.!"
      ],
      "metadata": {
        "id": "-rs0Y--4xhPO"
      }
    },
    {
      "cell_type": "code",
      "execution_count": 10,
      "metadata": {
        "id": "8eGvgsX6y2Jm",
        "colab": {
          "base_uri": "https://localhost:8080/"
        },
        "outputId": "11bb4ff5-cb3c-4b00-fbb7-c388aeb2738e"
      },
      "outputs": [
        {
          "output_type": "stream",
          "name": "stdout",
          "text": [
            "[[   2 4006 1672 ...    0    0    0]\n",
            " [   2    8    4 ...    0    0    0]\n",
            " [   2  882 6820 ...    0    0    0]\n",
            " ...\n",
            " [   2   22   22 ...    3    0    0]\n",
            " [   2   22 4250 ...    0    0    0]\n",
            " [   2    3    0 ...    0    0    0]] <keras_preprocessing.text.Tokenizer object at 0x7f39293b18d0>\n"
          ]
        }
      ],
      "source": [
        "# 토큰화 할 때 텐서플로우의 Tokenizer와 pad_sequences를 사용합니다\n",
        "def tokenize(corpus):\n",
        "    # 7000단어를 기억할 수 있는 tokenizer를 만들겁니다\n",
        "    # 우리는 이미 문장을 정제했으니 filters가 필요없어요\n",
        "    # 7000단어에 포함되지 못한 단어는 '<unk>'로 바꿀거에요\n",
        "    tokenizer = tf.keras.preprocessing.text.Tokenizer(\n",
        "        num_words=7000, \n",
        "        filters=' ',\n",
        "        oov_token=\"<unk>\"\n",
        "    )\n",
        "    # corpus를 이용해 tokenizer 내부의 단어장을 완성합니다\n",
        "    tokenizer.fit_on_texts(corpus)\n",
        "    # 준비한 tokenizer를 이용해 corpus를 Tensor로 변환합니다\n",
        "    tensor = tokenizer.texts_to_sequences(corpus)   \n",
        "    # 입력 데이터의 시퀀스 길이를 일정하게 맞춰줍니다\n",
        "    # 만약 시퀀스가 짧다면 문장 뒤에 패딩을 붙여 길이를 맞춰줍니다.\n",
        "    # 문장 앞에 패딩을 붙여 길이를 맞추고 싶다면 padding='pre'를 사용합니다\n",
        "    tensor = tf.keras.preprocessing.sequence.pad_sequences(tensor, padding='post')  \n",
        "    \n",
        "    print(tensor,tokenizer)\n",
        "    return tensor, tokenizer\n",
        "\n",
        "tensor, tokenizer = tokenize(corpus)"
      ]
    },
    {
      "cell_type": "code",
      "execution_count": 11,
      "metadata": {
        "id": "djLyMvcYy2Jn",
        "colab": {
          "base_uri": "https://localhost:8080/"
        },
        "outputId": "141ce5b5-6105-43d0-bcfd-c556765c119f"
      },
      "outputs": [
        {
          "output_type": "stream",
          "name": "stdout",
          "text": [
            "1 : <unk>\n",
            "2 : <start>\n",
            "3 : <end>\n",
            "4 : i\n",
            "5 : ,\n",
            "6 : the\n",
            "7 : you\n",
            "8 : and\n",
            "9 : a\n",
            "10 : to\n"
          ]
        }
      ],
      "source": [
        "for idx in tokenizer.index_word:\n",
        "    print(idx, \":\", tokenizer.index_word[idx])\n",
        "\n",
        "    if idx >= 10: break"
      ]
    },
    {
      "cell_type": "markdown",
      "source": [
        "## train validation set 분리"
      ],
      "metadata": {
        "id": "VmlB3ySyyf44"
      }
    },
    {
      "cell_type": "code",
      "execution_count": 12,
      "metadata": {
        "id": "BVe-8J2Ry2Jn",
        "colab": {
          "base_uri": "https://localhost:8080/"
        },
        "outputId": "099d64fe-b5f1-4ec7-ec10-5cb8a2f7a69c"
      },
      "outputs": [
        {
          "output_type": "stream",
          "name": "stdout",
          "text": [
            "[   2 4006 1672   14    1 4482    5 1293   28    9  634    3    0    0]\n",
            "[4006 1672   14    1 4482    5 1293   28    9  634    3    0    0    0]\n"
          ]
        }
      ],
      "source": [
        "# tensor에서 마지막 토큰을 잘라내서 소스 문장을 생성합니다\n",
        "# 마지막 토큰은 <end>가 아니라 <pad>일 가능성이 높습니다.\n",
        "src_input = tensor[:, :-1]  \n",
        "# tensor에서 <start>를 잘라내서 타겟 문장을 생성합니다.\n",
        "tgt_input = tensor[:, 1:]    \n",
        "\n",
        "print(src_input[0])\n",
        "print(tgt_input[0])"
      ]
    },
    {
      "cell_type": "code",
      "execution_count": 13,
      "metadata": {
        "id": "jbfa4wN4y2Jp"
      },
      "outputs": [],
      "source": [
        "enc_train, enc_val, dec_train, dec_val = train_test_split(src_input, tgt_input, test_size=0.2, random_state=2020)"
      ]
    },
    {
      "cell_type": "code",
      "source": [
        "enc_train.shape,enc_val.shape"
      ],
      "metadata": {
        "id": "RRC46ZbevlVT",
        "colab": {
          "base_uri": "https://localhost:8080/"
        },
        "outputId": "84a58087-0c1a-4203-af13-e2c070f19187"
      },
      "execution_count": 14,
      "outputs": [
        {
          "output_type": "execute_result",
          "data": {
            "text/plain": [
              "((124768, 14), (31192, 14))"
            ]
          },
          "metadata": {},
          "execution_count": 14
        }
      ]
    },
    {
      "cell_type": "code",
      "execution_count": 15,
      "metadata": {
        "id": "wgQA4qG8y2Jp",
        "colab": {
          "base_uri": "https://localhost:8080/"
        },
        "outputId": "715603ef-ff4f-4f18-b3e8-75b16bc58ad0"
      },
      "outputs": [
        {
          "output_type": "execute_result",
          "data": {
            "text/plain": [
              "<BatchDataset element_spec=(TensorSpec(shape=(256, 14), dtype=tf.int32, name=None), TensorSpec(shape=(256, 14), dtype=tf.int32, name=None))>"
            ]
          },
          "metadata": {},
          "execution_count": 15
        }
      ],
      "source": [
        "BUFFER_SIZE = len(src_input)\n",
        "BATCH_SIZE = 256\n",
        "steps_per_epoch = len(src_input) // BATCH_SIZE\n",
        "\n",
        " # tokenizer가 구축한 단어사전 내 7000개와, 여기 포함되지 않은 0:<pad>를 포함하여 7001개\n",
        "VOCAB_SIZE = tokenizer.num_words + 1   \n",
        "\n",
        "# 준비한 데이터 소스로부터 데이터셋을 만듭니다\n",
        "# 데이터셋에 대해서는 아래 문서를 참고하세요\n",
        "# 자세히 알아둘수록 도움이 많이 되는 중요한 문서입니다\n",
        "# https://www.tensorflow.org/api_docs/python/tf/data/Dataset\n",
        "train_dataset = tf.data.Dataset.from_tensor_slices((enc_train, dec_train))\n",
        "train_dataset = train_dataset.shuffle(BUFFER_SIZE)\n",
        "train_dataset = train_dataset.batch(BATCH_SIZE, drop_remainder=True)\n",
        "train_dataset"
      ]
    },
    {
      "cell_type": "code",
      "execution_count": 16,
      "metadata": {
        "id": "4pq1JL1my2Jq",
        "colab": {
          "base_uri": "https://localhost:8080/"
        },
        "outputId": "fe06cde6-1953-49b2-cd93-659030271ec3"
      },
      "outputs": [
        {
          "output_type": "execute_result",
          "data": {
            "text/plain": [
              "<BatchDataset element_spec=(TensorSpec(shape=(256, 14), dtype=tf.int32, name=None), TensorSpec(shape=(256, 14), dtype=tf.int32, name=None))>"
            ]
          },
          "metadata": {},
          "execution_count": 16
        }
      ],
      "source": [
        "val_dataset = tf.data.Dataset.from_tensor_slices((enc_val, dec_val))\n",
        "val_dataset = val_dataset.shuffle(BUFFER_SIZE)\n",
        "val_dataset = val_dataset.batch(BATCH_SIZE, drop_remainder=True)\n",
        "val_dataset"
      ]
    },
    {
      "cell_type": "markdown",
      "source": [
        "## 모델 구성 및 학습\n",
        "학습에 너무 오랜시간이 걸려서 LSTM을 추가로 쌓아본다던지 여러 시도를 하기는 어려웠던거 같다. \n",
        "- RNN모델에서 하이퍼파라미터 변화에 따른 정확도와 손실 성능 분석 논문에서 임베딩 사이즈가 모델에 가장 큰 영향을 준다고 했는데 실제로 2048보다 낮은 수들은 loss가 상대적으로 높았다."
      ],
      "metadata": {
        "id": "OVdCBVRyyot9"
      }
    },
    {
      "cell_type": "code",
      "execution_count": 17,
      "metadata": {
        "id": "Fiay4w68y2Jq"
      },
      "outputs": [],
      "source": [
        "class TextGenerator(tf.keras.Model):\n",
        "    def __init__(self, vocab_size, embedding_size, hidden_size):\n",
        "        super().__init__()\n",
        "        \n",
        "        self.embedding = tf.keras.layers.Embedding(vocab_size, embedding_size)\n",
        "        self.rnn_1 = tf.keras.layers.LSTM(hidden_size, return_sequences=True)\n",
        "        self.drop1 = tf.keras.layers.Dropout(0.3)\n",
        "        self.rnn_2 = tf.keras.layers.LSTM(hidden_size, return_sequences=True)\n",
        "        self.linear = tf.keras.layers.Dense(vocab_size)\n",
        "        \n",
        "    def call(self, x):\n",
        "        out = self.embedding(x)\n",
        "        out = self.rnn_1(out)\n",
        "        out = self.drop1(out)\n",
        "        out = self.rnn_2(out)\n",
        "        out = self.linear(out)\n",
        "        \n",
        "        return out\n",
        "    \n",
        "embedding_size = 2048\n",
        "hidden_size = 2048\n",
        "model = TextGenerator(tokenizer.num_words + 1, embedding_size , hidden_size)"
      ]
    },
    {
      "cell_type": "code",
      "execution_count": 18,
      "metadata": {
        "id": "Kknnx90Ty2Jq",
        "colab": {
          "base_uri": "https://localhost:8080/"
        },
        "outputId": "9da6434e-6091-4027-bbd7-0410b3237282"
      },
      "outputs": [
        {
          "output_type": "execute_result",
          "data": {
            "text/plain": [
              "<tf.Tensor: shape=(256, 14, 7001), dtype=float32, numpy=\n",
              "array([[[ 6.78904471e-04,  8.26236283e-05, -5.07510616e-04, ...,\n",
              "         -4.82212519e-04,  8.32056277e-04, -1.29012187e-04],\n",
              "        [ 1.52903807e-03,  3.65945685e-04, -9.63431085e-04, ...,\n",
              "         -6.50505186e-04,  9.30133392e-04, -2.91815464e-04],\n",
              "        [ 1.82287011e-03, -1.02898266e-04, -8.15897656e-04, ...,\n",
              "         -7.98554509e-04,  8.97131569e-04, -3.62690684e-04],\n",
              "        ...,\n",
              "        [ 1.04694336e-03, -1.85119139e-03, -3.87571193e-03, ...,\n",
              "          2.89592566e-03,  1.68899156e-03, -9.54587245e-04],\n",
              "        [-2.80491833e-04, -2.14111479e-03, -3.63818486e-03, ...,\n",
              "          2.32937466e-03,  1.03956729e-03, -2.10246793e-03],\n",
              "        [-1.45949819e-03, -2.39880243e-03, -3.26365721e-03, ...,\n",
              "          1.81012158e-03,  4.36620583e-04, -3.25342594e-03]],\n",
              "\n",
              "       [[ 6.78904471e-04,  8.26236283e-05, -5.07510616e-04, ...,\n",
              "         -4.82212519e-04,  8.32056277e-04, -1.29012187e-04],\n",
              "        [ 7.18762283e-04,  2.08054844e-04, -5.39204921e-04, ...,\n",
              "         -6.12256408e-04,  4.12945345e-04,  1.89864368e-04],\n",
              "        [ 7.11699715e-04, -8.69151045e-05, -9.76771116e-04, ...,\n",
              "         -1.32679380e-03, -2.48944823e-04,  4.57156333e-04],\n",
              "        ...,\n",
              "        [-4.91954677e-04, -7.90229300e-04, -1.17035198e-03, ...,\n",
              "         -4.82274336e-04, -2.65742396e-03, -4.52083274e-04],\n",
              "        [-1.62045786e-03, -1.24480715e-03, -1.18297909e-03, ...,\n",
              "         -5.35334228e-04, -2.83210119e-03, -1.54507451e-03],\n",
              "        [-2.58945464e-03, -1.65473553e-03, -1.11647486e-03, ...,\n",
              "         -5.47665928e-04, -2.94428412e-03, -2.65455572e-03]],\n",
              "\n",
              "       [[ 6.78904471e-04,  8.26236283e-05, -5.07510616e-04, ...,\n",
              "         -4.82212519e-04,  8.32056277e-04, -1.29012187e-04],\n",
              "        [ 1.68439222e-03, -8.07714532e-04, -1.78534689e-03, ...,\n",
              "          2.90431170e-04,  1.04836118e-03,  2.17198089e-04],\n",
              "        [ 1.58250309e-03, -1.90046278e-03, -2.90680467e-03, ...,\n",
              "          8.30193923e-04,  1.49720686e-03, -2.30036560e-04],\n",
              "        ...,\n",
              "        [ 2.13476736e-03,  1.27097254e-03, -2.62541533e-03, ...,\n",
              "          1.75652932e-03,  1.12700753e-03,  1.95156899e-04],\n",
              "        [ 2.18891539e-03,  1.08176062e-03, -2.63807666e-03, ...,\n",
              "          1.14317692e-03,  1.31860364e-03,  5.21231850e-04],\n",
              "        [ 2.31832755e-03,  9.55037947e-04, -2.86755478e-03, ...,\n",
              "          9.25064320e-04,  8.11078411e-04,  8.11880513e-04]],\n",
              "\n",
              "       ...,\n",
              "\n",
              "       [[ 6.78904471e-04,  8.26236283e-05, -5.07510616e-04, ...,\n",
              "         -4.82212519e-04,  8.32056277e-04, -1.29012187e-04],\n",
              "        [ 9.75173200e-04,  2.20855305e-04, -4.72135347e-04, ...,\n",
              "          2.73583486e-04,  1.45421806e-03, -4.17510339e-04],\n",
              "        [ 1.16095028e-03,  6.48913381e-04, -4.39177791e-04, ...,\n",
              "          8.71399709e-04,  1.50819938e-03, -2.04217736e-06],\n",
              "        ...,\n",
              "        [-1.68779981e-03,  1.67786283e-03, -1.20802573e-03, ...,\n",
              "          5.97891212e-03,  1.70493615e-03,  7.25542835e-04],\n",
              "        [-2.46181060e-03,  8.59786291e-04, -1.63065980e-03, ...,\n",
              "          6.00171601e-03,  1.48617884e-03, -1.75050227e-04],\n",
              "        [-3.23722442e-03,  2.76588548e-06, -1.81297213e-03, ...,\n",
              "          5.80220530e-03,  1.18238165e-03, -1.31853495e-03]],\n",
              "\n",
              "       [[ 6.78904471e-04,  8.26236283e-05, -5.07510616e-04, ...,\n",
              "         -4.82212519e-04,  8.32056277e-04, -1.29012187e-04],\n",
              "        [ 4.38454037e-04,  9.80553566e-04, -9.91315464e-04, ...,\n",
              "         -1.42315135e-03,  1.82761694e-03,  5.50719960e-05],\n",
              "        [ 1.28525635e-03,  1.20108854e-03, -5.38328255e-04, ...,\n",
              "         -1.81015581e-03,  2.06338428e-03, -3.09855503e-04],\n",
              "        ...,\n",
              "        [ 6.45488675e-04, -2.98745872e-04, -1.15450856e-03, ...,\n",
              "          1.98453059e-03,  5.43598610e-04,  1.00392546e-03],\n",
              "        [ 2.86716386e-04, -8.87451170e-04, -1.32436794e-03, ...,\n",
              "          1.57415913e-03, -2.19129754e-04,  3.71768867e-04],\n",
              "        [-4.10196692e-04, -1.54370908e-03, -1.46352092e-03, ...,\n",
              "          1.23277446e-03, -7.59012299e-04, -6.12556469e-04]],\n",
              "\n",
              "       [[ 6.78904471e-04,  8.26236283e-05, -5.07510616e-04, ...,\n",
              "         -4.82212519e-04,  8.32056277e-04, -1.29012187e-04],\n",
              "        [ 6.46406610e-04,  8.35319952e-06, -1.14546274e-03, ...,\n",
              "         -7.58205424e-04,  1.01535150e-03,  6.02669199e-04],\n",
              "        [-1.18912416e-04, -4.77185386e-04, -6.37241872e-04, ...,\n",
              "          1.01196194e-04,  1.81692780e-03,  7.36864633e-04],\n",
              "        ...,\n",
              "        [-4.81666299e-03, -2.61270930e-03, -7.46772974e-04, ...,\n",
              "         -1.92386517e-03,  3.37978010e-03, -1.48876163e-04],\n",
              "        [-5.49308117e-03, -2.33143382e-03, -1.59720238e-03, ...,\n",
              "         -2.08547129e-03,  3.80524830e-03,  3.57049837e-04],\n",
              "        [-5.22901770e-03, -1.97656220e-03, -2.49475334e-03, ...,\n",
              "         -1.60203432e-03,  3.27938772e-03,  8.47805000e-04]]],\n",
              "      dtype=float32)>"
            ]
          },
          "metadata": {},
          "execution_count": 18
        }
      ],
      "source": [
        "# 데이터셋에서 데이터 한 배치만 불러오는 방법입니다.\n",
        "# 지금은 동작 원리에 너무 빠져들지 마세요~\n",
        "for src_sample, tgt_sample in train_dataset.take(1): break\n",
        "\n",
        "# 한 배치만 불러온 데이터를 모델에 넣어봅니다\n",
        "model(src_sample)"
      ]
    },
    {
      "cell_type": "code",
      "execution_count": 19,
      "metadata": {
        "id": "8Y6_011Gy2Jr",
        "colab": {
          "base_uri": "https://localhost:8080/"
        },
        "outputId": "07644358-93fb-4a5c-ff63-33b3cc2cf258"
      },
      "outputs": [
        {
          "output_type": "stream",
          "name": "stdout",
          "text": [
            "Model: \"text_generator\"\n",
            "_________________________________________________________________\n",
            " Layer (type)                Output Shape              Param #   \n",
            "=================================================================\n",
            " embedding (Embedding)       multiple                  14338048  \n",
            "                                                                 \n",
            " lstm (LSTM)                 multiple                  33562624  \n",
            "                                                                 \n",
            " dropout (Dropout)           multiple                  0         \n",
            "                                                                 \n",
            " lstm_1 (LSTM)               multiple                  33562624  \n",
            "                                                                 \n",
            " dense (Dense)               multiple                  14345049  \n",
            "                                                                 \n",
            "=================================================================\n",
            "Total params: 95,808,345\n",
            "Trainable params: 95,808,345\n",
            "Non-trainable params: 0\n",
            "_________________________________________________________________\n"
          ]
        }
      ],
      "source": [
        "model.summary()"
      ]
    },
    {
      "cell_type": "code",
      "execution_count": 21,
      "metadata": {
        "id": "ky98lcKzy2Jr",
        "colab": {
          "base_uri": "https://localhost:8080/",
          "height": 35
        },
        "outputId": "183b72a6-0d89-40dc-fd02-076e179bb67e"
      },
      "outputs": [
        {
          "output_type": "execute_result",
          "data": {
            "text/plain": [
              "'<start> he electric explore explore charged charged spring africa failed failed failed tha skill skill skill skill iv over over '"
            ],
            "application/vnd.google.colaboratory.intrinsic+json": {
              "type": "string"
            }
          },
          "metadata": {},
          "execution_count": 21
        }
      ],
      "source": [
        "def generate_text(model, tokenizer, init_sentence=\"<start>\", max_len=20):\n",
        "    # 테스트를 위해서 입력받은 init_sentence도 텐서로 변환합니다\n",
        "    test_input = tokenizer.texts_to_sequences([init_sentence])\n",
        "    test_tensor = tf.convert_to_tensor(test_input, dtype=tf.int64)\n",
        "    end_token = tokenizer.word_index[\"<end>\"]\n",
        "\n",
        "    # 단어 하나씩 예측해 문장을 만듭니다\n",
        "    #    1. 입력받은 문장의 텐서를 입력합니다\n",
        "    #    2. 예측된 값 중 가장 높은 확률인 word index를 뽑아냅니다\n",
        "    #    3. 2에서 예측된 word index를 문장 뒤에 붙입니다\n",
        "    #    4. 모델이 <end>를 예측했거나, max_len에 도달했다면 문장 생성을 마칩니다\n",
        "    while True:\n",
        "        # 1\n",
        "        predict = model(test_tensor) \n",
        "        # 2\n",
        "        predict_word = tf.argmax(tf.nn.softmax(predict, axis=-1), axis=-1)[:, -1] \n",
        "        # 3 \n",
        "        test_tensor = tf.concat([test_tensor, tf.expand_dims(predict_word, axis=0)], axis=-1)\n",
        "        # 4\n",
        "        if predict_word.numpy()[0] == end_token: break\n",
        "        if test_tensor.shape[1] >= max_len: break\n",
        "\n",
        "    generated = \"\"\n",
        "    # tokenizer를 이용해 word index를 단어로 하나씩 변환합니다 \n",
        "    for word_index in test_tensor[0].numpy():\n",
        "        generated += tokenizer.index_word[word_index] + \" \"\n",
        "\n",
        "    return generated\n",
        "generate_text(model, tokenizer, init_sentence=\"<start> he\")"
      ]
    },
    {
      "cell_type": "code",
      "execution_count": 22,
      "metadata": {
        "id": "ARCBA8Tfy2Js"
      },
      "outputs": [],
      "source": [
        "optimizer = tf.keras.optimizers.Adam(learning_rate=0.001)\n",
        "loss = tf.keras.losses.SparseCategoricalCrossentropy(\n",
        "    from_logits=True,\n",
        "    reduction='none'\n",
        ")\n",
        "MC = ModelCheckpoint('lyrics_best_model.tf', verbose=1, save_best_only=True)\n",
        "model.compile(loss=loss, optimizer=optimizer, metrics=['accuracy'])"
      ]
    },
    {
      "cell_type": "code",
      "execution_count": 23,
      "metadata": {
        "id": "2SzJC-4Gy2Js",
        "colab": {
          "base_uri": "https://localhost:8080/"
        },
        "outputId": "3d13bd7d-531a-4ecd-f859-2bb03986429b"
      },
      "outputs": [
        {
          "output_type": "stream",
          "name": "stdout",
          "text": [
            "Epoch 1/10\n",
            "487/487 [==============================] - ETA: 0s - loss: 3.0257 - accuracy: 0.5185\n",
            "Epoch 1: val_loss improved from inf to 2.70832, saving model to lyrics_best_model.tf\n"
          ]
        },
        {
          "output_type": "stream",
          "name": "stderr",
          "text": [
            "WARNING:absl:Found untraced functions such as lstm_cell_layer_call_fn, lstm_cell_layer_call_and_return_conditional_losses, lstm_cell_1_layer_call_fn, lstm_cell_1_layer_call_and_return_conditional_losses while saving (showing 4 of 4). These functions will not be directly callable after loading.\n"
          ]
        },
        {
          "output_type": "stream",
          "name": "stdout",
          "text": [
            "INFO:tensorflow:Assets written to: lyrics_best_model.tf/assets\n"
          ]
        },
        {
          "output_type": "stream",
          "name": "stderr",
          "text": [
            "INFO:tensorflow:Assets written to: lyrics_best_model.tf/assets\n",
            "WARNING:absl:<keras.layers.recurrent.LSTMCell object at 0x7f39275af110> has the same name 'LSTMCell' as a built-in Keras object. Consider renaming <class 'keras.layers.recurrent.LSTMCell'> to avoid naming conflicts when loading with `tf.keras.models.load_model`. If renaming is not possible, pass the object in the `custom_objects` parameter of the load function.\n",
            "WARNING:absl:<keras.layers.recurrent.LSTMCell object at 0x7f39267961d0> has the same name 'LSTMCell' as a built-in Keras object. Consider renaming <class 'keras.layers.recurrent.LSTMCell'> to avoid naming conflicts when loading with `tf.keras.models.load_model`. If renaming is not possible, pass the object in the `custom_objects` parameter of the load function.\n"
          ]
        },
        {
          "output_type": "stream",
          "name": "stdout",
          "text": [
            "\b\b\b\b\b\b\b\b\b\b\b\b\b\b\b\b\b\b\b\b\b\b\b\b\b\b\b\b\b\b\b\b\b\b\b\b\b\b\b\b\b\b\b\b\b\b\b\b\b\b\b\b\b\b\b\b\b\b\b\b\b\b\b\b\b\b\b\b\b\b\b\b\b\b\b\b\b\b\b\b\b\b\b\b\r487/487 [==============================] - 152s 305ms/step - loss: 3.0257 - accuracy: 0.5185 - val_loss: 2.7083 - val_accuracy: 0.5427\n",
            "Epoch 2/10\n",
            "487/487 [==============================] - ETA: 0s - loss: 2.5410 - accuracy: 0.5563\n",
            "Epoch 2: val_loss improved from 2.70832 to 2.47071, saving model to lyrics_best_model.tf\n"
          ]
        },
        {
          "output_type": "stream",
          "name": "stderr",
          "text": [
            "WARNING:absl:Found untraced functions such as lstm_cell_layer_call_fn, lstm_cell_layer_call_and_return_conditional_losses, lstm_cell_1_layer_call_fn, lstm_cell_1_layer_call_and_return_conditional_losses while saving (showing 4 of 4). These functions will not be directly callable after loading.\n"
          ]
        },
        {
          "output_type": "stream",
          "name": "stdout",
          "text": [
            "INFO:tensorflow:Assets written to: lyrics_best_model.tf/assets\n"
          ]
        },
        {
          "output_type": "stream",
          "name": "stderr",
          "text": [
            "INFO:tensorflow:Assets written to: lyrics_best_model.tf/assets\n",
            "WARNING:absl:<keras.layers.recurrent.LSTMCell object at 0x7f39275af110> has the same name 'LSTMCell' as a built-in Keras object. Consider renaming <class 'keras.layers.recurrent.LSTMCell'> to avoid naming conflicts when loading with `tf.keras.models.load_model`. If renaming is not possible, pass the object in the `custom_objects` parameter of the load function.\n",
            "WARNING:absl:<keras.layers.recurrent.LSTMCell object at 0x7f39267961d0> has the same name 'LSTMCell' as a built-in Keras object. Consider renaming <class 'keras.layers.recurrent.LSTMCell'> to avoid naming conflicts when loading with `tf.keras.models.load_model`. If renaming is not possible, pass the object in the `custom_objects` parameter of the load function.\n"
          ]
        },
        {
          "output_type": "stream",
          "name": "stdout",
          "text": [
            "\b\b\b\b\b\b\b\b\b\b\b\b\b\b\b\b\b\b\b\b\b\b\b\b\b\b\b\b\b\b\b\b\b\b\b\b\b\b\b\b\b\b\b\b\b\b\b\b\b\b\b\b\b\b\b\b\b\b\b\b\b\b\b\b\b\b\b\b\b\b\b\b\b\b\b\b\b\b\b\b\b\b\b\b\r487/487 [==============================] - 148s 303ms/step - loss: 2.5410 - accuracy: 0.5563 - val_loss: 2.4707 - val_accuracy: 0.5677\n",
            "Epoch 3/10\n",
            "487/487 [==============================] - ETA: 0s - loss: 2.2412 - accuracy: 0.5868\n",
            "Epoch 3: val_loss improved from 2.47071 to 2.31855, saving model to lyrics_best_model.tf\n"
          ]
        },
        {
          "output_type": "stream",
          "name": "stderr",
          "text": [
            "WARNING:absl:Found untraced functions such as lstm_cell_layer_call_fn, lstm_cell_layer_call_and_return_conditional_losses, lstm_cell_1_layer_call_fn, lstm_cell_1_layer_call_and_return_conditional_losses while saving (showing 4 of 4). These functions will not be directly callable after loading.\n"
          ]
        },
        {
          "output_type": "stream",
          "name": "stdout",
          "text": [
            "INFO:tensorflow:Assets written to: lyrics_best_model.tf/assets\n"
          ]
        },
        {
          "output_type": "stream",
          "name": "stderr",
          "text": [
            "INFO:tensorflow:Assets written to: lyrics_best_model.tf/assets\n",
            "WARNING:absl:<keras.layers.recurrent.LSTMCell object at 0x7f39275af110> has the same name 'LSTMCell' as a built-in Keras object. Consider renaming <class 'keras.layers.recurrent.LSTMCell'> to avoid naming conflicts when loading with `tf.keras.models.load_model`. If renaming is not possible, pass the object in the `custom_objects` parameter of the load function.\n",
            "WARNING:absl:<keras.layers.recurrent.LSTMCell object at 0x7f39267961d0> has the same name 'LSTMCell' as a built-in Keras object. Consider renaming <class 'keras.layers.recurrent.LSTMCell'> to avoid naming conflicts when loading with `tf.keras.models.load_model`. If renaming is not possible, pass the object in the `custom_objects` parameter of the load function.\n"
          ]
        },
        {
          "output_type": "stream",
          "name": "stdout",
          "text": [
            "\b\b\b\b\b\b\b\b\b\b\b\b\b\b\b\b\b\b\b\b\b\b\b\b\b\b\b\b\b\b\b\b\b\b\b\b\b\b\b\b\b\b\b\b\b\b\b\b\b\b\b\b\b\b\b\b\b\b\b\b\b\b\b\b\b\b\b\b\b\b\b\b\b\b\b\b\b\b\b\b\b\b\b\b\r487/487 [==============================] - 148s 303ms/step - loss: 2.2412 - accuracy: 0.5868 - val_loss: 2.3185 - val_accuracy: 0.5899\n",
            "Epoch 4/10\n",
            "487/487 [==============================] - ETA: 0s - loss: 1.9609 - accuracy: 0.6227\n",
            "Epoch 4: val_loss improved from 2.31855 to 2.20205, saving model to lyrics_best_model.tf\n"
          ]
        },
        {
          "output_type": "stream",
          "name": "stderr",
          "text": [
            "WARNING:absl:Found untraced functions such as lstm_cell_layer_call_fn, lstm_cell_layer_call_and_return_conditional_losses, lstm_cell_1_layer_call_fn, lstm_cell_1_layer_call_and_return_conditional_losses while saving (showing 4 of 4). These functions will not be directly callable after loading.\n"
          ]
        },
        {
          "output_type": "stream",
          "name": "stdout",
          "text": [
            "INFO:tensorflow:Assets written to: lyrics_best_model.tf/assets\n"
          ]
        },
        {
          "output_type": "stream",
          "name": "stderr",
          "text": [
            "INFO:tensorflow:Assets written to: lyrics_best_model.tf/assets\n",
            "WARNING:absl:<keras.layers.recurrent.LSTMCell object at 0x7f39275af110> has the same name 'LSTMCell' as a built-in Keras object. Consider renaming <class 'keras.layers.recurrent.LSTMCell'> to avoid naming conflicts when loading with `tf.keras.models.load_model`. If renaming is not possible, pass the object in the `custom_objects` parameter of the load function.\n",
            "WARNING:absl:<keras.layers.recurrent.LSTMCell object at 0x7f39267961d0> has the same name 'LSTMCell' as a built-in Keras object. Consider renaming <class 'keras.layers.recurrent.LSTMCell'> to avoid naming conflicts when loading with `tf.keras.models.load_model`. If renaming is not possible, pass the object in the `custom_objects` parameter of the load function.\n"
          ]
        },
        {
          "output_type": "stream",
          "name": "stdout",
          "text": [
            "\b\b\b\b\b\b\b\b\b\b\b\b\b\b\b\b\b\b\b\b\b\b\b\b\b\b\b\b\b\b\b\b\b\b\b\b\b\b\b\b\b\b\b\b\b\b\b\b\b\b\b\b\b\b\b\b\b\b\b\b\b\b\b\b\b\b\b\b\b\b\b\b\b\b\b\b\b\b\b\b\b\b\b\b\r487/487 [==============================] - 148s 303ms/step - loss: 1.9609 - accuracy: 0.6227 - val_loss: 2.2020 - val_accuracy: 0.6110\n",
            "Epoch 5/10\n",
            "487/487 [==============================] - ETA: 0s - loss: 1.7075 - accuracy: 0.6620\n",
            "Epoch 5: val_loss improved from 2.20205 to 2.12500, saving model to lyrics_best_model.tf\n"
          ]
        },
        {
          "output_type": "stream",
          "name": "stderr",
          "text": [
            "WARNING:absl:Found untraced functions such as lstm_cell_layer_call_fn, lstm_cell_layer_call_and_return_conditional_losses, lstm_cell_1_layer_call_fn, lstm_cell_1_layer_call_and_return_conditional_losses while saving (showing 4 of 4). These functions will not be directly callable after loading.\n"
          ]
        },
        {
          "output_type": "stream",
          "name": "stdout",
          "text": [
            "INFO:tensorflow:Assets written to: lyrics_best_model.tf/assets\n"
          ]
        },
        {
          "output_type": "stream",
          "name": "stderr",
          "text": [
            "INFO:tensorflow:Assets written to: lyrics_best_model.tf/assets\n",
            "WARNING:absl:<keras.layers.recurrent.LSTMCell object at 0x7f39275af110> has the same name 'LSTMCell' as a built-in Keras object. Consider renaming <class 'keras.layers.recurrent.LSTMCell'> to avoid naming conflicts when loading with `tf.keras.models.load_model`. If renaming is not possible, pass the object in the `custom_objects` parameter of the load function.\n",
            "WARNING:absl:<keras.layers.recurrent.LSTMCell object at 0x7f39267961d0> has the same name 'LSTMCell' as a built-in Keras object. Consider renaming <class 'keras.layers.recurrent.LSTMCell'> to avoid naming conflicts when loading with `tf.keras.models.load_model`. If renaming is not possible, pass the object in the `custom_objects` parameter of the load function.\n"
          ]
        },
        {
          "output_type": "stream",
          "name": "stdout",
          "text": [
            "\b\b\b\b\b\b\b\b\b\b\b\b\b\b\b\b\b\b\b\b\b\b\b\b\b\b\b\b\b\b\b\b\b\b\b\b\b\b\b\b\b\b\b\b\b\b\b\b\b\b\b\b\b\b\b\b\b\b\b\b\b\b\b\b\b\b\b\b\b\b\b\b\b\b\b\b\b\b\b\b\b\b\b\b\r487/487 [==============================] - 147s 302ms/step - loss: 1.7075 - accuracy: 0.6620 - val_loss: 2.1250 - val_accuracy: 0.6301\n",
            "Epoch 6/10\n",
            "487/487 [==============================] - ETA: 0s - loss: 1.4952 - accuracy: 0.6999\n",
            "Epoch 6: val_loss improved from 2.12500 to 2.07790, saving model to lyrics_best_model.tf\n"
          ]
        },
        {
          "output_type": "stream",
          "name": "stderr",
          "text": [
            "WARNING:absl:Found untraced functions such as lstm_cell_layer_call_fn, lstm_cell_layer_call_and_return_conditional_losses, lstm_cell_1_layer_call_fn, lstm_cell_1_layer_call_and_return_conditional_losses while saving (showing 4 of 4). These functions will not be directly callable after loading.\n"
          ]
        },
        {
          "output_type": "stream",
          "name": "stdout",
          "text": [
            "INFO:tensorflow:Assets written to: lyrics_best_model.tf/assets\n"
          ]
        },
        {
          "output_type": "stream",
          "name": "stderr",
          "text": [
            "INFO:tensorflow:Assets written to: lyrics_best_model.tf/assets\n",
            "WARNING:absl:<keras.layers.recurrent.LSTMCell object at 0x7f39275af110> has the same name 'LSTMCell' as a built-in Keras object. Consider renaming <class 'keras.layers.recurrent.LSTMCell'> to avoid naming conflicts when loading with `tf.keras.models.load_model`. If renaming is not possible, pass the object in the `custom_objects` parameter of the load function.\n",
            "WARNING:absl:<keras.layers.recurrent.LSTMCell object at 0x7f39267961d0> has the same name 'LSTMCell' as a built-in Keras object. Consider renaming <class 'keras.layers.recurrent.LSTMCell'> to avoid naming conflicts when loading with `tf.keras.models.load_model`. If renaming is not possible, pass the object in the `custom_objects` parameter of the load function.\n"
          ]
        },
        {
          "output_type": "stream",
          "name": "stdout",
          "text": [
            "\b\b\b\b\b\b\b\b\b\b\b\b\b\b\b\b\b\b\b\b\b\b\b\b\b\b\b\b\b\b\b\b\b\b\b\b\b\b\b\b\b\b\b\b\b\b\b\b\b\b\b\b\b\b\b\b\b\b\b\b\b\b\b\b\b\b\b\b\b\b\b\b\b\b\b\b\b\b\b\b\b\b\b\b\r487/487 [==============================] - 148s 304ms/step - loss: 1.4952 - accuracy: 0.6999 - val_loss: 2.0779 - val_accuracy: 0.6454\n",
            "Epoch 7/10\n",
            "487/487 [==============================] - ETA: 0s - loss: 1.3307 - accuracy: 0.7313\n",
            "Epoch 7: val_loss improved from 2.07790 to 2.06233, saving model to lyrics_best_model.tf\n"
          ]
        },
        {
          "output_type": "stream",
          "name": "stderr",
          "text": [
            "WARNING:absl:Found untraced functions such as lstm_cell_layer_call_fn, lstm_cell_layer_call_and_return_conditional_losses, lstm_cell_1_layer_call_fn, lstm_cell_1_layer_call_and_return_conditional_losses while saving (showing 4 of 4). These functions will not be directly callable after loading.\n"
          ]
        },
        {
          "output_type": "stream",
          "name": "stdout",
          "text": [
            "INFO:tensorflow:Assets written to: lyrics_best_model.tf/assets\n"
          ]
        },
        {
          "output_type": "stream",
          "name": "stderr",
          "text": [
            "INFO:tensorflow:Assets written to: lyrics_best_model.tf/assets\n",
            "WARNING:absl:<keras.layers.recurrent.LSTMCell object at 0x7f39275af110> has the same name 'LSTMCell' as a built-in Keras object. Consider renaming <class 'keras.layers.recurrent.LSTMCell'> to avoid naming conflicts when loading with `tf.keras.models.load_model`. If renaming is not possible, pass the object in the `custom_objects` parameter of the load function.\n",
            "WARNING:absl:<keras.layers.recurrent.LSTMCell object at 0x7f39267961d0> has the same name 'LSTMCell' as a built-in Keras object. Consider renaming <class 'keras.layers.recurrent.LSTMCell'> to avoid naming conflicts when loading with `tf.keras.models.load_model`. If renaming is not possible, pass the object in the `custom_objects` parameter of the load function.\n"
          ]
        },
        {
          "output_type": "stream",
          "name": "stdout",
          "text": [
            "\b\b\b\b\b\b\b\b\b\b\b\b\b\b\b\b\b\b\b\b\b\b\b\b\b\b\b\b\b\b\b\b\b\b\b\b\b\b\b\b\b\b\b\b\b\b\b\b\b\b\b\b\b\b\b\b\b\b\b\b\b\b\b\b\b\b\b\b\b\b\b\b\b\b\b\b\b\b\b\b\b\b\b\b\r487/487 [==============================] - 148s 304ms/step - loss: 1.3307 - accuracy: 0.7313 - val_loss: 2.0623 - val_accuracy: 0.6572\n",
            "Epoch 8/10\n",
            "487/487 [==============================] - ETA: 0s - loss: 1.2086 - accuracy: 0.7567\n",
            "Epoch 8: val_loss did not improve from 2.06233\n",
            "487/487 [==============================] - 136s 279ms/step - loss: 1.2086 - accuracy: 0.7567 - val_loss: 2.0709 - val_accuracy: 0.6637\n",
            "Epoch 9/10\n",
            "487/487 [==============================] - ETA: 0s - loss: 1.1229 - accuracy: 0.7751\n",
            "Epoch 9: val_loss did not improve from 2.06233\n",
            "487/487 [==============================] - 136s 280ms/step - loss: 1.1229 - accuracy: 0.7751 - val_loss: 2.0870 - val_accuracy: 0.6674\n",
            "Epoch 10/10\n",
            "487/487 [==============================] - ETA: 0s - loss: 1.0658 - accuracy: 0.7875\n",
            "Epoch 10: val_loss did not improve from 2.06233\n",
            "487/487 [==============================] - 145s 298ms/step - loss: 1.0658 - accuracy: 0.7875 - val_loss: 2.1082 - val_accuracy: 0.6695\n"
          ]
        }
      ],
      "source": [
        "history = model.fit(train_dataset,\n",
        "          epochs=10,\n",
        "          validation_data=val_dataset,\n",
        "          verbose=1,\n",
        "          callbacks =[MC])"
      ]
    },
    {
      "cell_type": "code",
      "source": [
        "loaded_model = load_model('lyrics_best_model.tf')"
      ],
      "metadata": {
        "id": "5BhSFK_LwTI6"
      },
      "execution_count": 24,
      "outputs": []
    },
    {
      "cell_type": "code",
      "execution_count": 25,
      "metadata": {
        "id": "Bh9kf-s5y2Jt",
        "colab": {
          "base_uri": "https://localhost:8080/",
          "height": 513
        },
        "outputId": "2a7f4601-994d-4cb0-cfb2-85cf88092ee3"
      },
      "outputs": [
        {
          "output_type": "display_data",
          "data": {
            "text/plain": [
              "<Figure size 864x576 with 2 Axes>"
            ],
            "image/png": "[encoded data removed]"
          },
          "metadata": {
            "needs_background": "light"
          }
        }
      ],
      "source": [
        "def plot_curve(epochs, hist, list_of_metrics):\n",
        "    \n",
        "    fig, ax = plt.subplots(1,2,figsize = (12, 8))\n",
        "    \n",
        "    for i in range(len(ax)):\n",
        "        ax[i].set_xlabel('Epochs')\n",
        "        ax[i].set_ylabel('Value')\n",
        "        \n",
        "        for n in range(len(list_of_metrics)):\n",
        "            if i == 0:\n",
        "                y = hist[list_of_metrics[n]]\n",
        "                if n == 0:\n",
        "                    ax[i].plot(epochs, y, label=\"train\")\n",
        "                else:\n",
        "                    ax[i].plot(epochs, y, label=\"val\")\n",
        "                ax[i].set_title('Loss')\n",
        "                ax[i].legend(loc='upper right')\n",
        "                if n == 1:\n",
        "                    break\n",
        "            else:\n",
        "                if n >= 2:\n",
        "                    y = hist[list_of_metrics[n]]\n",
        "                    if n == 2:\n",
        "                        ax[i].plot(epochs, y, label=\"train\")\n",
        "                    else:\n",
        "                        ax[i].plot(epochs, y, label=\"val\")\n",
        "                    ax[i].set_title('Accuracy')\n",
        "                    ax[i].legend(loc='lower right')\n",
        "                    \n",
        "    plt.show()\n",
        "plot_curve(history.epoch, history.history, ['loss', 'val_loss', 'accuracy', 'val_accuracy'])"
      ]
    },
    {
      "cell_type": "code",
      "execution_count": 26,
      "metadata": {
        "id": "CDm2IGQ9y2Jt",
        "colab": {
          "base_uri": "https://localhost:8080/",
          "height": 35
        },
        "outputId": "b212e6b6-e27c-4e66-a0a9-55eec69f1543"
      },
      "outputs": [
        {
          "output_type": "execute_result",
          "data": {
            "text/plain": [
              "'<start> i love you , <end> '"
            ],
            "application/vnd.google.colaboratory.intrinsic+json": {
              "type": "string"
            }
          },
          "metadata": {},
          "execution_count": 26
        }
      ],
      "source": [
        "generate_text(model, tokenizer, init_sentence=\"<start> i love\", max_len=20)"
      ]
    },
    {
      "cell_type": "code",
      "execution_count": 27,
      "metadata": {
        "id": "rH12cmJay2Jt",
        "colab": {
          "base_uri": "https://localhost:8080/",
          "height": 35
        },
        "outputId": "b10128a0-3b7b-4e5b-bfff-72b5f23439eb"
      },
      "outputs": [
        {
          "output_type": "execute_result",
          "data": {
            "text/plain": [
              "'<start> i am a god <end> '"
            ],
            "application/vnd.google.colaboratory.intrinsic+json": {
              "type": "string"
            }
          },
          "metadata": {},
          "execution_count": 27
        }
      ],
      "source": [
        "generate_text(model, tokenizer, init_sentence=\"<start> i am\", max_len=20)"
      ]
    },
    {
      "cell_type": "markdown",
      "source": [
        "# 회고록\n",
        "전처리 단계에서 불용어를 제거해보려 여러가지 코드 작성을 작성해보았지만, 토큰화 함수에서 어느부분에 들어가줘야할지 몰라서 제대로 사용하지못하고 다시 빼버렸다. 정규표현식에 대한 이해가 상당히 필요하다는 것을 느꼈고, 문장을 받아와서 문장을 뱉는 형태라 그런지 구글링의 예시들과는 다르게 작성해야했던게 어려웠던 포인트이다.\n",
        "\n",
        "학습에 상당한 시간이 소요되어(물론 실제보다는 훨씬 적은 양이지만..) 많은 상황에서의 모델 실험이 시간상 어려웠다. 주로 lr, 임베딩,히든사이즈 정도만 수치 변화를 주면서 여러 실험을 해보았지만 지금의 형태보다 더 나은 결과는 없었다.\n",
        "\n",
        "이론적으로 본 NLP와 실제 코드상에서 어떻게 돌아가는지 매칭이 잘안되어서 어려웠던 EXP...였다."
      ],
      "metadata": {
        "id": "u8EUMVp6zRsK"
      }
    },
    {
      "cell_type": "code",
      "source": [
        ""
      ],
      "metadata": {
        "id": "lnN9GyEU1_db"
      },
      "execution_count": 27,
      "outputs": []
    }
  ],
  "metadata": {
    "interpreter": {
      "hash": "c54ddb5cb0ee9888aca53e0dbcd830a3945e99e35a6625d0fc0c082212d4b475"
    },
    "kernelspec": {
      "display_name": "Python 3.9.7 ('cuda')",
      "language": "python",
      "name": "python3"
    },
    "language_info": {
      "codemirror_mode": {
        "name": "ipython",
        "version": 3
      },
      "file_extension": ".py",
      "mimetype": "text/x-python",
      "name": "python",
      "nbconvert_exporter": "python",
      "pygments_lexer": "ipython3",
      "version": "3.9.7"
    },
    "orig_nbformat": 4,
    "colab": {
      "name": "[E-06]lyrics_del_verse.ipynb",
      "provenance": [],
      "include_colab_link": true
    },
    "accelerator": "GPU"
  },
  "nbformat": 4,
  "nbformat_minor": 0
}