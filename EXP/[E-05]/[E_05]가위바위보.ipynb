{
  "cells": [
    {
      "cell_type": "markdown",
      "metadata": {
        "colab_type": "text",
        "id": "view-in-github"
      },
      "source": [
        "<a href=\"https://colab.research.google.com/github/qlqqqk/Aiffel_prac/blob/main/EXP/%5BE-05%5D/%5BE_05%5D%EA%B0%80%EC%9C%84%EB%B0%94%EC%9C%84%EB%B3%B4.ipynb\" target=\"_parent\"><img src=\"https://colab.research.google.com/assets/colab-badge.svg\" alt=\"Open In Colab\"/></a>"
      ]
    },
    {
      "cell_type": "code",
      "execution_count": 1,
      "metadata": {
        "colab": {
          "base_uri": "https://localhost:8080/"
        },
        "id": "pmm2rQZlQOQs",
        "outputId": "2c0401eb-8c98-4fa5-b75b-12d1e506130e"
      },
      "outputs": [
        {
          "name": "stdout",
          "output_type": "stream",
          "text": [
            "Drive already mounted at /content/drive; to attempt to forcibly remount, call drive.mount(\"/content/drive\", force_remount=True).\n"
          ]
        }
      ],
      "source": [
        "from google.colab import files,drive\n",
        "drive.mount('/content/drive')\n",
        "\n",
        "# # 리눅스 이미지 세팅 명령어 저장\n",
        "# unzip scissor-samples.zip -d /content/drive/MyDrive/Aiffel/data/rock_scissor_paper/scissor/sam\n",
        "# unzip scissor_1109.zip -d /content/drive/MyDrive/Aiffel/data/rock_scissor_paper/scissor/j1109\n",
        "# unzip scissor-moon.zip -d /content/drive/MyDrive/Aiffel/data/rock_scissor_paper/scissor/moon\n",
        "# unzip real_scissor.zip -d /content/drive/MyDrive/Aiffel/data/rock_scissor_paper/scissor/real\n",
        "# unzip scissor.zip -d /content/drive/MyDrive/Aiffel/data/rock_scissor_paper/scissor\n",
        "# rename 's/.jpg/a_*.jpg/' *.jpg\n",
        "# rename 's/.jpg/sam_*.jpg/' *.jpg\n",
        "# rename 's/.jpg/m_*.jpg/' *.jpg\n",
        "# rename 's/.jpg/r_*.jpg/' *.jpg\n",
        "# cp * /content/drive/MyDrive/Aiffel/data/rock_scissor_paper/scissor"
      ]
    },
    {
      "cell_type": "code",
      "execution_count": 2,
      "metadata": {
        "id": "HT0eZSAkQSgu"
      },
      "outputs": [],
      "source": [
        "import tensorflow as tf\n",
        "import os\n",
        "import numpy as np\n",
        "from PIL import Image\n",
        "import matplotlib.pyplot as plt\n",
        "import cv2\n",
        "import glob\n",
        "import tensorflow as tf\n",
        "from tensorflow import keras\n",
        "from keras.applications.imagenet_utils import preprocess_input\n",
        "from keras.preprocessing.image import ImageDataGenerator, array_to_img, img_to_array, load_img\n",
        "\n",
        "from tensorflow.keras.applications import VGG16\n",
        "from tensorflow.keras.models import Sequential\n",
        "from keras.callbacks import EarlyStopping\n",
        "\n",
        "from sklearn.model_selection import train_test_split"
      ]
    },
    {
      "cell_type": "code",
      "execution_count": 3,
      "metadata": {
        "colab": {
          "base_uri": "https://localhost:8080/"
        },
        "id": "-e-bpPihQg05",
        "outputId": "0a33f95e-858d-43e2-b95e-931a922b103f"
      },
      "outputs": [
        {
          "name": "stdout",
          "output_type": "stream",
          "text": [
            "1316  images to be resized.\n",
            "1316  images resized.\n",
            "보 이미지 resize 완료!\n"
          ]
        }
      ],
      "source": [
        "def resize_images(img_path):\n",
        "\timages=glob.glob(img_path + \"/*.jpg\")  \n",
        "    \n",
        "\tprint(len(images), \" images to be resized.\")\n",
        "\n",
        "    # 파일마다 모두 128x128 사이즈로 바꾸어 저장합니다.\n",
        "\ttarget_size=(128,128)\n",
        "\tfor img in images:\n",
        "\t\told_img=Image.open(img)\n",
        "\t\tnew_img=old_img.resize(target_size,Image.ANTIALIAS)\n",
        "\t\tnew_img.save(img, \"JPEG\")\n",
        "    \n",
        "\tprint(len(images), \" images resized.\")\n",
        "\t\n",
        "# 보 이미지가 저장된 디렉토리 아래의 모든 jpg 파일을 읽어들여서\n",
        "paper_image_dir_path = '/content/drive/MyDrive/Aiffel/data/rock_scissor_paper/paper'\n",
        "resize_images(paper_image_dir_path)\n",
        "\n",
        "print(\"보 이미지 resize 완료!\")"
      ]
    },
    {
      "cell_type": "code",
      "execution_count": 4,
      "metadata": {
        "colab": {
          "base_uri": "https://localhost:8080/"
        },
        "id": "tdV2b5Axw9GE",
        "outputId": "8db8a4be-3d82-4f3f-ae0a-d3ca44fc8ad4"
      },
      "outputs": [
        {
          "name": "stdout",
          "output_type": "stream",
          "text": [
            "1371  images to be resized.\n",
            "1371  images resized.\n",
            "바위 이미지 resize 완료!\n"
          ]
        }
      ],
      "source": [
        "# 바위 이미지가 저장된 디렉토리 아래의 모든 jpg 파일을 읽어들여서\n",
        "rock_image_dir_path = '/content/drive/MyDrive/Aiffel/data/rock_scissor_paper/rock'\n",
        "resize_images(rock_image_dir_path)\n",
        "\n",
        "print(\"바위 이미지 resize 완료!\")"
      ]
    },
    {
      "cell_type": "code",
      "execution_count": 5,
      "metadata": {
        "colab": {
          "base_uri": "https://localhost:8080/"
        },
        "id": "MdC4qRJAUBuU",
        "outputId": "59ba3cac-3897-4a9a-9b96-e86750c7e656"
      },
      "outputs": [
        {
          "name": "stdout",
          "output_type": "stream",
          "text": [
            "1346  images to be resized.\n",
            "1346  images resized.\n",
            "가위 이미지 resize 완료!\n"
          ]
        }
      ],
      "source": [
        "# 가위 이미지가 저장된 디렉토리 아래의 모든 jpg 파일을 읽어들여서\n",
        "scissor_image_dir_path = '/content/drive/MyDrive/Aiffel/data/rock_scissor_paper/scissor'\n",
        "resize_images(scissor_image_dir_path)\n",
        "\n",
        "print(\"가위 이미지 resize 완료!\")"
      ]
    },
    {
      "cell_type": "code",
      "execution_count": 6,
      "metadata": {
        "colab": {
          "base_uri": "https://localhost:8080/"
        },
        "id": "H41JkXjTUKgs",
        "outputId": "f52be9e0-845d-4ccd-acb1-0ada574661d1"
      },
      "outputs": [
        {
          "name": "stdout",
          "output_type": "stream",
          "text": [
            "학습데이터(x_train)의 이미지 개수는 4033 입니다.\n",
            "x_train shape: (4033, 128, 128, 3)\n",
            "y_train shape: (4033,)\n"
          ]
        }
      ],
      "source": [
        "def load_data(img_path, number_of_data=4033):  # 가위바위보 이미지 개수 총합에 주의하세요.\n",
        "    # 가위 : 0, 바위 : 1, 보 : 2\n",
        "    img_size=128\n",
        "    color=3\n",
        "    #이미지 데이터와 라벨(가위 : 0, 바위 : 1, 보 : 2) 데이터를 담을 행렬(matrix) 영역을 생성합니다.\n",
        "    imgs=np.zeros(number_of_data*img_size*img_size*color,dtype=np.int32).reshape(number_of_data,img_size,img_size,color)\n",
        "    labels=np.zeros(number_of_data,dtype=np.\n",
        "                    int32)\n",
        "\n",
        "    idx=0\n",
        "    for file in glob.iglob(img_path+'/scissor/*.jpg'):\n",
        "        img = np.array(Image.open(file),dtype=np.int32)\n",
        "        imgs[idx,:,:,:]=img    # 데이터 영역에 이미지 행렬을 복사\n",
        "        labels[idx]=0   # 가위 : 0\n",
        "        idx=idx+1\n",
        "\n",
        "    for file in glob.iglob(img_path+'/rock/*.jpg'):\n",
        "        img = np.array(Image.open(file),dtype=np.int32)\n",
        "        imgs[idx,:,:,:]=img    # 데이터 영역에 이미지 행렬을 복사\n",
        "        labels[idx]=1   # 바위 : 1\n",
        "        idx=idx+1  \n",
        "    \n",
        "    for file in glob.iglob(img_path+'/paper/*.jpg'):\n",
        "        img = np.array(Image.open(file),dtype=np.int32)\n",
        "        imgs[idx,:,:,:]=img    # 데이터 영역에 이미지 행렬을 복사\n",
        "        labels[idx]=2   # 보 : 2\n",
        "        idx=idx+1\n",
        "        \n",
        "    print(\"학습데이터(x_train)의 이미지 개수는\", idx,\"입니다.\")\n",
        "    return imgs, labels\n",
        "\n",
        "image_dir_path = '/content/drive/MyDrive/Aiffel/data/rock_scissor_paper'\n",
        "(x_train, y_train)=load_data(image_dir_path)\n",
        "x_train_norm = x_train/255.0   # 입력은 0~1 사이의 값으로 정규화\n",
        "\n",
        "print(\"x_train shape: {}\".format(x_train.shape))\n",
        "print(\"y_train shape: {}\".format(y_train.shape))"
      ]
    },
    {
      "cell_type": "code",
      "execution_count": 7,
      "metadata": {
        "colab": {
          "base_uri": "https://localhost:8080/",
          "height": 286
        },
        "id": "8-rDo5RUjgdX",
        "outputId": "a798a7b0-7784-403b-e952-f577b802cd41"
      },
      "outputs": [
        {
          "name": "stdout",
          "output_type": "stream",
          "text": [
            "라벨:  0\n"
          ]
        },
        {
          "data": {
            "image/png": "[encoded data removed]",
            "text/plain": [
              "<Figure size 432x288 with 1 Axes>"
            ]
          },
          "metadata": {
            "needs_background": "light"
          },
          "output_type": "display_data"
        }
      ],
      "source": [
        "plt.imshow(x_train[250])\n",
        "print('라벨: ', y_train[250])"
      ]
    },
    {
      "cell_type": "code",
      "execution_count": 8,
      "metadata": {
        "colab": {
          "base_uri": "https://localhost:8080/"
        },
        "id": "K4SYHM07fqPw",
        "outputId": "58ee4d54-05b3-40ad-b91e-356a6c89a4a6"
      },
      "outputs": [
        {
          "data": {
            "text/plain": [
              "(4033, 128, 128, 3)"
            ]
          },
          "execution_count": 8,
          "metadata": {},
          "output_type": "execute_result"
        }
      ],
      "source": [
        "x_train.shape"
      ]
    },
    {
      "cell_type": "code",
      "execution_count": 9,
      "metadata": {
        "id": "JOJ_en4W9eSA"
      },
      "outputs": [],
      "source": [
        "x_train, x_val, y_train, y_val = train_test_split(x_train_norm, y_train, test_size=0.3, random_state=42, stratify=y_train)"
      ]
    },
    {
      "cell_type": "code",
      "execution_count": 10,
      "metadata": {
        "id": "4ID2Kgk6zGp3"
      },
      "outputs": [],
      "source": [
        "x_train = tf.image.central_crop(x_train,central_fraction=0.7)\n",
        "x_val = tf.image.central_crop(x_val,central_fraction=0.7)"
      ]
    },
    {
      "cell_type": "code",
      "execution_count": 11,
      "metadata": {
        "colab": {
          "base_uri": "https://localhost:8080/",
          "height": 286
        },
        "id": "_FB3rOdvzmkN",
        "outputId": "a788b50d-852a-4a6e-9c02-010276111249"
      },
      "outputs": [
        {
          "name": "stdout",
          "output_type": "stream",
          "text": [
            "라벨:  1\n"
          ]
        },
        {
          "data": {
            "image/png": "[encoded data removed]",
            "text/plain": [
              "<Figure size 432x288 with 1 Axes>"
            ]
          },
          "metadata": {
            "needs_background": "light"
          },
          "output_type": "display_data"
        }
      ],
      "source": [
        "x_train.shape\n",
        "plt.imshow(x_train[150])\n",
        "print('라벨: ', y_train[150])"
      ]
    },
    {
      "cell_type": "code",
      "execution_count": 12,
      "metadata": {
        "colab": {
          "base_uri": "https://localhost:8080/"
        },
        "id": "uhitS3voTF83",
        "outputId": "999c0ea1-5de3-42b4-9b43-9d7d721fc485"
      },
      "outputs": [
        {
          "name": "stdout",
          "output_type": "stream",
          "text": [
            "Model: \"sequential\"\n",
            "_________________________________________________________________\n",
            " Layer (type)                Output Shape              Param #   \n",
            "=================================================================\n",
            " conv2d (Conv2D)             (None, 90, 90, 8)         224       \n",
            "                                                                 \n",
            " conv2d_1 (Conv2D)           (None, 88, 88, 8)         584       \n",
            "                                                                 \n",
            " max_pooling2d (MaxPooling2D  (None, 44, 44, 8)        0         \n",
            " )                                                               \n",
            "                                                                 \n",
            " conv2d_2 (Conv2D)           (None, 42, 42, 16)        1168      \n",
            "                                                                 \n",
            " conv2d_3 (Conv2D)           (None, 40, 40, 16)        2320      \n",
            "                                                                 \n",
            " max_pooling2d_1 (MaxPooling  (None, 20, 20, 16)       0         \n",
            " 2D)                                                             \n",
            "                                                                 \n",
            " conv2d_4 (Conv2D)           (None, 18, 18, 64)        9280      \n",
            "                                                                 \n",
            " conv2d_5 (Conv2D)           (None, 16, 16, 64)        36928     \n",
            "                                                                 \n",
            " max_pooling2d_2 (MaxPooling  (None, 8, 8, 64)         0         \n",
            " 2D)                                                             \n",
            "                                                                 \n",
            " flatten (Flatten)           (None, 4096)              0         \n",
            "                                                                 \n",
            " dense (Dense)               (None, 32)                131104    \n",
            "                                                                 \n",
            " dense_1 (Dense)             (None, 3)                 99        \n",
            "                                                                 \n",
            "=================================================================\n",
            "Total params: 181,707\n",
            "Trainable params: 181,707\n",
            "Non-trainable params: 0\n",
            "_________________________________________________________________\n"
          ]
        }
      ],
      "source": [
        "activate = 'relu'\n",
        "conv1 = 8\n",
        "conv2 = 16\n",
        "conv3 = 64\n",
        "model=keras.models.Sequential()\n",
        "model.add(keras.layers.Conv2D(conv1,(3,3),padding='same',activation=activate,input_shape=(90,90,3)))\n",
        "model.add(keras.layers.Conv2D(conv1,(3,3),activation=activate))\n",
        "model.add(keras.layers.MaxPool2D(2,2))\n",
        "\n",
        "model.add(keras.layers.Conv2D(conv2,(3,3),activation=activate))\n",
        "model.add(keras.layers.Conv2D(conv2,(3,3),activation=activate))\n",
        "model.add(keras.layers.MaxPooling2D(2,2))\n",
        "\n",
        "model.add(keras.layers.Conv2D(conv3,(3,3),activation=activate))\n",
        "model.add(keras.layers.Conv2D(conv3,(3,3),activation=activate))\n",
        "model.add(keras.layers.MaxPooling2D(2,2))\n",
        "\n",
        "model.add(keras.layers.Flatten())\n",
        "model.add(keras.layers.Dense(32,activation=activate))\n",
        "tf.keras.layers.Dropout(.3) \n",
        "model.add(keras.layers.Dense(3,activation='softmax'))\n",
        "model.summary()"
      ]
    },
    {
      "cell_type": "code",
      "execution_count": 13,
      "metadata": {
        "colab": {
          "base_uri": "https://localhost:8080/"
        },
        "id": "BCPh2nfCIze-",
        "outputId": "295f522f-43f8-4446-bdbb-23277b6e74f3"
      },
      "outputs": [
        {
          "name": "stdout",
          "output_type": "stream",
          "text": [
            "Epoch 1/50\n",
            "89/89 [==============================] - 5s 20ms/step - loss: 1.0095 - accuracy: 0.4488 - val_loss: 0.9225 - val_accuracy: 0.5413\n",
            "Epoch 2/50\n",
            "89/89 [==============================] - 1s 14ms/step - loss: 0.8304 - accuracy: 0.5873 - val_loss: 0.8565 - val_accuracy: 0.6182\n",
            "Epoch 3/50\n",
            "89/89 [==============================] - 1s 15ms/step - loss: 0.6791 - accuracy: 0.6978 - val_loss: 0.6221 - val_accuracy: 0.7289\n",
            "Epoch 4/50\n",
            "89/89 [==============================] - 1s 14ms/step - loss: 0.5138 - accuracy: 0.7896 - val_loss: 0.5730 - val_accuracy: 0.7595\n",
            "Epoch 5/50\n",
            "89/89 [==============================] - 1s 14ms/step - loss: 0.3509 - accuracy: 0.8512 - val_loss: 0.3605 - val_accuracy: 0.8562\n",
            "Epoch 6/50\n",
            "89/89 [==============================] - 1s 14ms/step - loss: 0.2370 - accuracy: 0.9029 - val_loss: 0.2757 - val_accuracy: 0.8884\n",
            "Epoch 7/50\n",
            "89/89 [==============================] - 1s 14ms/step - loss: 0.1901 - accuracy: 0.9253 - val_loss: 0.2318 - val_accuracy: 0.9083\n",
            "Epoch 8/50\n",
            "89/89 [==============================] - 1s 13ms/step - loss: 0.1441 - accuracy: 0.9515 - val_loss: 0.4257 - val_accuracy: 0.8686\n",
            "Epoch 9/50\n",
            "89/89 [==============================] - 1s 14ms/step - loss: 0.1349 - accuracy: 0.9515 - val_loss: 0.1682 - val_accuracy: 0.9446\n",
            "Epoch 10/50\n",
            "89/89 [==============================] - 1s 15ms/step - loss: 0.0609 - accuracy: 0.9816 - val_loss: 0.2236 - val_accuracy: 0.9372\n",
            "Epoch 11/50\n",
            "89/89 [==============================] - 1s 14ms/step - loss: 0.0715 - accuracy: 0.9752 - val_loss: 0.2285 - val_accuracy: 0.9413\n",
            "Epoch 12/50\n",
            "89/89 [==============================] - 1s 14ms/step - loss: 0.0355 - accuracy: 0.9897 - val_loss: 0.1664 - val_accuracy: 0.9612\n",
            "Epoch 13/50\n",
            "89/89 [==============================] - 1s 14ms/step - loss: 0.0490 - accuracy: 0.9858 - val_loss: 0.1746 - val_accuracy: 0.9645\n",
            "Epoch 14/50\n",
            "89/89 [==============================] - 1s 13ms/step - loss: 0.0274 - accuracy: 0.9911 - val_loss: 0.1713 - val_accuracy: 0.9612\n",
            "Epoch 15/50\n",
            "89/89 [==============================] - 1s 14ms/step - loss: 0.0136 - accuracy: 0.9954 - val_loss: 0.1796 - val_accuracy: 0.9628\n",
            "Epoch 16/50\n",
            "89/89 [==============================] - 1s 14ms/step - loss: 0.0067 - accuracy: 0.9979 - val_loss: 0.2293 - val_accuracy: 0.9529\n",
            "Epoch 17/50\n",
            "89/89 [==============================] - 1s 14ms/step - loss: 0.0110 - accuracy: 0.9965 - val_loss: 0.2286 - val_accuracy: 0.9521\n",
            "Epoch 18/50\n",
            "89/89 [==============================] - 1s 13ms/step - loss: 0.0747 - accuracy: 0.9741 - val_loss: 0.2102 - val_accuracy: 0.9529\n",
            "Epoch 19/50\n",
            "89/89 [==============================] - 1s 14ms/step - loss: 0.0688 - accuracy: 0.9809 - val_loss: 0.2382 - val_accuracy: 0.9347\n",
            "Epoch 20/50\n",
            "89/89 [==============================] - 1s 14ms/step - loss: 0.0304 - accuracy: 0.9904 - val_loss: 0.1434 - val_accuracy: 0.9636\n",
            "Epoch 21/50\n",
            "89/89 [==============================] - 1s 15ms/step - loss: 0.0630 - accuracy: 0.9851 - val_loss: 0.1294 - val_accuracy: 0.9678\n",
            "Epoch 22/50\n",
            "89/89 [==============================] - 1s 14ms/step - loss: 0.0155 - accuracy: 0.9957 - val_loss: 0.1620 - val_accuracy: 0.9653\n",
            "Epoch 23/50\n",
            "89/89 [==============================] - 1s 14ms/step - loss: 0.0043 - accuracy: 0.9993 - val_loss: 0.1573 - val_accuracy: 0.9678\n",
            "Epoch 24/50\n",
            "89/89 [==============================] - 1s 13ms/step - loss: 0.0042 - accuracy: 0.9986 - val_loss: 0.1623 - val_accuracy: 0.9711\n",
            "Epoch 25/50\n",
            "89/89 [==============================] - 1s 15ms/step - loss: 0.0027 - accuracy: 0.9989 - val_loss: 0.1644 - val_accuracy: 0.9702\n",
            "Epoch 26/50\n",
            "89/89 [==============================] - 1s 13ms/step - loss: 0.0067 - accuracy: 0.9975 - val_loss: 0.1880 - val_accuracy: 0.9645\n",
            "Epoch 27/50\n",
            "89/89 [==============================] - 1s 13ms/step - loss: 0.0357 - accuracy: 0.9894 - val_loss: 0.2144 - val_accuracy: 0.9372\n",
            "Epoch 28/50\n",
            "89/89 [==============================] - 1s 14ms/step - loss: 0.0217 - accuracy: 0.9940 - val_loss: 0.1739 - val_accuracy: 0.9620\n",
            "Epoch 29/50\n",
            "89/89 [==============================] - 1s 14ms/step - loss: 0.0115 - accuracy: 0.9954 - val_loss: 0.2828 - val_accuracy: 0.9364\n",
            "Epoch 30/50\n",
            "89/89 [==============================] - 1s 14ms/step - loss: 0.0372 - accuracy: 0.9887 - val_loss: 0.1879 - val_accuracy: 0.9545\n"
          ]
        }
      ],
      "source": [
        "model.compile(optimizer='adam',\n",
        "             loss='sparse_categorical_crossentropy',\n",
        "             metrics=['accuracy'])\n",
        "checkpoint = tf.keras.callbacks.ModelCheckpoint(\n",
        "    'best-model.h5',save_best_only=True)\n",
        "early_stopping = EarlyStopping(patience=9)\n",
        "train_model = model.fit(x_train, y_train, epochs=50,callbacks = [early_stopping,checkpoint],validation_data=(x_val,y_val))"
      ]
    },
    {
      "cell_type": "code",
      "execution_count": 14,
      "metadata": {
        "colab": {
          "base_uri": "https://localhost:8080/"
        },
        "id": "StQ9G5_8JyHh",
        "outputId": "3ac2edf0-7dee-4ae1-f004-ea2799ac1fdb"
      },
      "outputs": [
        {
          "name": "stdout",
          "output_type": "stream",
          "text": [
            "38/38 - 0s - loss: 0.1294 - accuracy: 0.9678 - 328ms/epoch - 9ms/step\n",
            "val_loss: 0.1294126659631729 \n",
            "val_accuracy: 0.9677686095237732\n"
          ]
        }
      ],
      "source": [
        "model = keras.models.load_model('best-model.h5')\n",
        "val_loss, val_accuracy = model.evaluate(x_val,y_val, verbose=2)\n",
        "print(\"val_loss: {} \".format(val_loss))\n",
        "print(\"val_accuracy: {}\".format(val_accuracy))"
      ]
    },
    {
      "cell_type": "code",
      "execution_count": 15,
      "metadata": {
        "id": "Q3_QIbmeRKUQ"
      },
      "outputs": [],
      "source": [
        "# def render_training_history(training_history):\n",
        "#     loss = training_history.history['loss']\n",
        "#     val_loss = training_history.history['val_loss']\n",
        "\n",
        "#     accuracy = training_history.history['accuracy']\n",
        "#     val_accuracy = training_history.history['val_accuracy']\n",
        "\n",
        "#     plt.figure(figsize=(14, 4))\n",
        "\n",
        "#     plt.subplot(1, 2, 1)\n",
        "#     plt.title('Loss')\n",
        "#     plt.xlabel('Epoch')\n",
        "#     plt.ylabel('Loss')\n",
        "#     plt.plot(loss, label='Training set')\n",
        "#     plt.plot(val_loss, label='Test set', linestyle='--')\n",
        "#     plt.legend()\n",
        "#     plt.grid(linestyle='--', linewidth=1, alpha=0.5)\n",
        "\n",
        "#     plt.subplot(1, 2, 2)\n",
        "#     plt.title('Accuracy')\n",
        "#     plt.xlabel('Epoch')\n",
        "#     plt.ylabel('Accuracy')\n",
        "#     plt.plot(accuracy, label='Training set')\n",
        "#     plt.plot(val_accuracy, label='Test set', linestyle='--')\n",
        "#     plt.legend()\n",
        "#     plt.grid(linestyle='--', linewidth=1, alpha=0.5)\n",
        "\n",
        "#     plt.show()\n",
        "# render_training_history(model)"
      ]
    },
    {
      "cell_type": "markdown",
      "metadata": {
        "id": "C4ByjsXOt8s5"
      },
      "source": [
        "TEST SET 구성"
      ]
    },
    {
      "cell_type": "code",
      "execution_count": 16,
      "metadata": {
        "colab": {
          "base_uri": "https://localhost:8080/"
        },
        "id": "lOM2TI8nKQpb",
        "outputId": "bbb0e364-c95d-4b8a-8599-eaaf1b579f22"
      },
      "outputs": [
        {
          "name": "stdout",
          "output_type": "stream",
          "text": [
            "200  images to be resized.\n",
            "200  images resized.\n",
            "200  images to be resized.\n",
            "200  images resized.\n",
            "200  images to be resized.\n",
            "200  images resized.\n",
            "test 이미지 resize 완료!\n"
          ]
        }
      ],
      "source": [
        "paper_testimage_dir_path = '/content/drive/MyDrive/Aiffel/data/test/paper'\n",
        "resize_images(paper_testimage_dir_path)\n",
        "rock_testimage_dir_path = '/content/drive/MyDrive/Aiffel/data/test/rock'\n",
        "resize_images(rock_testimage_dir_path)\n",
        "scissor_testimage_dir_path = '/content/drive/MyDrive/Aiffel/data/test/scissor'\n",
        "resize_images(scissor_testimage_dir_path)\n",
        "\n",
        "print(\"test 이미지 resize 완료!\")"
      ]
    },
    {
      "cell_type": "code",
      "execution_count": 17,
      "metadata": {
        "colab": {
          "base_uri": "https://localhost:8080/"
        },
        "id": "sGAUcO1fuS4O",
        "outputId": "048dfbd3-6fc6-4d59-d4cd-1446ae72881a"
      },
      "outputs": [
        {
          "name": "stdout",
          "output_type": "stream",
          "text": [
            "학습데이터(x_test)의 이미지 개수는 600 입니다.\n",
            "x_test shape: (600, 128, 128, 3)\n",
            "y_test shape: (600,)\n"
          ]
        }
      ],
      "source": [
        "def test_load_data(img_path, number_of_data=600):  # 가위바위보 이미지 개수 총합에 주의하세요.\n",
        "    # 가위 : 0, 바위 : 1, 보 : 2\n",
        "    img_size=128\n",
        "    color=3\n",
        "    #이미지 데이터와 라벨(가위 : 0, 바위 : 1, 보 : 2) 데이터를 담을 행렬(matrix) 영역을 생성합니다.\n",
        "    imgs=np.zeros(number_of_data*img_size*img_size*color,dtype=np.int32).reshape(number_of_data,img_size,img_size,color)\n",
        "    labels=np.zeros(number_of_data,dtype=np.\n",
        "                    int32)\n",
        "\n",
        "    idx=0\n",
        "    for file in glob.iglob(img_path+'/scissor/*.jpg'):\n",
        "        img = np.array(Image.open(file),dtype=np.int32)\n",
        "        imgs[idx,:,:,:]=img    # 데이터 영역에 이미지 행렬을 복사\n",
        "        labels[idx]=0   # 가위 : 0\n",
        "        idx=idx+1\n",
        "\n",
        "    for file in glob.iglob(img_path+'/rock/*.jpg'):\n",
        "        img = np.array(Image.open(file),dtype=np.int32)\n",
        "        imgs[idx,:,:,:]=img    # 데이터 영역에 이미지 행렬을 복사\n",
        "        labels[idx]=1   # 바위 : 1\n",
        "        idx=idx+1  \n",
        "    \n",
        "    for file in glob.iglob(img_path+'/paper/*.jpg'):\n",
        "        img = np.array(Image.open(file),dtype=np.int32)\n",
        "        imgs[idx,:,:,:]=img    # 데이터 영역에 이미지 행렬을 복사\n",
        "        labels[idx]=2   # 보 : 2\n",
        "        idx=idx+1\n",
        "        \n",
        "    print(\"학습데이터(x_test)의 이미지 개수는\", idx,\"입니다.\")\n",
        "    return imgs, labels\n",
        "\n",
        "test_image_dir_path = '/content/drive/MyDrive/Aiffel/data/test'\n",
        "(x_test, y_test)=test_load_data(test_image_dir_path)\n",
        "x_test_norm = x_test/255.0   # 입력은 0~1 사이의 값으로 정규화\n",
        "\n",
        "print(\"x_test shape: {}\".format(x_test.shape))\n",
        "print(\"y_test shape: {}\".format(y_test.shape))"
      ]
    },
    {
      "cell_type": "code",
      "execution_count": 18,
      "metadata": {
        "colab": {
          "base_uri": "https://localhost:8080/"
        },
        "id": "vev4LvIMwnuv",
        "outputId": "90414193-0a50-4f08-ad8a-e7d5d64a6159"
      },
      "outputs": [
        {
          "name": "stdout",
          "output_type": "stream",
          "text": [
            "19/19 - 0s - loss: 1.6842 - accuracy: 0.5100 - 266ms/epoch - 14ms/step\n",
            "test_loss: 1.6841739416122437 \n",
            "test_accuracy: 0.5099999904632568\n"
          ]
        }
      ],
      "source": [
        "x_test_norm = tf.image.central_crop(x_test_norm,central_fraction=0.7)\n",
        "test_loss, test_accuracy = model.evaluate(x_test_norm,y_test, verbose=2)\n",
        "print(\"test_loss: {} \".format(test_loss))\n",
        "print(\"test_accuracy: {}\".format(test_accuracy))\n"
      ]
    },
    {
      "cell_type": "code",
      "execution_count": 18,
      "metadata": {
        "id": "kJEmM-TZcfhO"
      },
      "outputs": [],
      "source": []
    }
  ],
  "metadata": {
    "accelerator": "GPU",
    "colab": {
      "authorship_tag": "ABX9TyMBiIzV33UqueO6RWcVg8L2",
      "collapsed_sections": [],
      "include_colab_link": true,
      "name": "[E-05]가위바위보.ipynb",
      "provenance": []
    },
    "kernelspec": {
      "display_name": "Python 3.9.7",
      "language": "python",
      "name": "python3"
    },
    "language_info": {
      "name": "python",
      "version": "3.9.7"
    },
    "vscode": {
      "interpreter": {
        "hash": "40d3a090f54c6569ab1632332b64b2c03c39dcf918b08424e98f38b5ae0af88f"
      }
    }
  },
  "nbformat": 4,
  "nbformat_minor": 0
}
