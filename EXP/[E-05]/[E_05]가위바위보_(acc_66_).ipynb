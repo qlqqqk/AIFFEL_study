{
  "cells": [
    {
      "cell_type": "markdown",
      "metadata": {
        "id": "view-in-github",
        "colab_type": "text"
      },
      "source": [
        "<a href=\"https://colab.research.google.com/github/qlqqqk/Aiffel_prac/blob/main/EXP/%5BE-05%5D/%5BE_05%5D%EA%B0%80%EC%9C%84%EB%B0%94%EC%9C%84%EB%B3%B4_(acc_66_).ipynb\" target=\"_parent\"><img src=\"https://colab.research.google.com/assets/colab-badge.svg\" alt=\"Open In Colab\"/></a>"
      ]
    },
    {
      "cell_type": "code",
      "execution_count": null,
      "metadata": {
        "id": "pmm2rQZlQOQs",
        "colab": {
          "base_uri": "https://localhost:8080/"
        },
        "outputId": "9aa3ee60-f0ac-4142-b7c0-992e8b62d446"
      },
      "outputs": [
        {
          "output_type": "stream",
          "name": "stdout",
          "text": [
            "Drive already mounted at /content/drive; to attempt to forcibly remount, call drive.mount(\"/content/drive\", force_remount=True).\n"
          ]
        }
      ],
      "source": [
        "from google.colab import files,drive\n",
        "drive.mount('/content/drive')\n",
        "\n",
        "# # 리눅스 이미지 세팅 명령어 저장\n",
        "# unzip scissor-samples.zip -d /content/drive/MyDrive/Aiffel/data/rock_scissor_paper/scissor/sam\n",
        "# unzip scissor_1109.zip -d /content/drive/MyDrive/Aiffel/data/rock_scissor_paper/scissor/j1109\n",
        "# unzip scissor-moon.zip -d /content/drive/MyDrive/Aiffel/data/rock_scissor_paper/scissor/moon\n",
        "# unzip real_scissor.zip -d /content/drive/MyDrive/Aiffel/data/rock_scissor_paper/scissor/real\n",
        "# unzip scissor.zip -d /content/drive/MyDrive/Aiffel/data/rock_scissor_paper/scissor\n",
        "# rename 's/.jpg/a_*.jpg/' *.jpg\n",
        "# rename 's/.jpg/sam_*.jpg/' *.jpg\n",
        "# rename 's/.jpg/m_*.jpg/' *.jpg\n",
        "# rename 's/.jpg/r_*.jpg/' *.jpg\n",
        "# cp * /content/drive/MyDrive/Aiffel/data/rock_scissor_paper/scissor"
      ]
    },
    {
      "cell_type": "code",
      "execution_count": null,
      "metadata": {
        "id": "HT0eZSAkQSgu"
      },
      "outputs": [],
      "source": [
        "import tensorflow as tf\n",
        "import os\n",
        "import numpy as np\n",
        "from PIL import Image\n",
        "import matplotlib.pyplot as plt\n",
        "import cv2\n",
        "import glob\n",
        "import tensorflow as tf\n",
        "from tensorflow import keras\n",
        "from keras.applications.imagenet_utils import preprocess_input\n",
        "from keras.preprocessing.image import ImageDataGenerator, array_to_img, img_to_array, load_img\n",
        "\n",
        "from tensorflow.keras.applications import VGG16\n",
        "from tensorflow.keras.models import Sequential\n",
        "\n",
        "from sklearn.model_selection import train_test_split"
      ]
    },
    {
      "cell_type": "code",
      "execution_count": null,
      "metadata": {
        "colab": {
          "base_uri": "https://localhost:8080/"
        },
        "id": "-e-bpPihQg05",
        "outputId": "76c084e1-646d-4f88-eb64-e9f699db96d3"
      },
      "outputs": [
        {
          "output_type": "stream",
          "name": "stdout",
          "text": [
            "1366  images to be resized.\n",
            "1366  images resized.\n",
            "보 이미지 resize 완료!\n"
          ]
        }
      ],
      "source": [
        "def resize_images(img_path):\n",
        "\timages=glob.glob(img_path + \"/*.jpg\")  \n",
        "    \n",
        "\tprint(len(images), \" images to be resized.\")\n",
        "\n",
        "    # 파일마다 모두 64x64 사이즈로 바꾸어 저장합니다.\n",
        "\ttarget_size=(64,64)\n",
        "\tfor img in images:\n",
        "\t\told_img=Image.open(img)\n",
        "\t\tnew_img=old_img.resize(target_size,Image.ANTIALIAS)\n",
        "\t\tnew_img.save(img, \"JPEG\")\n",
        "    \n",
        "\tprint(len(images), \" images resized.\")\n",
        "\t\n",
        "# \b보 이미지가 저장된 디렉토리 아래의 모든 jpg 파일을 읽어들여서\n",
        "paper_image_dir_path = '/content/drive/MyDrive/Aiffel/data/rock_scissor_paper/paper'\n",
        "resize_images(paper_image_dir_path)\n",
        "\n",
        "print(\"보 이미지 resize 완료!\")"
      ]
    },
    {
      "cell_type": "code",
      "execution_count": null,
      "metadata": {
        "colab": {
          "base_uri": "https://localhost:8080/"
        },
        "id": "tdV2b5Axw9GE",
        "outputId": "31aa04ff-d414-4c40-b472-a4daec0ed454"
      },
      "outputs": [
        {
          "output_type": "stream",
          "name": "stdout",
          "text": [
            "1371  images to be resized.\n",
            "1371  images resized.\n",
            "바위 이미지 resize 완료!\n"
          ]
        }
      ],
      "source": [
        "# 바위 이미지가 저장된 디렉토리 아래의 모든 jpg 파일을 읽어들여서\n",
        "rock_image_dir_path = '/content/drive/MyDrive/Aiffel/data/rock_scissor_paper/rock'\n",
        "resize_images(rock_image_dir_path)\n",
        "\n",
        "print(\"바위 이미지 resize 완료!\")"
      ]
    },
    {
      "cell_type": "code",
      "execution_count": null,
      "metadata": {
        "colab": {
          "base_uri": "https://localhost:8080/"
        },
        "id": "MdC4qRJAUBuU",
        "outputId": "e93e2870-a955-46a5-9cd6-0f322b6c3a73"
      },
      "outputs": [
        {
          "output_type": "stream",
          "name": "stdout",
          "text": [
            "1371  images to be resized.\n",
            "1371  images resized.\n",
            "가위 이미지 resize 완료!\n"
          ]
        }
      ],
      "source": [
        "# 가위 이미지가 저장된 디렉토리 아래의 모든 jpg 파일을 읽어들여서\n",
        "scissor_image_dir_path = '/content/drive/MyDrive/Aiffel/data/rock_scissor_paper/scissor'\n",
        "resize_images(scissor_image_dir_path)\n",
        "\n",
        "print(\"가위 이미지 resize 완료!\")"
      ]
    },
    {
      "cell_type": "code",
      "execution_count": null,
      "metadata": {
        "colab": {
          "base_uri": "https://localhost:8080/"
        },
        "id": "H41JkXjTUKgs",
        "outputId": "cc31fdf5-1984-468b-f4ad-67dd3e0c30f7"
      },
      "outputs": [
        {
          "output_type": "stream",
          "name": "stdout",
          "text": [
            "학습데이터(x_train)의 이미지 개수는 4108 입니다.\n",
            "x_train shape: (4108, 64, 64, 3)\n",
            "y_train shape: (4108,)\n"
          ]
        }
      ],
      "source": [
        "def load_data(img_path, number_of_data=4108):  # 가위바위보 이미지 개수 총합에 주의하세요.\n",
        "    # 가위 : 0, 바위 : 1, 보 : 2\n",
        "    img_size=64\n",
        "    color=3\n",
        "    #이미지 데이터와 라벨(가위 : 0, 바위 : 1, 보 : 2) 데이터를 담을 행렬(matrix) 영역을 생성합니다.\n",
        "    imgs=np.zeros(number_of_data*img_size*img_size*color,dtype=np.int32).reshape(number_of_data,img_size,img_size,color)\n",
        "    labels=np.zeros(number_of_data,dtype=np.\n",
        "                    int32)\n",
        "\n",
        "    idx=0\n",
        "    for file in glob.iglob(img_path+'/scissor/*.jpg'):\n",
        "        img = np.array(Image.open(file),dtype=np.int32)\n",
        "        imgs[idx,:,:,:]=img    # 데이터 영역에 이미지 행렬을 복사\n",
        "        labels[idx]=0   # 가위 : 0\n",
        "        idx=idx+1\n",
        "\n",
        "    for file in glob.iglob(img_path+'/rock/*.jpg'):\n",
        "        img = np.array(Image.open(file),dtype=np.int32)\n",
        "        imgs[idx,:,:,:]=img    # 데이터 영역에 이미지 행렬을 복사\n",
        "        labels[idx]=1   # 바위 : 1\n",
        "        idx=idx+1  \n",
        "    \n",
        "    for file in glob.iglob(img_path+'/paper/*.jpg'):\n",
        "        img = np.array(Image.open(file),dtype=np.int32)\n",
        "        imgs[idx,:,:,:]=img    # 데이터 영역에 이미지 행렬을 복사\n",
        "        labels[idx]=2   # 보 : 2\n",
        "        idx=idx+1\n",
        "        \n",
        "    print(\"학습데이터(x_train)의 이미지 개수는\", idx,\"입니다.\")\n",
        "    return imgs, labels\n",
        "\n",
        "image_dir_path = '/content/drive/MyDrive/Aiffel/data/rock_scissor_paper'\n",
        "(x_train, y_train)=load_data(image_dir_path)\n",
        "x_train_norm = x_train/255.0   # 입력은 0~1 사이의 값으로 정규화\n",
        "\n",
        "print(\"x_train shape: {}\".format(x_train.shape))\n",
        "print(\"y_train shape: {}\".format(y_train.shape))"
      ]
    },
    {
      "cell_type": "code",
      "execution_count": null,
      "metadata": {
        "colab": {
          "base_uri": "https://localhost:8080/",
          "height": 286
        },
        "id": "8-rDo5RUjgdX",
        "outputId": "76eec4e8-161d-4530-a5f0-57f25ede0364"
      },
      "outputs": [
        {
          "output_type": "stream",
          "name": "stdout",
          "text": [
            "라벨:  2\n"
          ]
        },
        {
          "output_type": "display_data",
          "data": {
            "text/plain": [
              "<Figure size 432x288 with 1 Axes>"
            ],
            "image/png": "[encoded data removed]"
          },
          "metadata": {
            "needs_background": "light"
          }
        }
      ],
      "source": [
        "plt.imshow(x_train[3150])\n",
        "print('라벨: ', y_train[3150])"
      ]
    },
    {
      "cell_type": "code",
      "execution_count": null,
      "metadata": {
        "colab": {
          "base_uri": "https://localhost:8080/",
          "height": 286
        },
        "id": "iBr1hyzKHys1",
        "outputId": "7063e5ac-42a8-4ecb-d1ab-f7aed550a170"
      },
      "outputs": [
        {
          "output_type": "execute_result",
          "data": {
            "text/plain": [
              "<matplotlib.image.AxesImage at 0x7fc0c04e3f90>"
            ]
          },
          "metadata": {},
          "execution_count": 9
        },
        {
          "output_type": "display_data",
          "data": {
            "text/plain": [
              "<Figure size 432x288 with 1 Axes>"
            ],
            "image/png": "[encoded data removed]"
          },
          "metadata": {
            "needs_background": "light"
          }
        }
      ],
      "source": [
        "plt.imshow(x_train_norm[3150])"
      ]
    },
    {
      "cell_type": "code",
      "execution_count": null,
      "metadata": {
        "colab": {
          "base_uri": "https://localhost:8080/"
        },
        "id": "K4SYHM07fqPw",
        "outputId": "31f0e3cf-70f6-434a-edee-fd348f5882de"
      },
      "outputs": [
        {
          "output_type": "execute_result",
          "data": {
            "text/plain": [
              "(4113, 64, 64, 3)"
            ]
          },
          "metadata": {},
          "execution_count": 10
        }
      ],
      "source": [
        "x_train.shape"
      ]
    },
    {
      "cell_type": "code",
      "execution_count": null,
      "metadata": {
        "id": "JOJ_en4W9eSA"
      },
      "outputs": [],
      "source": [
        "x_train, x_val, y_train, y_val = train_test_split(x_train, y_train, test_size=0.3, random_state=42, stratify=y_train)"
      ]
    },
    {
      "cell_type": "code",
      "execution_count": null,
      "metadata": {
        "colab": {
          "base_uri": "https://localhost:8080/"
        },
        "id": "uhitS3voTF83",
        "outputId": "0e657f08-a09d-4a12-c560-211b7803d60e"
      },
      "outputs": [
        {
          "output_type": "stream",
          "name": "stdout",
          "text": [
            "Model: \"sequential_1\"\n",
            "_________________________________________________________________\n",
            " Layer (type)                Output Shape              Param #   \n",
            "=================================================================\n",
            " conv2d_6 (Conv2D)           (None, 64, 64, 16)        448       \n",
            "                                                                 \n",
            " conv2d_7 (Conv2D)           (None, 62, 62, 16)        2320      \n",
            "                                                                 \n",
            " max_pooling2d_3 (MaxPooling  (None, 31, 31, 16)       0         \n",
            " 2D)                                                             \n",
            "                                                                 \n",
            " conv2d_8 (Conv2D)           (None, 31, 31, 32)        4640      \n",
            "                                                                 \n",
            " conv2d_9 (Conv2D)           (None, 29, 29, 32)        9248      \n",
            "                                                                 \n",
            " max_pooling2d_4 (MaxPooling  (None, 14, 14, 32)       0         \n",
            " 2D)                                                             \n",
            "                                                                 \n",
            " conv2d_10 (Conv2D)          (None, 14, 14, 64)        18496     \n",
            "                                                                 \n",
            " conv2d_11 (Conv2D)          (None, 12, 12, 64)        36928     \n",
            "                                                                 \n",
            " max_pooling2d_5 (MaxPooling  (None, 6, 6, 64)         0         \n",
            " 2D)                                                             \n",
            "                                                                 \n",
            " flatten_1 (Flatten)         (None, 2304)              0         \n",
            "                                                                 \n",
            " dense_3 (Dense)             (None, 512)               1180160   \n",
            "                                                                 \n",
            " dense_4 (Dense)             (None, 64)                32832     \n",
            "                                                                 \n",
            " dense_5 (Dense)             (None, 3)                 195       \n",
            "                                                                 \n",
            "=================================================================\n",
            "Total params: 1,285,267\n",
            "Trainable params: 1,285,267\n",
            "Non-trainable params: 0\n",
            "_________________________________________________________________\n"
          ]
        }
      ],
      "source": [
        "# model을 직접 만들어 보세요.\n",
        "# Hint! model의 입력/출력부에 특히 유의해 주세요. 가위바위보 데이터셋은 MNIST 데이터셋과 어떤 점이 달라졌나요?\n",
        "model=keras.models.Sequential()\n",
        "model.add(keras.layers.Conv2D(16,(3,3),padding='same',activation='gelu',input_shape=(64,64,3)))\n",
        "model.add(keras.layers.Conv2D(16,(3,3),activation='gelu'))\n",
        "model.add(keras.layers.MaxPool2D(2,2))\n",
        "model.add(keras.layers.Conv2D(32,(3,3),padding='same',activation='gelu'))\n",
        "model.add(keras.layers.Conv2D(32,(3,3),activation='gelu'))\n",
        "model.add(keras.layers.MaxPooling2D(2,2))\n",
        "model.add(keras.layers.Conv2D(64,(3,3),activation='gelu',padding='same'))\n",
        "model.add(keras.layers.Conv2D(64,(3,3),activation='gelu'))\n",
        "model.add(keras.layers.MaxPooling2D(2,2))\n",
        "model.add(keras.layers.Flatten())\n",
        "model.add(keras.layers.Dense(512,activation='gelu'))\n",
        "model.add(keras.layers.Dense(64,activation='gelu'))\n",
        "model.add(keras.layers.Dense(3,activation='softmax'))\n",
        "model.summary()"
      ]
    },
    {
      "cell_type": "code",
      "execution_count": null,
      "metadata": {
        "colab": {
          "base_uri": "https://localhost:8080/"
        },
        "id": "BCPh2nfCIze-",
        "outputId": "99aed2bb-71f5-4058-8dc0-e8a6d93ce913"
      },
      "outputs": [
        {
          "output_type": "stream",
          "name": "stdout",
          "text": [
            "Epoch 1/10\n",
            "90/90 [==============================] - 36s 384ms/step - loss: 1.0708 - accuracy: 0.6090\n",
            "Epoch 2/10\n",
            "90/90 [==============================] - 35s 384ms/step - loss: 0.3014 - accuracy: 0.8859\n",
            "Epoch 3/10\n",
            "90/90 [==============================] - 35s 388ms/step - loss: 0.1144 - accuracy: 0.9638\n",
            "Epoch 4/10\n",
            "90/90 [==============================] - 35s 385ms/step - loss: 0.0423 - accuracy: 0.9885\n",
            "Epoch 5/10\n",
            "90/90 [==============================] - 34s 383ms/step - loss: 0.0362 - accuracy: 0.9854\n",
            "Epoch 6/10\n",
            "90/90 [==============================] - 34s 381ms/step - loss: 0.0573 - accuracy: 0.9805\n",
            "Epoch 7/10\n",
            "90/90 [==============================] - 35s 384ms/step - loss: 0.0351 - accuracy: 0.9871\n",
            "Epoch 8/10\n",
            "90/90 [==============================] - 34s 382ms/step - loss: 0.0333 - accuracy: 0.9906\n",
            "Epoch 9/10\n",
            "90/90 [==============================] - 35s 390ms/step - loss: 0.0051 - accuracy: 0.9983\n",
            "Epoch 10/10\n",
            "90/90 [==============================] - 35s 385ms/step - loss: 3.6298e-04 - accuracy: 1.0000\n"
          ]
        }
      ],
      "source": [
        "model.compile(optimizer='adam',\n",
        "             loss='sparse_categorical_crossentropy',\n",
        "             metrics=['accuracy'])\n",
        "\n",
        "train_model = model.fit(x_train, y_train, epochs=10)"
      ]
    },
    {
      "cell_type": "code",
      "execution_count": null,
      "metadata": {
        "colab": {
          "base_uri": "https://localhost:8080/"
        },
        "id": "StQ9G5_8JyHh",
        "outputId": "a5a42dbd-d212-47f7-9331-24fd164cb7ff"
      },
      "outputs": [
        {
          "output_type": "stream",
          "name": "stdout",
          "text": [
            "39/39 - 4s - loss: 0.0252 - accuracy: 0.9935 - 4s/epoch - 109ms/step\n",
            "val_loss: 0.025235120207071304 \n",
            "val_accuracy: 0.9935117363929749\n"
          ]
        }
      ],
      "source": [
        "val_loss, val_accuracy = model.evaluate(x_val,y_val, verbose=2)\n",
        "print(\"val_loss: {} \".format(val_loss))\n",
        "print(\"val_accuracy: {}\".format(val_accuracy))"
      ]
    },
    {
      "cell_type": "markdown",
      "metadata": {
        "id": "C4ByjsXOt8s5"
      },
      "source": [
        "TEST SET 구성"
      ]
    },
    {
      "cell_type": "code",
      "execution_count": null,
      "metadata": {
        "colab": {
          "base_uri": "https://localhost:8080/"
        },
        "id": "lOM2TI8nKQpb",
        "outputId": "5d27ef6d-d14b-4855-9b12-73476f10a481"
      },
      "outputs": [
        {
          "output_type": "stream",
          "name": "stdout",
          "text": [
            "100  images to be resized.\n",
            "100  images resized.\n",
            "100  images to be resized.\n",
            "100  images resized.\n",
            "100  images to be resized.\n",
            "100  images resized.\n",
            "test 이미지 resize 완료!\n"
          ]
        }
      ],
      "source": [
        "paper_testimage_dir_path = '/content/drive/MyDrive/Aiffel/data/test/paper'\n",
        "resize_images(paper_testimage_dir_path)\n",
        "rock_testimage_dir_path = '/content/drive/MyDrive/Aiffel/data/test/rock'\n",
        "resize_images(rock_testimage_dir_path)\n",
        "scissor_testimage_dir_path = '/content/drive/MyDrive/Aiffel/data/test/scissor'\n",
        "resize_images(scissor_testimage_dir_path)\n",
        "\n",
        "print(\"test 이미지 resize 완료!\")"
      ]
    },
    {
      "cell_type": "code",
      "execution_count": null,
      "metadata": {
        "colab": {
          "base_uri": "https://localhost:8080/"
        },
        "id": "sGAUcO1fuS4O",
        "outputId": "140207ee-af98-4a0f-e4d6-9abcb3355388"
      },
      "outputs": [
        {
          "output_type": "stream",
          "name": "stdout",
          "text": [
            "학습데이터(x_test)의 이미지 개수는 300 입니다.\n",
            "x_test shape: (300, 64, 64, 3)\n",
            "y_test shape: (300,)\n"
          ]
        }
      ],
      "source": [
        "def test_load_data(img_path, number_of_data=300):  # 가위바위보 이미지 개수 총합에 주의하세요.\n",
        "    # 가위 : 0, 바위 : 1, 보 : 2\n",
        "    img_size=64\n",
        "    color=3\n",
        "    #이미지 데이터와 라벨(가위 : 0, 바위 : 1, 보 : 2) 데이터를 담을 행렬(matrix) 영역을 생성합니다.\n",
        "    imgs=np.zeros(number_of_data*img_size*img_size*color,dtype=np.int32).reshape(number_of_data,img_size,img_size,color)\n",
        "    labels=np.zeros(number_of_data,dtype=np.\n",
        "                    int32)\n",
        "\n",
        "    idx=0\n",
        "    for file in glob.iglob(img_path+'/scissor/*.jpg'):\n",
        "        img = np.array(Image.open(file),dtype=np.int32)\n",
        "        imgs[idx,:,:,:]=img    # 데이터 영역에 이미지 행렬을 복사\n",
        "        labels[idx]=0   # 가위 : 0\n",
        "        idx=idx+1\n",
        "\n",
        "    for file in glob.iglob(img_path+'/rock/*.jpg'):\n",
        "        img = np.array(Image.open(file),dtype=np.int32)\n",
        "        imgs[idx,:,:,:]=img    # 데이터 영역에 이미지 행렬을 복사\n",
        "        labels[idx]=1   # 바위 : 1\n",
        "        idx=idx+1  \n",
        "    \n",
        "    for file in glob.iglob(img_path+'/paper/*.jpg'):\n",
        "        img = np.array(Image.open(file),dtype=np.int32)\n",
        "        imgs[idx,:,:,:]=img    # 데이터 영역에 이미지 행렬을 복사\n",
        "        labels[idx]=2   # 보 : 2\n",
        "        idx=idx+1\n",
        "        \n",
        "    print(\"학습데이터(x_test)의 이미지 개수는\", idx,\"입니다.\")\n",
        "    return imgs, labels\n",
        "\n",
        "test_image_dir_path = '/content/drive/MyDrive/Aiffel/data/test'\n",
        "(x_test, y_test)=test_load_data(test_image_dir_path)\n",
        "x_test_norm = x_test/255.0   # 입력은 0~1 사이의 값으로 정규화\n",
        "\n",
        "print(\"x_test shape: {}\".format(x_test.shape))\n",
        "print(\"y_test shape: {}\".format(y_test.shape))"
      ]
    },
    {
      "cell_type": "code",
      "execution_count": null,
      "metadata": {
        "colab": {
          "base_uri": "https://localhost:8080/"
        },
        "id": "vev4LvIMwnuv",
        "outputId": "8d23b6e6-2b93-4f3c-9521-d1cbf6d825e3"
      },
      "outputs": [
        {
          "output_type": "stream",
          "name": "stdout",
          "text": [
            "10/10 - 1s - loss: 1.5344 - accuracy: 0.6633 - 935ms/epoch - 94ms/step\n",
            "test_loss: 1.534355878829956 \n",
            "test_accuracy: 0.6633333563804626\n"
          ]
        }
      ],
      "source": [
        "test_loss, test_accuracy = model.evaluate(x_test,y_test, verbose=2)\n",
        "print(\"test_loss: {} \".format(test_loss))\n",
        "print(\"test_accuracy: {}\".format(test_accuracy))\n"
      ]
    },
    {
      "cell_type": "code",
      "execution_count": null,
      "metadata": {
        "id": "kJEmM-TZcfhO"
      },
      "outputs": [],
      "source": [
        ""
      ]
    }
  ],
  "metadata": {
    "colab": {
      "collapsed_sections": [],
      "name": "[E-05]가위바위보_(acc:66%).ipynb",
      "provenance": [],
      "authorship_tag": "ABX9TyOmQDgqDy9VCDT9/EuBYRYS",
      "include_colab_link": true
    },
    "kernelspec": {
      "display_name": "Python 3",
      "name": "python3"
    },
    "language_info": {
      "name": "python"
    }
  },
  "nbformat": 4,
  "nbformat_minor": 0
}
