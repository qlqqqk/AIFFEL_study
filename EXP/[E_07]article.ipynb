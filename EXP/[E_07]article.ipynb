{
  "cells": [
    {
      "cell_type": "markdown",
      "metadata": {
        "colab_type": "text",
        "id": "view-in-github"
      },
      "source": [
        "<a href=\"https://colab.research.google.com/github/qlqqqk/Aiffel_prac/blob/main/EXP/%5BE_07%5Darticle.ipynb\" target=\"_parent\"><img src=\"https://colab.research.google.com/assets/colab-badge.svg\" alt=\"Open In Colab\"/></a>"
      ]
    },
    {
      "cell_type": "code",
      "execution_count": 1,
      "metadata": {
        "colab": {
          "base_uri": "https://localhost:8080/"
        },
        "id": "DBh85StGBHt8",
        "outputId": "2609569c-42e1-4e2f-c23e-9bdf54f5dbd7"
      },
      "outputs": [
        {
          "name": "stdout",
          "output_type": "stream",
          "text": [
            "Looking in indexes: https://pypi.org/simple, https://us-python.pkg.dev/colab-wheels/public/simple/\n",
            "Requirement already satisfied: summa in /usr/local/lib/python3.7/dist-packages (1.2.0)\n",
            "Requirement already satisfied: scipy>=0.19 in /usr/local/lib/python3.7/dist-packages (from summa) (1.4.1)\n",
            "Requirement already satisfied: numpy>=1.13.3 in /usr/local/lib/python3.7/dist-packages (from scipy>=0.19->summa) (1.21.6)\n"
          ]
        }
      ],
      "source": [
        "pip install summa"
      ]
    },
    {
      "cell_type": "code",
      "execution_count": 2,
      "metadata": {
        "colab": {
          "base_uri": "https://localhost:8080/"
        },
        "id": "OxnNr4Tjb01u",
        "outputId": "51b9b339-632e-4ec5-a60e-656fa05098aa"
      },
      "outputs": [
        {
          "name": "stdout",
          "output_type": "stream",
          "text": [
            "[nltk_data] Downloading package stopwords to /root/nltk_data...\n",
            "[nltk_data]   Package stopwords is already up-to-date!\n",
            "3.2.5\n",
            "2.8.0\n"
          ]
        }
      ],
      "source": [
        "# from importlib.metadata import version\n",
        "import nltk\n",
        "nltk.download('stopwords')\n",
        "import tensorflow as tf\n",
        "import summa\n",
        "import pandas as pd\n",
        "import numpy as np\n",
        "import os\n",
        "import re\n",
        "import matplotlib.pyplot as plt\n",
        "from nltk.corpus import stopwords\n",
        "from bs4 import BeautifulSoup \n",
        "from tensorflow.keras.preprocessing.text import Tokenizer \n",
        "from tensorflow.keras.preprocessing.sequence import pad_sequences\n",
        "from tensorflow.keras.layers import Input, LSTM, Embedding, Dense, Concatenate, TimeDistributed,AdditiveAttention\n",
        "from tensorflow.keras.models import Model\n",
        "from tensorflow.keras.callbacks import EarlyStopping, ModelCheckpoint\n",
        "import requests\n",
        "from summa.summarizer import summarize\n",
        "import urllib.request\n",
        "import warnings\n",
        "warnings.filterwarnings(\"ignore\", category=UserWarning, module='bs4')\n",
        "\n",
        "print(nltk.__version__)\n",
        "print(tf.__version__)"
      ]
    },
    {
      "cell_type": "markdown",
      "metadata": {
        "id": "VQaF0jqm5SYo"
      },
      "source": [
        "## 데이터 세팅"
      ]
    },
    {
      "cell_type": "code",
      "execution_count": 3,
      "metadata": {
        "id": "PYK3CKWNCwWl"
      },
      "outputs": [],
      "source": [
        "urllib.request.urlretrieve(\"https://raw.githubusercontent.com/sunnysai12345/News_Summary/master/news_summary_more.csv\", filename=\"news_summary_more.csv\")\n",
        "data = pd.read_csv('news_summary_more.csv', encoding='iso-8859-1')"
      ]
    },
    {
      "cell_type": "code",
      "execution_count": 4,
      "metadata": {
        "colab": {
          "base_uri": "https://localhost:8080/",
          "height": 363
        },
        "id": "XL8r9upnC2fW",
        "outputId": "b582e499-4744-4377-8d44-0039ed4c1942"
      },
      "outputs": [
        {
          "data": {
            "text/html": [
              "\n",
              "  <div id=\"df-296302ca-8438-4e3f-a774-5c8e31297742\">\n",
              "    <div class=\"colab-df-container\">\n",
              "      <div>\n",
              "<style scoped>\n",
              "    .dataframe tbody tr th:only-of-type {\n",
              "        vertical-align: middle;\n",
              "    }\n",
              "\n",
              "    .dataframe tbody tr th {\n",
              "        vertical-align: top;\n",
              "    }\n",
              "\n",
              "    .dataframe thead th {\n",
              "        text-align: right;\n",
              "    }\n",
              "</style>\n",
              "<table border=\"1\" class=\"dataframe\">\n",
              "  <thead>\n",
              "    <tr style=\"text-align: right;\">\n",
              "      <th></th>\n",
              "      <th>headlines</th>\n",
              "      <th>text</th>\n",
              "    </tr>\n",
              "  </thead>\n",
              "  <tbody>\n",
              "    <tr>\n",
              "      <th>12162</th>\n",
              "      <td>Hafiz Saeed's JuD, FIF no longer on list of ba...</td>\n",
              "      <td>Pakistan has removed 26/11 Mumbai attack maste...</td>\n",
              "    </tr>\n",
              "    <tr>\n",
              "      <th>71868</th>\n",
              "      <td>PV Sindhu produces movie on coach Gopichand fo...</td>\n",
              "      <td>Indian shuttler PV Sindhu has produced a digit...</td>\n",
              "    </tr>\n",
              "    <tr>\n",
              "      <th>35497</th>\n",
              "      <td>66% links to popular sites on Twitter shared b...</td>\n",
              "      <td>According to a study by Pew Research Center, o...</td>\n",
              "    </tr>\n",
              "    <tr>\n",
              "      <th>10864</th>\n",
              "      <td>Delhi Police busts gambling racket, arrests 10...</td>\n",
              "      <td>The Delhi Police on Monday busted a gambling r...</td>\n",
              "    </tr>\n",
              "    <tr>\n",
              "      <th>36334</th>\n",
              "      <td>Mumbai blockchain startup Elemential raises funds</td>\n",
              "      <td>Mumbai-based blockchain startup Elemential has...</td>\n",
              "    </tr>\n",
              "    <tr>\n",
              "      <th>50185</th>\n",
              "      <td>Backstabbing allies is BJPÃ¢ÂÂs modus operan...</td>\n",
              "      <td>Shiv Sena, in its mouthpiece 'Saamana', has sa...</td>\n",
              "    </tr>\n",
              "    <tr>\n",
              "      <th>56290</th>\n",
              "      <td>I-T surveys extremely routine: Bitcoin exchang...</td>\n",
              "      <td>Bitcoin exchange Coinsecure has said that the ...</td>\n",
              "    </tr>\n",
              "    <tr>\n",
              "      <th>85282</th>\n",
              "      <td>FIR against Cong MLA for inciting violence amo...</td>\n",
              "      <td>The Madhya Pradesh police on Tuesday lodged an...</td>\n",
              "    </tr>\n",
              "    <tr>\n",
              "      <th>78901</th>\n",
              "      <td>3 US airlines fined Ã¢ÂÂ¹5.5 crore for violat...</td>\n",
              "      <td>Frontier Airlines, American Airlines and Delta...</td>\n",
              "    </tr>\n",
              "    <tr>\n",
              "      <th>91246</th>\n",
              "      <td>Four Congress MLAs switch over to BJP in Manipur</td>\n",
              "      <td>As many as four Congress MLAs - Y Surchandra, ...</td>\n",
              "    </tr>\n",
              "  </tbody>\n",
              "</table>\n",
              "</div>\n",
              "      <button class=\"colab-df-convert\" onclick=\"convertToInteractive('df-296302ca-8438-4e3f-a774-5c8e31297742')\"\n",
              "              title=\"Convert this dataframe to an interactive table.\"\n",
              "              style=\"display:none;\">\n",
              "        \n",
              "  <svg xmlns=\"http://www.w3.org/2000/svg\" height=\"24px\"viewBox=\"0 0 24 24\"\n",
              "       width=\"24px\">\n",
              "    <path d=\"M0 0h24v24H0V0z\" fill=\"none\"/>\n",
              "    <path d=\"M18.56 5.44l.94 2.06.94-2.06 2.06-.94-2.06-.94-.94-2.06-.94 2.06-2.06.94zm-11 1L8.5 8.5l.94-2.06 2.06-.94-2.06-.94L8.5 2.5l-.94 2.06-2.06.94zm10 10l.94 2.06.94-2.06 2.06-.94-2.06-.94-.94-2.06-.94 2.06-2.06.94z\"/><path d=\"M17.41 7.96l-1.37-1.37c-.4-.4-.92-.59-1.43-.59-.52 0-1.04.2-1.43.59L10.3 9.45l-7.72 7.72c-.78.78-.78 2.05 0 2.83L4 21.41c.39.39.9.59 1.41.59.51 0 1.02-.2 1.41-.59l7.78-7.78 2.81-2.81c.8-.78.8-2.07 0-2.86zM5.41 20L4 18.59l7.72-7.72 1.47 1.35L5.41 20z\"/>\n",
              "  </svg>\n",
              "      </button>\n",
              "      \n",
              "  <style>\n",
              "    .colab-df-container {\n",
              "      display:flex;\n",
              "      flex-wrap:wrap;\n",
              "      gap: 12px;\n",
              "    }\n",
              "\n",
              "    .colab-df-convert {\n",
              "      background-color: #E8F0FE;\n",
              "      border: none;\n",
              "      border-radius: 50%;\n",
              "      cursor: pointer;\n",
              "      display: none;\n",
              "      fill: #1967D2;\n",
              "      height: 32px;\n",
              "      padding: 0 0 0 0;\n",
              "      width: 32px;\n",
              "    }\n",
              "\n",
              "    .colab-df-convert:hover {\n",
              "      background-color: #E2EBFA;\n",
              "      box-shadow: 0px 1px 2px rgba(60, 64, 67, 0.3), 0px 1px 3px 1px rgba(60, 64, 67, 0.15);\n",
              "      fill: #174EA6;\n",
              "    }\n",
              "\n",
              "    [theme=dark] .colab-df-convert {\n",
              "      background-color: #3B4455;\n",
              "      fill: #D2E3FC;\n",
              "    }\n",
              "\n",
              "    [theme=dark] .colab-df-convert:hover {\n",
              "      background-color: #434B5C;\n",
              "      box-shadow: 0px 1px 3px 1px rgba(0, 0, 0, 0.15);\n",
              "      filter: drop-shadow(0px 1px 2px rgba(0, 0, 0, 0.3));\n",
              "      fill: #FFFFFF;\n",
              "    }\n",
              "  </style>\n",
              "\n",
              "      <script>\n",
              "        const buttonEl =\n",
              "          document.querySelector('#df-296302ca-8438-4e3f-a774-5c8e31297742 button.colab-df-convert');\n",
              "        buttonEl.style.display =\n",
              "          google.colab.kernel.accessAllowed ? 'block' : 'none';\n",
              "\n",
              "        async function convertToInteractive(key) {\n",
              "          const element = document.querySelector('#df-296302ca-8438-4e3f-a774-5c8e31297742');\n",
              "          const dataTable =\n",
              "            await google.colab.kernel.invokeFunction('convertToInteractive',\n",
              "                                                     [key], {});\n",
              "          if (!dataTable) return;\n",
              "\n",
              "          const docLinkHtml = 'Like what you see? Visit the ' +\n",
              "            '<a target=\"_blank\" href=https://colab.research.google.com/notebooks/data_table.ipynb>data table notebook</a>'\n",
              "            + ' to learn more about interactive tables.';\n",
              "          element.innerHTML = '';\n",
              "          dataTable['output_type'] = 'display_data';\n",
              "          await google.colab.output.renderOutput(dataTable, element);\n",
              "          const docLink = document.createElement('div');\n",
              "          docLink.innerHTML = docLinkHtml;\n",
              "          element.appendChild(docLink);\n",
              "        }\n",
              "      </script>\n",
              "    </div>\n",
              "  </div>\n",
              "  "
            ],
            "text/plain": [
              "                                               headlines  \\\n",
              "12162  Hafiz Saeed's JuD, FIF no longer on list of ba...   \n",
              "71868  PV Sindhu produces movie on coach Gopichand fo...   \n",
              "35497  66% links to popular sites on Twitter shared b...   \n",
              "10864  Delhi Police busts gambling racket, arrests 10...   \n",
              "36334  Mumbai blockchain startup Elemential raises funds   \n",
              "50185  Backstabbing allies is BJPÃ¢ÂÂs modus operan...   \n",
              "56290  I-T surveys extremely routine: Bitcoin exchang...   \n",
              "85282  FIR against Cong MLA for inciting violence amo...   \n",
              "78901  3 US airlines fined Ã¢ÂÂ¹5.5 crore for violat...   \n",
              "91246   Four Congress MLAs switch over to BJP in Manipur   \n",
              "\n",
              "                                                    text  \n",
              "12162  Pakistan has removed 26/11 Mumbai attack maste...  \n",
              "71868  Indian shuttler PV Sindhu has produced a digit...  \n",
              "35497  According to a study by Pew Research Center, o...  \n",
              "10864  The Delhi Police on Monday busted a gambling r...  \n",
              "36334  Mumbai-based blockchain startup Elemential has...  \n",
              "50185  Shiv Sena, in its mouthpiece 'Saamana', has sa...  \n",
              "56290  Bitcoin exchange Coinsecure has said that the ...  \n",
              "85282  The Madhya Pradesh police on Tuesday lodged an...  \n",
              "78901  Frontier Airlines, American Airlines and Delta...  \n",
              "91246  As many as four Congress MLAs - Y Surchandra, ...  "
            ]
          },
          "execution_count": 4,
          "metadata": {},
          "output_type": "execute_result"
        }
      ],
      "source": [
        "#추상적 요약을 하는 경우에는 text를 본문, headlines를 이미 요약된 데이터로 삼아서 모델을 학습할 수 있어요.\n",
        "data.sample(10)"
      ]
    },
    {
      "cell_type": "code",
      "execution_count": 5,
      "metadata": {
        "colab": {
          "base_uri": "https://localhost:8080/"
        },
        "id": "D_1oZKQPcwrU",
        "outputId": "a6c1aa14-800b-41b4-90cf-53d2f44a6663"
      },
      "outputs": [
        {
          "data": {
            "text/plain": [
              "98401"
            ]
          },
          "execution_count": 5,
          "metadata": {},
          "output_type": "execute_result"
        }
      ],
      "source": [
        "len(data)"
      ]
    },
    {
      "cell_type": "markdown",
      "metadata": {
        "id": "v28VHYGbEE8a"
      },
      "source": [
        "## 추상적 요약 \n",
        "### 1. 데이터 전처리"
      ]
    },
    {
      "cell_type": "code",
      "execution_count": 6,
      "metadata": {
        "colab": {
          "base_uri": "https://localhost:8080/"
        },
        "id": "RzLrbjGQEL0F",
        "outputId": "05f63e35-5585-4d06-ab06-2d572f698038"
      },
      "outputs": [
        {
          "name": "stdout",
          "output_type": "stream",
          "text": [
            "headlines 열에서 중복을 배제한 유일한 샘플의 수 : 98280\n",
            "text 열에서 중복을 배제한 유일한 샘플의 수 : 98360\n"
          ]
        }
      ],
      "source": [
        "print('headlines 열에서 중복을 배제한 유일한 샘플의 수 :', data['headlines'].nunique())\n",
        "print('text 열에서 중복을 배제한 유일한 샘플의 수 :', data['text'].nunique())"
      ]
    },
    {
      "cell_type": "code",
      "execution_count": 7,
      "metadata": {
        "colab": {
          "base_uri": "https://localhost:8080/"
        },
        "id": "BRVVxGAIck7w",
        "outputId": "fbf85fcf-0a58-4e25-ef3f-59040fa38e12"
      },
      "outputs": [
        {
          "name": "stdout",
          "output_type": "stream",
          "text": [
            "전체 샘플수 : 98360\n"
          ]
        }
      ],
      "source": [
        "# inplace=True 를 설정하면 DataFrame 타입 값을 return 하지 않고 data 내부를 직접적으로 바꿉니다\n",
        "data.drop_duplicates(subset = ['text'], inplace=True)\n",
        "print('전체 샘플수 :', (len(data)))"
      ]
    },
    {
      "cell_type": "code",
      "execution_count": 8,
      "metadata": {
        "colab": {
          "base_uri": "https://localhost:8080/"
        },
        "id": "MqIG9PRcdEz0",
        "outputId": "12a3ba7c-6e4c-4fea-d762-4cc9fb6a40d0"
      },
      "outputs": [
        {
          "name": "stdout",
          "output_type": "stream",
          "text": [
            "headlines    0\n",
            "text         0\n",
            "dtype: int64\n"
          ]
        }
      ],
      "source": [
        "print(data.isnull().sum())"
      ]
    },
    {
      "cell_type": "code",
      "execution_count": 9,
      "metadata": {
        "colab": {
          "base_uri": "https://localhost:8080/"
        },
        "id": "W0l52JTIdHwr",
        "outputId": "4790a681-087f-4b77-bac5-1df760ddfac6"
      },
      "outputs": [
        {
          "name": "stdout",
          "output_type": "stream",
          "text": [
            "전체 샘플수 : 98360\n"
          ]
        }
      ],
      "source": [
        "data.dropna(axis=0, inplace=True)\n",
        "print('전체 샘플수 :', (len(data)))"
      ]
    },
    {
      "cell_type": "code",
      "execution_count": 10,
      "metadata": {
        "colab": {
          "base_uri": "https://localhost:8080/"
        },
        "id": "66zzE-QZdJo0",
        "outputId": "431e9a70-79f9-44a8-9330-4e6b9be58dc1"
      },
      "outputs": [
        {
          "name": "stdout",
          "output_type": "stream",
          "text": [
            "정규화 사전의 수:  120\n"
          ]
        }
      ],
      "source": [
        "#축약어 되돌리기\n",
        "contractions = {\"ain't\": \"is not\", \"aren't\": \"are not\",\"can't\": \"cannot\", \"'cause\": \"because\", \"could've\": \"could have\", \"couldn't\": \"could not\",\n",
        "                           \"didn't\": \"did not\",  \"doesn't\": \"does not\", \"don't\": \"do not\", \"hadn't\": \"had not\", \"hasn't\": \"has not\", \"haven't\": \"have not\",\n",
        "                           \"he'd\": \"he would\",\"he'll\": \"he will\", \"he's\": \"he is\", \"how'd\": \"how did\", \"how'd'y\": \"how do you\", \"how'll\": \"how will\", \"how's\": \"how is\",\n",
        "                           \"I'd\": \"I would\", \"I'd've\": \"I would have\", \"I'll\": \"I will\", \"I'll've\": \"I will have\",\"I'm\": \"I am\", \"I've\": \"I have\", \"i'd\": \"i would\",\n",
        "                           \"i'd've\": \"i would have\", \"i'll\": \"i will\",  \"i'll've\": \"i will have\",\"i'm\": \"i am\", \"i've\": \"i have\", \"isn't\": \"is not\", \"it'd\": \"it would\",\n",
        "                           \"it'd've\": \"it would have\", \"it'll\": \"it will\", \"it'll've\": \"it will have\",\"it's\": \"it is\", \"let's\": \"let us\", \"ma'am\": \"madam\",\n",
        "                           \"mayn't\": \"may not\", \"might've\": \"might have\",\"mightn't\": \"might not\",\"mightn't've\": \"might not have\", \"must've\": \"must have\",\n",
        "                           \"mustn't\": \"must not\", \"mustn't've\": \"must not have\", \"needn't\": \"need not\", \"needn't've\": \"need not have\",\"o'clock\": \"of the clock\",\n",
        "                           \"oughtn't\": \"ought not\", \"oughtn't've\": \"ought not have\", \"shan't\": \"shall not\", \"sha'n't\": \"shall not\", \"shan't've\": \"shall not have\",\n",
        "                           \"she'd\": \"she would\", \"she'd've\": \"she would have\", \"she'll\": \"she will\", \"she'll've\": \"she will have\", \"she's\": \"she is\",\n",
        "                           \"should've\": \"should have\", \"shouldn't\": \"should not\", \"shouldn't've\": \"should not have\", \"so've\": \"so have\",\"so's\": \"so as\",\n",
        "                           \"this's\": \"this is\",\"that'd\": \"that would\", \"that'd've\": \"that would have\", \"that's\": \"that is\", \"there'd\": \"there would\",\n",
        "                           \"there'd've\": \"there would have\", \"there's\": \"there is\", \"here's\": \"here is\",\"they'd\": \"they would\", \"they'd've\": \"they would have\",\n",
        "                           \"they'll\": \"they will\", \"they'll've\": \"they will have\", \"they're\": \"they are\", \"they've\": \"they have\", \"to've\": \"to have\",\n",
        "                           \"wasn't\": \"was not\", \"we'd\": \"we would\", \"we'd've\": \"we would have\", \"we'll\": \"we will\", \"we'll've\": \"we will have\", \"we're\": \"we are\",\n",
        "                           \"we've\": \"we have\", \"weren't\": \"were not\", \"what'll\": \"what will\", \"what'll've\": \"what will have\", \"what're\": \"what are\",\n",
        "                           \"what's\": \"what is\", \"what've\": \"what have\", \"when's\": \"when is\", \"when've\": \"when have\", \"where'd\": \"where did\", \"where's\": \"where is\",\n",
        "                           \"where've\": \"where have\", \"who'll\": \"who will\", \"who'll've\": \"who will have\", \"who's\": \"who is\", \"who've\": \"who have\",\n",
        "                           \"why's\": \"why is\", \"why've\": \"why have\", \"will've\": \"will have\", \"won't\": \"will not\", \"won't've\": \"will not have\",\n",
        "                           \"would've\": \"would have\", \"wouldn't\": \"would not\", \"wouldn't've\": \"would not have\", \"y'all\": \"you all\",\n",
        "                           \"y'all'd\": \"you all would\",\"y'all'd've\": \"you all would have\",\"y'all're\": \"you all are\",\"y'all've\": \"you all have\",\n",
        "                           \"you'd\": \"you would\", \"you'd've\": \"you would have\", \"you'll\": \"you will\", \"you'll've\": \"you will have\",\n",
        "                           \"you're\": \"you are\", \"you've\": \"you have\"}\n",
        "\n",
        "print(\"정규화 사전의 수: \", len(contractions))"
      ]
    },
    {
      "cell_type": "code",
      "execution_count": 11,
      "metadata": {
        "colab": {
          "base_uri": "https://localhost:8080/"
        },
        "id": "BqhD-P1qdNdp",
        "outputId": "0dd33762-83f4-4427-dedb-bb30256c1564"
      },
      "outputs": [
        {
          "name": "stdout",
          "output_type": "stream",
          "text": [
            "불용어 개수 : 179\n",
            "['i', 'me', 'my', 'myself', 'we', 'our', 'ours', 'ourselves', 'you', \"you're\", \"you've\", \"you'll\", \"you'd\", 'your', 'yours', 'yourself', 'yourselves', 'he', 'him', 'his', 'himself', 'she', \"she's\", 'her', 'hers', 'herself', 'it', \"it's\", 'its', 'itself', 'they', 'them', 'their', 'theirs', 'themselves', 'what', 'which', 'who', 'whom', 'this', 'that', \"that'll\", 'these', 'those', 'am', 'is', 'are', 'was', 'were', 'be', 'been', 'being', 'have', 'has', 'had', 'having', 'do', 'does', 'did', 'doing', 'a', 'an', 'the', 'and', 'but', 'if', 'or', 'because', 'as', 'until', 'while', 'of', 'at', 'by', 'for', 'with', 'about', 'against', 'between', 'into', 'through', 'during', 'before', 'after', 'above', 'below', 'to', 'from', 'up', 'down', 'in', 'out', 'on', 'off', 'over', 'under', 'again', 'further', 'then', 'once', 'here', 'there', 'when', 'where', 'why', 'how', 'all', 'any', 'both', 'each', 'few', 'more', 'most', 'other', 'some', 'such', 'no', 'nor', 'not', 'only', 'own', 'same', 'so', 'than', 'too', 'very', 's', 't', 'can', 'will', 'just', 'don', \"don't\", 'should', \"should've\", 'now', 'd', 'll', 'm', 'o', 're', 've', 'y', 'ain', 'aren', \"aren't\", 'couldn', \"couldn't\", 'didn', \"didn't\", 'doesn', \"doesn't\", 'hadn', \"hadn't\", 'hasn', \"hasn't\", 'haven', \"haven't\", 'isn', \"isn't\", 'ma', 'mightn', \"mightn't\", 'mustn', \"mustn't\", 'needn', \"needn't\", 'shan', \"shan't\", 'shouldn', \"shouldn't\", 'wasn', \"wasn't\", 'weren', \"weren't\", 'won', \"won't\", 'wouldn', \"wouldn't\"]\n"
          ]
        }
      ],
      "source": [
        "#stopwords를 활용한 불용어 불러오기\n",
        "print('불용어 개수 :', len(stopwords.words('english') ))\n",
        "print(stopwords.words('english'))"
      ]
    },
    {
      "cell_type": "code",
      "execution_count": 12,
      "metadata": {
        "id": "Oewif52rdSIs"
      },
      "outputs": [],
      "source": [
        "# 데이터 전처리 함수\n",
        "def preprocess_sentence(sentence, remove_stopwords=True):\n",
        "    sentence = sentence.lower() # 텍스트 소문자화\n",
        "    sentence = BeautifulSoup(sentence, \"lxml\").text # <br />, <a href = ...> 등의 html 태그 제거\n",
        "    sentence = re.sub(r'\\([^)]*\\)', '', sentence) # 괄호로 닫힌 문자열 (...) 제거 Ex) my husband (and myself!) for => my husband for\n",
        "    sentence = re.sub('\"','', sentence) # 쌍따옴표 \" 제거\n",
        "    sentence = ' '.join([contractions[t] if t in contractions else t for t in sentence.split(\" \")]) # 약어 정규화\n",
        "    sentence = re.sub(r\"'s\\b\",\"\", sentence) # 소유격 제거. Ex) roland's -> roland\n",
        "    sentence = re.sub(\"[^a-zA-Z]\", \" \", sentence) # 영어 외 문자(숫자, 특수문자 등) 공백으로 변환\n",
        "    sentence = re.sub('[m]{2,}', 'mm', sentence) # m이 3개 이상이면 2개로 변경. Ex) ummmmmmm yeah -> umm yeah\n",
        "    \n",
        "    # 불용어 제거 (Text)\n",
        "    if remove_stopwords:\n",
        "        tokens = ' '.join(word for word in sentence.split() if not word in stopwords.words('english') if len(word) > 1)\n",
        "    # 불용어 미제거 (Summary)\n",
        "    else:\n",
        "        tokens = ' '.join(word for word in sentence.split() if len(word) > 1)\n",
        "    return tokens"
      ]
    },
    {
      "cell_type": "code",
      "execution_count": 13,
      "metadata": {
        "colab": {
          "base_uri": "https://localhost:8080/"
        },
        "id": "Cu_CBNbGdUyM",
        "outputId": "f60ea086-c6d5-4e24-a2aa-2912a5537dfd"
      },
      "outputs": [
        {
          "name": "stdout",
          "output_type": "stream",
          "text": [
            "text:  everything bought great infact ordered twice third ordered wasfor mother father\n",
            "summary: great way to start the day\n"
          ]
        }
      ],
      "source": [
        "#preprocess_sentence가 제대로 작동하는지 확인.\n",
        "temp_text = 'Everything I bought was great, infact I ordered twice and the third ordered was<br />for my mother and father.'\n",
        "temp_summary = 'Great way to start (or finish) the day!!!'\n",
        "\n",
        "print(\"text: \", preprocess_sentence(temp_text))\n",
        "print(\"summary:\", preprocess_sentence(temp_summary, False))  # 불용어를 제거하지 않습니다."
      ]
    },
    {
      "cell_type": "code",
      "execution_count": 14,
      "metadata": {
        "colab": {
          "base_uri": "https://localhost:8080/"
        },
        "id": "k9DHeiQxdZYz",
        "outputId": "02b187b5-315a-43d2-ea70-0a7b93cd830d"
      },
      "outputs": [
        {
          "name": "stdout",
          "output_type": "stream",
          "text": [
            "text 전처리 후 결과:  ['saurav kant alumnus upgrad iiit pg program machine learning artificial intelligence sr systems engineer infosys almost years work experience program upgrad degree career support helped transition data scientist tech mahindra salary hike upgrad online power learning powered lakh careers', 'kunal shah credit card bill payment platform cred gave users chance win free food swiggy one year pranav kaushik delhi techie bagged reward spending cred coins users get one cred coin per rupee bill paid used avail rewards brands like ixigo bookmyshow ubereats cult fit', 'new zealand defeated india wickets fourth odi hamilton thursday win first match five match odi series india lost international match rohit sharma captaincy consecutive victories dating back march match witnessed india getting seventh lowest total odi cricket history', 'aegon life iterm insurance plan customers enjoy tax benefits premiums paid save taxes plan provides life cover age years also customers options insure critical illnesses disability accidental death benefit rider life cover age years', 'speaking sexual harassment allegations rajkumar hirani sonam kapoor said known hirani many years true metoo movement get derailed metoo movement always believe woman case need reserve judgment added hirani accused assistant worked sanju']\n"
          ]
        }
      ],
      "source": [
        "clean_text = []\n",
        "# 전체 Text 데이터에 대한 전처리 \n",
        "for s in data['text']:\n",
        "    clean_text.append(preprocess_sentence(s))\n",
        "\n",
        "# 전처리 후 출력\n",
        "print(\"text 전처리 후 결과: \", clean_text[:5])"
      ]
    },
    {
      "cell_type": "code",
      "execution_count": 15,
      "metadata": {
        "colab": {
          "base_uri": "https://localhost:8080/"
        },
        "id": "wP0oAkKcdpWW",
        "outputId": "b16db886-aad2-4dd6-eddf-1f38d8fa9be4"
      },
      "outputs": [
        {
          "name": "stdout",
          "output_type": "stream",
          "text": [
            "0    Saurav Kant, an alumnus of upGrad and IIIT-B's...\n",
            "1    Kunal Shah's credit card bill payment platform...\n",
            "2    New Zealand defeated India by 8 wickets in the...\n",
            "3    With Aegon Life iTerm Insurance plan, customer...\n",
            "4    Speaking about the sexual harassment allegatio...\n",
            "Name: text, dtype: object\n"
          ]
        }
      ],
      "source": [
        "print(data['text'][:5])"
      ]
    },
    {
      "cell_type": "code",
      "execution_count": 16,
      "metadata": {
        "colab": {
          "base_uri": "https://localhost:8080/"
        },
        "id": "fEZg2UUfg81a",
        "outputId": "5f01ad1a-a7b4-42a1-9300-742cfbf96b4a"
      },
      "outputs": [
        {
          "name": "stdout",
          "output_type": "stream",
          "text": [
            "전처리 이전: 0    upGrad learner switches to career in ML & Al w...\n",
            "1    Delhi techie wins free food from Swiggy for on...\n",
            "2    New Zealand end Rohit Sharma-led India's 12-ma...\n",
            "3    Aegon life iTerm insurance plan helps customer...\n",
            "4    Have known Hirani for yrs, what if MeToo claim...\n",
            "Name: headlines, dtype: object\n",
            "headlines 전처리 후 결과:  ['upgrad learner switches to career in ml al with salary hike', 'delhi techie wins free food from swiggy for one year on cred', 'new zealand end rohit sharma led india match winning streak', 'aegon life iterm insurance plan helps customers save tax', 'have known hirani for yrs what if metoo claims are not true sonam']\n"
          ]
        }
      ],
      "source": [
        "clean_headlines = []\n",
        "# 전체 headlines 데이터에 대한 전처리\n",
        "for s in data['headlines']:\n",
        "    clean_headlines.append(preprocess_sentence(s, False))\n",
        "\n",
        "print('전처리 이전:',data['headlines'][:5])\n",
        "print(\"headlines 전처리 후 결과: \", clean_headlines[:5])"
      ]
    },
    {
      "cell_type": "code",
      "execution_count": 17,
      "metadata": {
        "colab": {
          "base_uri": "https://localhost:8080/"
        },
        "id": "TlRWA_79hkN3",
        "outputId": "fabd566b-e644-4d83-afb0-e50f1b51d784"
      },
      "outputs": [
        {
          "data": {
            "text/plain": [
              "headlines    0\n",
              "text         0\n",
              "dtype: int64"
            ]
          },
          "execution_count": 17,
          "metadata": {},
          "output_type": "execute_result"
        }
      ],
      "source": [
        "data['text'] = clean_text\n",
        "data['headlines'] = clean_headlines\n",
        "\n",
        "# 빈 값을 Null 값으로 변환\n",
        "data.replace('', np.nan, inplace=True)\n",
        "data.isnull().sum()"
      ]
    },
    {
      "cell_type": "code",
      "execution_count": 18,
      "metadata": {
        "colab": {
          "base_uri": "https://localhost:8080/"
        },
        "id": "ywC9JBdChx76",
        "outputId": "b18855a7-91a6-4430-f47e-4047cf08e50d"
      },
      "outputs": [
        {
          "name": "stdout",
          "output_type": "stream",
          "text": [
            "전체 샘플수 : 98360\n"
          ]
        }
      ],
      "source": [
        "data.dropna(axis=0, inplace=True)\n",
        "print('전체 샘플수 :', (len(data)))"
      ]
    },
    {
      "cell_type": "code",
      "execution_count": 19,
      "metadata": {
        "colab": {
          "base_uri": "https://localhost:8080/",
          "height": 963
        },
        "id": "q4GskcXPh0sq",
        "outputId": "d21e11e9-ca47-44e7-9e59-bec682ddd029"
      },
      "outputs": [
        {
          "name": "stdout",
          "output_type": "stream",
          "text": [
            "텍스트의 최소 길이 : 1\n",
            "텍스트의 최대 길이 : 60\n",
            "텍스트의 평균 길이 : 35.09968483123221\n",
            "요약의 최소 길이 : 1\n",
            "요약의 최대 길이 : 16\n",
            "요약의 평균 길이 : 9.299532330215534\n"
          ]
        },
        {
          "data": {
            "image/png": "[encoded data removed]",
            "text/plain": [
              "<Figure size 432x288 with 2 Axes>"
            ]
          },
          "metadata": {
            "needs_background": "light"
          },
          "output_type": "display_data"
        },
        {
          "data": {
            "image/png": "[encoded data removed]",
            "text/plain": [
              "<Figure size 432x288 with 1 Axes>"
            ]
          },
          "metadata": {
            "needs_background": "light"
          },
          "output_type": "display_data"
        },
        {
          "data": {
            "image/png": "[encoded data removed]",
            "text/plain": [
              "<Figure size 432x288 with 1 Axes>"
            ]
          },
          "metadata": {
            "needs_background": "light"
          },
          "output_type": "display_data"
        }
      ],
      "source": [
        "# 길이 분포 출력\n",
        "text_len = [len(s.split()) for s in data['text']]\n",
        "headlines_len = [len(s.split()) for s in data['headlines']]\n",
        "\n",
        "print('텍스트의 최소 길이 : {}'.format(np.min(text_len)))\n",
        "print('텍스트의 최대 길이 : {}'.format(np.max(text_len)))\n",
        "print('텍스트의 평균 길이 : {}'.format(np.mean(text_len)))\n",
        "print('요약의 최소 길이 : {}'.format(np.min(headlines_len)))\n",
        "print('요약의 최대 길이 : {}'.format(np.max(headlines_len)))\n",
        "print('요약의 평균 길이 : {}'.format(np.mean(headlines_len)))\n",
        "\n",
        "plt.subplot(1,2,1)\n",
        "plt.boxplot(text_len)\n",
        "plt.title('Text')\n",
        "plt.subplot(1,2,2)\n",
        "plt.boxplot(headlines_len)\n",
        "plt.title('headlines')\n",
        "plt.tight_layout()\n",
        "plt.show()\n",
        "\n",
        "plt.title('Text')\n",
        "plt.hist(text_len, bins = 40)\n",
        "plt.xlabel('length of samples')\n",
        "plt.ylabel('number of samples')\n",
        "plt.show()\n",
        "\n",
        "plt.title('headlines')\n",
        "plt.hist(headlines_len, bins = 40)\n",
        "plt.xlabel('length of samples')\n",
        "plt.ylabel('number of samples')\n",
        "plt.show()"
      ]
    },
    {
      "cell_type": "code",
      "execution_count": 20,
      "metadata": {
        "id": "Z_4L5hKciFJK"
      },
      "outputs": [],
      "source": [
        "text_max_len = 50\n",
        "headlines_max_len = 8\n",
        "def below_threshold_len(max_len, nested_list):\n",
        "  cnt = 0\n",
        "  for s in nested_list:\n",
        "    if(len(s.split()) <= max_len):\n",
        "        cnt = cnt + 1\n",
        "  print('전체 샘플 중 길이가 %s 이하인 샘플의 비율: %s'%(max_len, (cnt / len(nested_list))))"
      ]
    },
    {
      "cell_type": "code",
      "execution_count": 21,
      "metadata": {
        "colab": {
          "base_uri": "https://localhost:8080/"
        },
        "id": "znvMs2MxiTw2",
        "outputId": "6cd5fc68-efcb-4fb4-e16f-d10e7506b820"
      },
      "outputs": [
        {
          "name": "stdout",
          "output_type": "stream",
          "text": [
            "전체 샘플 중 길이가 50 이하인 샘플의 비율: 0.9998576657177715\n",
            "전체 샘플 중 길이가 8 이하인 샘플의 비율: 0.2755693371289142\n"
          ]
        }
      ],
      "source": [
        "#노드를 따라서 text는 최대한 많이, headlines는 적게 설정함.\n",
        "below_threshold_len(text_max_len, data['text'])\n",
        "below_threshold_len(headlines_max_len,  data['headlines'])"
      ]
    },
    {
      "cell_type": "code",
      "execution_count": 22,
      "metadata": {
        "colab": {
          "base_uri": "https://localhost:8080/"
        },
        "id": "uVJjShZniVjb",
        "outputId": "941c2b29-0417-4d32-8a41-d9c01133761f"
      },
      "outputs": [
        {
          "name": "stdout",
          "output_type": "stream",
          "text": [
            "전체 샘플수 : 27105\n"
          ]
        }
      ],
      "source": [
        "data = data[data['text'].apply(lambda x: len(x.split()) <= text_max_len)]\n",
        "data = data[data['headlines'].apply(lambda x: len(x.split()) <= headlines_max_len)]\n",
        "print('전체 샘플수 :', (len(data)))"
      ]
    },
    {
      "cell_type": "code",
      "execution_count": 23,
      "metadata": {
        "colab": {
          "base_uri": "https://localhost:8080/",
          "height": 206
        },
        "id": "6YoIIeMJi4CG",
        "outputId": "915b7d1a-9119-4d33-8d61-42784c99f1df"
      },
      "outputs": [
        {
          "data": {
            "text/html": [
              "\n",
              "  <div id=\"df-946bbb16-088f-4610-aa17-df29c4e5eb62\">\n",
              "    <div class=\"colab-df-container\">\n",
              "      <div>\n",
              "<style scoped>\n",
              "    .dataframe tbody tr th:only-of-type {\n",
              "        vertical-align: middle;\n",
              "    }\n",
              "\n",
              "    .dataframe tbody tr th {\n",
              "        vertical-align: top;\n",
              "    }\n",
              "\n",
              "    .dataframe thead th {\n",
              "        text-align: right;\n",
              "    }\n",
              "</style>\n",
              "<table border=\"1\" class=\"dataframe\">\n",
              "  <thead>\n",
              "    <tr style=\"text-align: right;\">\n",
              "      <th></th>\n",
              "      <th>headlines</th>\n",
              "      <th>text</th>\n",
              "      <th>decoder_input</th>\n",
              "      <th>decoder_target</th>\n",
              "    </tr>\n",
              "  </thead>\n",
              "  <tbody>\n",
              "    <tr>\n",
              "      <th>19</th>\n",
              "      <td>odisha cm patnaik controls mining mafia union ...</td>\n",
              "      <td>union minister dharmendra pradhan wednesday cl...</td>\n",
              "      <td>sostoken odisha cm patnaik controls mining maf...</td>\n",
              "      <td>odisha cm patnaik controls mining mafia union ...</td>\n",
              "    </tr>\n",
              "    <tr>\n",
              "      <th>21</th>\n",
              "      <td>isro unveils bengaluru centre for manned space...</td>\n",
              "      <td>indian space research organisation wednesday u...</td>\n",
              "      <td>sostoken isro unveils bengaluru centre for man...</td>\n",
              "      <td>isro unveils bengaluru centre for manned space...</td>\n",
              "    </tr>\n",
              "    <tr>\n",
              "      <th>22</th>\n",
              "      <td>killed injured in saudi arabia floods</td>\n",
              "      <td>least people killed others injured saudi arabi...</td>\n",
              "      <td>sostoken killed injured in saudi arabia floods</td>\n",
              "      <td>killed injured in saudi arabia floods eostoken</td>\n",
              "    </tr>\n",
              "    <tr>\n",
              "      <th>29</th>\n",
              "      <td>seat cushions from missing plane carrying foot...</td>\n",
              "      <td>investigators searching lost plane carrying ar...</td>\n",
              "      <td>sostoken seat cushions from missing plane carr...</td>\n",
              "      <td>seat cushions from missing plane carrying foot...</td>\n",
              "    </tr>\n",
              "    <tr>\n",
              "      <th>36</th>\n",
              "      <td>agustawestland scam accused rajiv saxena extra...</td>\n",
              "      <td>agustawestland chopper scam co accused rajiv s...</td>\n",
              "      <td>sostoken agustawestland scam accused rajiv sax...</td>\n",
              "      <td>agustawestland scam accused rajiv saxena extra...</td>\n",
              "    </tr>\n",
              "  </tbody>\n",
              "</table>\n",
              "</div>\n",
              "      <button class=\"colab-df-convert\" onclick=\"convertToInteractive('df-946bbb16-088f-4610-aa17-df29c4e5eb62')\"\n",
              "              title=\"Convert this dataframe to an interactive table.\"\n",
              "              style=\"display:none;\">\n",
              "        \n",
              "  <svg xmlns=\"http://www.w3.org/2000/svg\" height=\"24px\"viewBox=\"0 0 24 24\"\n",
              "       width=\"24px\">\n",
              "    <path d=\"M0 0h24v24H0V0z\" fill=\"none\"/>\n",
              "    <path d=\"M18.56 5.44l.94 2.06.94-2.06 2.06-.94-2.06-.94-.94-2.06-.94 2.06-2.06.94zm-11 1L8.5 8.5l.94-2.06 2.06-.94-2.06-.94L8.5 2.5l-.94 2.06-2.06.94zm10 10l.94 2.06.94-2.06 2.06-.94-2.06-.94-.94-2.06-.94 2.06-2.06.94z\"/><path d=\"M17.41 7.96l-1.37-1.37c-.4-.4-.92-.59-1.43-.59-.52 0-1.04.2-1.43.59L10.3 9.45l-7.72 7.72c-.78.78-.78 2.05 0 2.83L4 21.41c.39.39.9.59 1.41.59.51 0 1.02-.2 1.41-.59l7.78-7.78 2.81-2.81c.8-.78.8-2.07 0-2.86zM5.41 20L4 18.59l7.72-7.72 1.47 1.35L5.41 20z\"/>\n",
              "  </svg>\n",
              "      </button>\n",
              "      \n",
              "  <style>\n",
              "    .colab-df-container {\n",
              "      display:flex;\n",
              "      flex-wrap:wrap;\n",
              "      gap: 12px;\n",
              "    }\n",
              "\n",
              "    .colab-df-convert {\n",
              "      background-color: #E8F0FE;\n",
              "      border: none;\n",
              "      border-radius: 50%;\n",
              "      cursor: pointer;\n",
              "      display: none;\n",
              "      fill: #1967D2;\n",
              "      height: 32px;\n",
              "      padding: 0 0 0 0;\n",
              "      width: 32px;\n",
              "    }\n",
              "\n",
              "    .colab-df-convert:hover {\n",
              "      background-color: #E2EBFA;\n",
              "      box-shadow: 0px 1px 2px rgba(60, 64, 67, 0.3), 0px 1px 3px 1px rgba(60, 64, 67, 0.15);\n",
              "      fill: #174EA6;\n",
              "    }\n",
              "\n",
              "    [theme=dark] .colab-df-convert {\n",
              "      background-color: #3B4455;\n",
              "      fill: #D2E3FC;\n",
              "    }\n",
              "\n",
              "    [theme=dark] .colab-df-convert:hover {\n",
              "      background-color: #434B5C;\n",
              "      box-shadow: 0px 1px 3px 1px rgba(0, 0, 0, 0.15);\n",
              "      filter: drop-shadow(0px 1px 2px rgba(0, 0, 0, 0.3));\n",
              "      fill: #FFFFFF;\n",
              "    }\n",
              "  </style>\n",
              "\n",
              "      <script>\n",
              "        const buttonEl =\n",
              "          document.querySelector('#df-946bbb16-088f-4610-aa17-df29c4e5eb62 button.colab-df-convert');\n",
              "        buttonEl.style.display =\n",
              "          google.colab.kernel.accessAllowed ? 'block' : 'none';\n",
              "\n",
              "        async function convertToInteractive(key) {\n",
              "          const element = document.querySelector('#df-946bbb16-088f-4610-aa17-df29c4e5eb62');\n",
              "          const dataTable =\n",
              "            await google.colab.kernel.invokeFunction('convertToInteractive',\n",
              "                                                     [key], {});\n",
              "          if (!dataTable) return;\n",
              "\n",
              "          const docLinkHtml = 'Like what you see? Visit the ' +\n",
              "            '<a target=\"_blank\" href=https://colab.research.google.com/notebooks/data_table.ipynb>data table notebook</a>'\n",
              "            + ' to learn more about interactive tables.';\n",
              "          element.innerHTML = '';\n",
              "          dataTable['output_type'] = 'display_data';\n",
              "          await google.colab.output.renderOutput(dataTable, element);\n",
              "          const docLink = document.createElement('div');\n",
              "          docLink.innerHTML = docLinkHtml;\n",
              "          element.appendChild(docLink);\n",
              "        }\n",
              "      </script>\n",
              "    </div>\n",
              "  </div>\n",
              "  "
            ],
            "text/plain": [
              "                                            headlines  \\\n",
              "19  odisha cm patnaik controls mining mafia union ...   \n",
              "21  isro unveils bengaluru centre for manned space...   \n",
              "22              killed injured in saudi arabia floods   \n",
              "29  seat cushions from missing plane carrying foot...   \n",
              "36  agustawestland scam accused rajiv saxena extra...   \n",
              "\n",
              "                                                 text  \\\n",
              "19  union minister dharmendra pradhan wednesday cl...   \n",
              "21  indian space research organisation wednesday u...   \n",
              "22  least people killed others injured saudi arabi...   \n",
              "29  investigators searching lost plane carrying ar...   \n",
              "36  agustawestland chopper scam co accused rajiv s...   \n",
              "\n",
              "                                        decoder_input  \\\n",
              "19  sostoken odisha cm patnaik controls mining maf...   \n",
              "21  sostoken isro unveils bengaluru centre for man...   \n",
              "22     sostoken killed injured in saudi arabia floods   \n",
              "29  sostoken seat cushions from missing plane carr...   \n",
              "36  sostoken agustawestland scam accused rajiv sax...   \n",
              "\n",
              "                                       decoder_target  \n",
              "19  odisha cm patnaik controls mining mafia union ...  \n",
              "21  isro unveils bengaluru centre for manned space...  \n",
              "22     killed injured in saudi arabia floods eostoken  \n",
              "29  seat cushions from missing plane carrying foot...  \n",
              "36  agustawestland scam accused rajiv saxena extra...  "
            ]
          },
          "execution_count": 23,
          "metadata": {},
          "output_type": "execute_result"
        }
      ],
      "source": [
        "# 요약 데이터에는 시작 토큰과 종료 토큰을 추가한다.\n",
        "data['decoder_input'] = data['headlines'].apply(lambda x : 'sostoken '+ x)\n",
        "data['decoder_target'] = data['headlines'].apply(lambda x : x + ' eostoken')\n",
        "data.head()"
      ]
    },
    {
      "cell_type": "code",
      "execution_count": 24,
      "metadata": {
        "id": "HJ1ypkSgi_d1"
      },
      "outputs": [],
      "source": [
        "encoder_input = np.array(data['text']) # 인코더의 입력\n",
        "decoder_input = np.array(data['decoder_input']) # 디코더의 입력\n",
        "decoder_target = np.array(data['decoder_target']) # 디코더의 레이블"
      ]
    },
    {
      "cell_type": "markdown",
      "metadata": {
        "id": "d0hMWLzp6f3l"
      },
      "source": [
        "### 2.train test split"
      ]
    },
    {
      "cell_type": "code",
      "execution_count": 25,
      "metadata": {
        "colab": {
          "base_uri": "https://localhost:8080/"
        },
        "id": "36gauHHjjE_0",
        "outputId": "9fa841b5-895b-4883-bdd6-65ffb95d8585"
      },
      "outputs": [
        {
          "name": "stdout",
          "output_type": "stream",
          "text": [
            "[ 8004 23605  5981 ... 18779 16282 11161]\n"
          ]
        }
      ],
      "source": [
        "#테스트셋을 임의로 뽑아내기 위한 사전작업\n",
        "indices = np.arange(encoder_input.shape[0])\n",
        "np.random.shuffle(indices)\n",
        "print(indices)"
      ]
    },
    {
      "cell_type": "code",
      "execution_count": 26,
      "metadata": {
        "colab": {
          "base_uri": "https://localhost:8080/"
        },
        "id": "kblk_GAajG9R",
        "outputId": "07802663-4869-4b05-85c5-e6ccb62551f6"
      },
      "outputs": [
        {
          "name": "stdout",
          "output_type": "stream",
          "text": [
            "테스트 데이터의 수 : 5421\n"
          ]
        }
      ],
      "source": [
        "encoder_input = encoder_input[indices]\n",
        "decoder_input = decoder_input[indices]\n",
        "decoder_target = decoder_target[indices]\n",
        "n_of_val = int(len(encoder_input)*0.2)\n",
        "print('테스트 데이터의 수 :', n_of_val)"
      ]
    },
    {
      "cell_type": "code",
      "execution_count": 27,
      "metadata": {
        "colab": {
          "base_uri": "https://localhost:8080/"
        },
        "id": "u03iAgbhjOGX",
        "outputId": "b914aaef-f28d-4d99-975c-fccc82d658e4"
      },
      "outputs": [
        {
          "name": "stdout",
          "output_type": "stream",
          "text": [
            "훈련 데이터의 개수 : 21684\n",
            "훈련 레이블의 개수 : 21684\n",
            "테스트 데이터의 개수 : 5421\n",
            "테스트 레이블의 개수 : 5421\n"
          ]
        }
      ],
      "source": [
        "encoder_input_train = encoder_input[:-n_of_val]\n",
        "decoder_input_train = decoder_input[:-n_of_val]\n",
        "decoder_target_train = decoder_target[:-n_of_val]\n",
        "\n",
        "encoder_input_test = encoder_input[-n_of_val:]\n",
        "decoder_input_test = decoder_input[-n_of_val:]\n",
        "decoder_target_test = decoder_target[-n_of_val:]\n",
        "\n",
        "print('훈련 데이터의 개수 :', len(encoder_input_train))\n",
        "print('훈련 레이블의 개수 :', len(decoder_input_train))\n",
        "print('테스트 데이터의 개수 :', len(encoder_input_test))\n",
        "print('테스트 레이블의 개수 :', len(decoder_input_test))"
      ]
    },
    {
      "cell_type": "markdown",
      "metadata": {
        "id": "AyquB1Al6kSU"
      },
      "source": [
        "### 3. Tokenizing"
      ]
    },
    {
      "cell_type": "code",
      "execution_count": 28,
      "metadata": {
        "id": "WchHbMa6jTDa"
      },
      "outputs": [],
      "source": [
        "src_tokenizer = Tokenizer() # 인코더 토크나이저 정의\n",
        "src_tokenizer.fit_on_texts(encoder_input_train) # 입력된 데이터로부터 단어 집합 생성"
      ]
    },
    {
      "cell_type": "code",
      "execution_count": 29,
      "metadata": {
        "colab": {
          "base_uri": "https://localhost:8080/"
        },
        "id": "qWh7o6SVjba4",
        "outputId": "00058c0b-f172-41a6-cafe-bba1665b5650"
      },
      "outputs": [
        {
          "name": "stdout",
          "output_type": "stream",
          "text": [
            "단어 집합(vocabulary)의 크기 : 42470\n",
            "등장 빈도가 6번 이하인 희귀 단어의 수: 30714\n",
            "단어 집합에서 희귀 단어를 제외시킬 경우의 단어 집합의 크기 11756\n",
            "단어 집합에서 희귀 단어의 비율: 72.3192842006122\n",
            "전체 등장 빈도에서 희귀 단어 등장 빈도 비율: 8.25131669247901\n"
          ]
        }
      ],
      "source": [
        "threshold = 7\n",
        "total_cnt = len(src_tokenizer.word_index) # 단어의 수\n",
        "rare_cnt = 0 # 등장 빈도수가 threshold보다 작은 단어의 개수를 카운트\n",
        "total_freq = 0 # 훈련 데이터의 전체 단어 빈도수 총 합\n",
        "rare_freq = 0 # 등장 빈도수가 threshold보다 작은 단어의 등장 빈도수의 총 합\n",
        "\n",
        "# 단어와 빈도수의 쌍(pair)을 key와 value로 받는다.\n",
        "for key, value in src_tokenizer.word_counts.items():\n",
        "    total_freq = total_freq + value\n",
        "\n",
        "    # 단어의 등장 빈도수가 threshold보다 작으면\n",
        "    if(value < threshold):\n",
        "        rare_cnt = rare_cnt + 1\n",
        "        rare_freq = rare_freq + value\n",
        "\n",
        "print('단어 집합(vocabulary)의 크기 :', total_cnt)\n",
        "print('등장 빈도가 %s번 이하인 희귀 단어의 수: %s'%(threshold - 1, rare_cnt))\n",
        "print('단어 집합에서 희귀 단어를 제외시킬 경우의 단어 집합의 크기 %s'%(total_cnt - rare_cnt))\n",
        "print(\"단어 집합에서 희귀 단어의 비율:\", (rare_cnt / total_cnt)*100)\n",
        "print(\"전체 등장 빈도에서 희귀 단어 등장 빈도 비율:\", (rare_freq / total_freq)*100)"
      ]
    },
    {
      "cell_type": "code",
      "execution_count": 30,
      "metadata": {
        "id": "IQfDdux7jhpn"
      },
      "outputs": [],
      "source": [
        "# total_cnt - rare_cnt 의 값에 가깝게 설정했을 때보다 어느정도 더 적은 수를 지정할 때 Loss가 크게 줄음. 이후 회고록 표에서 확인가능\n",
        "src_vocab = 8000\n",
        "src_tokenizer = Tokenizer(num_words=src_vocab) # 단어 집합의 크기를 8,000으로 제한\n",
        "src_tokenizer.fit_on_texts(encoder_input_train) # 단어 집합 재생성"
      ]
    },
    {
      "cell_type": "code",
      "execution_count": 31,
      "metadata": {
        "colab": {
          "base_uri": "https://localhost:8080/"
        },
        "id": "gmGXsrnojzuQ",
        "outputId": "442344ef-aaf4-4814-d614-7202035c2000"
      },
      "outputs": [
        {
          "name": "stdout",
          "output_type": "stream",
          "text": [
            "[[16, 472, 1579, 1681, 4398, 6489, 7396, 2870, 2832, 7397, 2870, 242, 6489, 341, 32, 556, 441, 198, 1521, 638, 4908, 806, 6489, 179, 99, 5804, 476, 8, 1], [82, 460, 474, 2393, 247, 480, 176, 98, 82, 11, 186, 209, 489, 2105, 247, 209, 2871, 11, 186, 480, 619, 247, 49, 83, 474, 2833, 247, 5805], [82, 613, 218, 1522, 1505, 3460, 922, 194, 69, 686, 2872, 454, 272, 259, 428, 4645, 194, 2029, 794, 3460, 7035, 69, 1850, 683, 4, 1435]]\n"
          ]
        }
      ],
      "source": [
        "# 텍스트 시퀀스를 정수 시퀀스로 변환\n",
        "encoder_input_train = src_tokenizer.texts_to_sequences(encoder_input_train) \n",
        "encoder_input_test = src_tokenizer.texts_to_sequences(encoder_input_test)\n",
        "\n",
        "# 잘 진행되었는지 샘플 출력\n",
        "print(encoder_input_train[:3])"
      ]
    },
    {
      "cell_type": "code",
      "execution_count": 32,
      "metadata": {
        "id": "IlR4wCBoj3Lx"
      },
      "outputs": [],
      "source": [
        "tar_tokenizer = Tokenizer() #디코더 토크나이저\n",
        "tar_tokenizer.fit_on_texts(decoder_input_train)"
      ]
    },
    {
      "cell_type": "code",
      "execution_count": 33,
      "metadata": {
        "colab": {
          "base_uri": "https://localhost:8080/"
        },
        "id": "w2SEbMKlj9pU",
        "outputId": "d0e441ae-27af-466d-ad63-ddf9de2d13e6"
      },
      "outputs": [
        {
          "name": "stdout",
          "output_type": "stream",
          "text": [
            "단어 집합(vocabulary)의 크기 : 18887\n",
            "등장 빈도가 5번 이하인 희귀 단어의 수: 14240\n",
            "단어 집합에서 희귀 단어를 제외시킬 경우의 단어 집합의 크기 4647\n",
            "단어 집합에서 희귀 단어의 비율: 75.3957748716048\n",
            "전체 등장 빈도에서 희귀 단어 등장 빈도 비율: 14.09036286774962\n"
          ]
        }
      ],
      "source": [
        "threshold = 6\n",
        "total_cnt = len(tar_tokenizer.word_index) # 단어의 수\n",
        "rare_cnt = 0 # 등장 빈도수가 threshold보다 작은 단어의 개수를 카운트\n",
        "total_freq = 0 # 훈련 데이터의 전체 단어 빈도수 총 합\n",
        "rare_freq = 0 # 등장 빈도수가 threshold보다 작은 단어의 등장 빈도수의 총 합\n",
        "\n",
        "# 단어와 빈도수의 쌍(pair)을 key와 value로 받는다.\n",
        "for key, value in tar_tokenizer.word_counts.items():\n",
        "    total_freq = total_freq + value\n",
        "\n",
        "    # 단어의 등장 빈도수가 threshold보다 작으면\n",
        "    if(value < threshold):\n",
        "        rare_cnt = rare_cnt + 1\n",
        "        rare_freq = rare_freq + value\n",
        "\n",
        "print('단어 집합(vocabulary)의 크기 :', total_cnt)\n",
        "print('등장 빈도가 %s번 이하인 희귀 단어의 수: %s'%(threshold - 1, rare_cnt))\n",
        "print('단어 집합에서 희귀 단어를 제외시킬 경우의 단어 집합의 크기 %s'%(total_cnt - rare_cnt))\n",
        "print(\"단어 집합에서 희귀 단어의 비율:\", (rare_cnt / total_cnt)*100)\n",
        "print(\"전체 등장 빈도에서 희귀 단어 등장 빈도 비율:\", (rare_freq / total_freq)*100)"
      ]
    },
    {
      "cell_type": "code",
      "execution_count": 34,
      "metadata": {
        "colab": {
          "base_uri": "https://localhost:8080/"
        },
        "id": "NGzaJGkWj_ot",
        "outputId": "5cb91d5e-7846-4c87-ca18-4b4546a5313d"
      },
      "outputs": [
        {
          "name": "stdout",
          "output_type": "stream",
          "text": [
            "input\n",
            "input  [[1, 175, 326, 4, 1716], [1, 67, 342, 11, 168, 382, 9], [1, 764, 437, 3, 553, 200], [1, 1818, 1935, 116, 3, 115, 3, 438], [1, 488, 348, 1819, 1619, 1620]]\n",
            "target\n",
            "decoder  [[175, 326, 4, 1716, 2], [67, 342, 11, 168, 382, 9, 2], [764, 437, 3, 553, 200, 2], [1818, 1935, 116, 3, 115, 3, 438, 2], [488, 348, 1819, 1619, 1620, 2]]\n"
          ]
        }
      ],
      "source": [
        "tar_vocab = 2000\n",
        "tar_tokenizer = Tokenizer(num_words=tar_vocab) \n",
        "tar_tokenizer.fit_on_texts(decoder_input_train)\n",
        "tar_tokenizer.fit_on_texts(decoder_target_train)\n",
        "\n",
        "# 텍스트 시퀀스를 정수 시퀀스로 변환\n",
        "decoder_input_train = tar_tokenizer.texts_to_sequences(decoder_input_train) \n",
        "decoder_target_train = tar_tokenizer.texts_to_sequences(decoder_target_train)\n",
        "decoder_input_test = tar_tokenizer.texts_to_sequences(decoder_input_test)\n",
        "decoder_target_test = tar_tokenizer.texts_to_sequences(decoder_target_test)\n",
        "\n",
        "# 잘 변환되었는지 확인\n",
        "print('input')\n",
        "print('input ',decoder_input_train[:5])\n",
        "print('target')\n",
        "print('decoder ',decoder_target_train[:5])"
      ]
    },
    {
      "cell_type": "code",
      "execution_count": 35,
      "metadata": {
        "colab": {
          "base_uri": "https://localhost:8080/"
        },
        "id": "fh7xCqEtkE_R",
        "outputId": "a8897436-3097-4b1f-de53-327dc28e4563"
      },
      "outputs": [
        {
          "name": "stdout",
          "output_type": "stream",
          "text": [
            "삭제할 훈련 데이터의 개수 : 9\n",
            "삭제할 테스트 데이터의 개수 : 3\n",
            "훈련 데이터의 개수 : 21675\n",
            "훈련 레이블의 개수 : 21675\n",
            "테스트 데이터의 개수 : 5418\n",
            "테스트 레이블의 개수 : 5418\n"
          ]
        }
      ],
      "source": [
        "drop_train = [index for index, sentence in enumerate(decoder_input_train) if len(sentence) == 1]\n",
        "drop_test = [index for index, sentence in enumerate(decoder_input_test) if len(sentence) == 1]\n",
        "\n",
        "print('삭제할 훈련 데이터의 개수 :', len(drop_train))\n",
        "print('삭제할 테스트 데이터의 개수 :', len(drop_test))\n",
        "\n",
        "encoder_input_train = [sentence for index, sentence in enumerate(encoder_input_train) if index not in drop_train]\n",
        "decoder_input_train = [sentence for index, sentence in enumerate(decoder_input_train) if index not in drop_train]\n",
        "decoder_target_train = [sentence for index, sentence in enumerate(decoder_target_train) if index not in drop_train]\n",
        "\n",
        "encoder_input_test = [sentence for index, sentence in enumerate(encoder_input_test) if index not in drop_test]\n",
        "decoder_input_test = [sentence for index, sentence in enumerate(decoder_input_test) if index not in drop_test]\n",
        "decoder_target_test = [sentence for index, sentence in enumerate(decoder_target_test) if index not in drop_test]\n",
        "\n",
        "print('훈련 데이터의 개수 :', len(encoder_input_train))\n",
        "print('훈련 레이블의 개수 :', len(decoder_input_train))\n",
        "print('테스트 데이터의 개수 :', len(encoder_input_test))\n",
        "print('테스트 레이블의 개수 :', len(decoder_input_test))"
      ]
    },
    {
      "cell_type": "code",
      "execution_count": 36,
      "metadata": {
        "id": "Mr_8JNDVkPP8"
      },
      "outputs": [],
      "source": [
        "encoder_input_train = pad_sequences(encoder_input_train, maxlen=text_max_len, padding='post')\n",
        "encoder_input_test = pad_sequences(encoder_input_test, maxlen=text_max_len, padding='post')\n",
        "decoder_input_train = pad_sequences(decoder_input_train, maxlen=headlines_max_len, padding='post')\n",
        "decoder_target_train = pad_sequences(decoder_target_train, maxlen=headlines_max_len, padding='post')\n",
        "decoder_input_test = pad_sequences(decoder_input_test, maxlen=headlines_max_len, padding='post')\n",
        "decoder_target_test = pad_sequences(decoder_target_test, maxlen=headlines_max_len, padding='post')"
      ]
    },
    {
      "cell_type": "markdown",
      "metadata": {
        "id": "EPEqMfWU7bG9"
      },
      "source": [
        "### 4. 모델설계"
      ]
    },
    {
      "cell_type": "code",
      "execution_count": 37,
      "metadata": {
        "colab": {
          "base_uri": "https://localhost:8080/"
        },
        "id": "_pwcVQlHkZuP",
        "outputId": "8e16ee66-506d-4273-908c-b4d690e06686"
      },
      "outputs": [
        {
          "name": "stdout",
          "output_type": "stream",
          "text": [
            "WARNING:tensorflow:Layer lstm will not use cuDNN kernels since it doesn't meet the criteria. It will use a generic GPU kernel as fallback when running on GPU.\n",
            "WARNING:tensorflow:Layer lstm_1 will not use cuDNN kernels since it doesn't meet the criteria. It will use a generic GPU kernel as fallback when running on GPU.\n",
            "WARNING:tensorflow:Layer lstm_2 will not use cuDNN kernels since it doesn't meet the criteria. It will use a generic GPU kernel as fallback when running on GPU.\n"
          ]
        }
      ],
      "source": [
        "# 인코더 설계 시작\n",
        "embedding_dim = 512\n",
        "hidden_size = 512\n",
        "dropout = 0.4\n",
        "# 인코더\n",
        "encoder_inputs = Input(shape=(text_max_len,))\n",
        "\n",
        "# 인코더의 임베딩 층\n",
        "enc_emb = Embedding(src_vocab, embedding_dim)(encoder_inputs)\n",
        "\n",
        "# 인코더의 LSTM 1\n",
        "encoder_lstm1 = LSTM(hidden_size, return_sequences=True, return_state=True ,dropout = 0.4, recurrent_dropout = 0.4)\n",
        "# encoder_lstm1 = LSTM(hidden_size, return_sequences=True, return_state=True ,dropout = dropout)\n",
        "encoder_output1, state_h1, state_c1 = encoder_lstm1(enc_emb)\n",
        "\n",
        "# 인코더의 LSTM 2\n",
        "encoder_lstm2 = LSTM(hidden_size, return_sequences=True, return_state=True, dropout=0.4, recurrent_dropout=0.4)\n",
        "# encoder_lstm2 = LSTM(hidden_size, return_sequences=True, return_state=True, dropout=dropout)\n",
        "encoder_output2, state_h2, state_c2 = encoder_lstm2(encoder_output1)\n",
        "\n",
        "# 인코더의 LSTM 3\n",
        "encoder_lstm3 = LSTM(hidden_size, return_state=True, return_sequences=True, dropout=0.4, recurrent_dropout=0.4)\n",
        "# encoder_lstm3 = LSTM(hidden_size, return_state=True, return_sequences=True, dropout=dropout)\n",
        "encoder_outputs, state_h, state_c= encoder_lstm3(encoder_output2)"
      ]
    },
    {
      "cell_type": "code",
      "execution_count": 38,
      "metadata": {
        "colab": {
          "base_uri": "https://localhost:8080/"
        },
        "id": "dHBAijIMkk0D",
        "outputId": "c11f2932-7be0-454f-f5cd-6f5d2816120a"
      },
      "outputs": [
        {
          "name": "stdout",
          "output_type": "stream",
          "text": [
            "WARNING:tensorflow:Layer lstm_3 will not use cuDNN kernels since it doesn't meet the criteria. It will use a generic GPU kernel as fallback when running on GPU.\n",
            "Model: \"model\"\n",
            "__________________________________________________________________________________________________\n",
            " Layer (type)                   Output Shape         Param #     Connected to                     \n",
            "==================================================================================================\n",
            " input_1 (InputLayer)           [(None, 50)]         0           []                               \n",
            "                                                                                                  \n",
            " embedding (Embedding)          (None, 50, 512)      4096000     ['input_1[0][0]']                \n",
            "                                                                                                  \n",
            " lstm (LSTM)                    [(None, 50, 512),    2099200     ['embedding[0][0]']              \n",
            "                                 (None, 512),                                                     \n",
            "                                 (None, 512)]                                                     \n",
            "                                                                                                  \n",
            " input_2 (InputLayer)           [(None, None)]       0           []                               \n",
            "                                                                                                  \n",
            " lstm_1 (LSTM)                  [(None, 50, 512),    2099200     ['lstm[0][0]']                   \n",
            "                                 (None, 512),                                                     \n",
            "                                 (None, 512)]                                                     \n",
            "                                                                                                  \n",
            " embedding_1 (Embedding)        (None, None, 512)    1024000     ['input_2[0][0]']                \n",
            "                                                                                                  \n",
            " lstm_2 (LSTM)                  [(None, 50, 512),    2099200     ['lstm_1[0][0]']                 \n",
            "                                 (None, 512),                                                     \n",
            "                                 (None, 512)]                                                     \n",
            "                                                                                                  \n",
            " lstm_3 (LSTM)                  [(None, None, 512),  2099200     ['embedding_1[0][0]',            \n",
            "                                 (None, 512),                     'lstm_2[0][1]',                 \n",
            "                                 (None, 512)]                     'lstm_2[0][2]']                 \n",
            "                                                                                                  \n",
            " dense (Dense)                  (None, None, 2000)   1026000     ['lstm_3[0][0]']                 \n",
            "                                                                                                  \n",
            "==================================================================================================\n",
            "Total params: 14,542,800\n",
            "Trainable params: 14,542,800\n",
            "Non-trainable params: 0\n",
            "__________________________________________________________________________________________________\n"
          ]
        }
      ],
      "source": [
        "# 디코더 설계\n",
        "decoder_inputs = Input(shape=(None,))\n",
        "\n",
        "# 디코더의 임베딩 층\n",
        "dec_emb_layer = Embedding(tar_vocab, embedding_dim)\n",
        "dec_emb = dec_emb_layer(decoder_inputs)\n",
        "\n",
        "# 디코더의 LSTM\n",
        "decoder_lstm = LSTM(hidden_size, return_sequences=True, return_state=True, dropout=0.4, recurrent_dropout=0.2)\n",
        "# decoder_lstm = LSTM(hidden_size, return_sequences=True, return_state=True, dropout=dropout)\n",
        "decoder_outputs, _, _ = decoder_lstm(dec_emb, initial_state=[state_h, state_c]) # h,c값이 버려지는 것 확인 가능..?\n",
        "\n",
        "# 디코더의 출력층\n",
        "decoder_softmax_layer = Dense(tar_vocab, activation='softmax')\n",
        "decoder_softmax_outputs = decoder_softmax_layer(decoder_outputs) \n",
        "\n",
        "# 모델 정의\n",
        "model = Model([encoder_inputs, decoder_inputs], decoder_softmax_outputs)\n",
        "model.summary()"
      ]
    },
    {
      "cell_type": "code",
      "execution_count": 39,
      "metadata": {
        "colab": {
          "base_uri": "https://localhost:8080/"
        },
        "id": "9OycPaq7NreN",
        "outputId": "15557ab7-cd95-4e66-cdb3-42306db069a1"
      },
      "outputs": [
        {
          "data": {
            "text/plain": [
              "('attention.py', <http.client.HTTPMessage at 0x7f694ead4c90>)"
            ]
          },
          "execution_count": 39,
          "metadata": {},
          "output_type": "execute_result"
        }
      ],
      "source": [
        "urllib.request.urlretrieve(\"https://raw.githubusercontent.com/thushv89/attention_keras/master/src/layers/attention.py\", filename=\"attention.py\")"
      ]
    },
    {
      "cell_type": "code",
      "execution_count": 41,
      "metadata": {
        "colab": {
          "base_uri": "https://localhost:8080/"
        },
        "id": "3kTXHBH0k4RG",
        "outputId": "35e7d3d8-6eda-4203-d0de-ab40f800154d"
      },
      "outputs": [
        {
          "name": "stdout",
          "output_type": "stream",
          "text": [
            "Model: \"model_1\"\n",
            "__________________________________________________________________________________________________\n",
            " Layer (type)                   Output Shape         Param #     Connected to                     \n",
            "==================================================================================================\n",
            " input_1 (InputLayer)           [(None, 50)]         0           []                               \n",
            "                                                                                                  \n",
            " embedding (Embedding)          (None, 50, 512)      4096000     ['input_1[0][0]']                \n",
            "                                                                                                  \n",
            " lstm (LSTM)                    [(None, 50, 512),    2099200     ['embedding[0][0]']              \n",
            "                                 (None, 512),                                                     \n",
            "                                 (None, 512)]                                                     \n",
            "                                                                                                  \n",
            " input_2 (InputLayer)           [(None, None)]       0           []                               \n",
            "                                                                                                  \n",
            " lstm_1 (LSTM)                  [(None, 50, 512),    2099200     ['lstm[0][0]']                   \n",
            "                                 (None, 512),                                                     \n",
            "                                 (None, 512)]                                                     \n",
            "                                                                                                  \n",
            " embedding_1 (Embedding)        (None, None, 512)    1024000     ['input_2[0][0]']                \n",
            "                                                                                                  \n",
            " lstm_2 (LSTM)                  [(None, 50, 512),    2099200     ['lstm_1[0][0]']                 \n",
            "                                 (None, 512),                                                     \n",
            "                                 (None, 512)]                                                     \n",
            "                                                                                                  \n",
            " lstm_3 (LSTM)                  [(None, None, 512),  2099200     ['embedding_1[0][0]',            \n",
            "                                 (None, 512),                     'lstm_2[0][1]',                 \n",
            "                                 (None, 512)]                     'lstm_2[0][2]']                 \n",
            "                                                                                                  \n",
            " attention_layer (AdditiveAtten  (None, None, 512)   512         ['lstm_3[0][0]',                 \n",
            " tion)                                                            'lstm_2[0][0]']                 \n",
            "                                                                                                  \n",
            " concat_layer (Concatenate)     (None, None, 1024)   0           ['lstm_3[0][0]',                 \n",
            "                                                                  'attention_layer[0][0]']        \n",
            "                                                                                                  \n",
            " dense_1 (Dense)                (None, None, 2000)   2050000     ['concat_layer[0][0]']           \n",
            "                                                                                                  \n",
            "==================================================================================================\n",
            "Total params: 15,567,312\n",
            "Trainable params: 15,567,312\n",
            "Non-trainable params: 0\n",
            "__________________________________________________________________________________________________\n"
          ]
        }
      ],
      "source": [
        "# 어텐션 층(어텐션 함수)\n",
        "attn_layer = AdditiveAttention(name='attention_layer')\n",
        "\n",
        "# 인코더와 디코더의 모든 time step의 hidden state를 어텐션 층에 전달하고 결과를 리턴\n",
        "attn_out  = attn_layer([decoder_outputs, encoder_outputs])\n",
        "\n",
        "\n",
        "# 어텐션의 결과와 디코더의 hidden state들을 연결\n",
        "decoder_concat_input = Concatenate(axis=-1, name='concat_layer')([decoder_outputs, attn_out])\n",
        "\n",
        "# 디코더의 출력층\n",
        "decoder_softmax_layer = Dense(tar_vocab, activation='softmax')\n",
        "decoder_softmax_outputs = decoder_softmax_layer(decoder_concat_input)\n",
        "\n",
        "# 모델 정의\n",
        "model = Model([encoder_inputs, decoder_inputs], decoder_softmax_outputs)\n",
        "model.summary()"
      ]
    },
    {
      "cell_type": "markdown",
      "metadata": {
        "id": "1DW0CkY27oB_"
      },
      "source": [
        "### 5. 모델 학습 및 평가"
      ]
    },
    {
      "cell_type": "code",
      "execution_count": 42,
      "metadata": {
        "colab": {
          "base_uri": "https://localhost:8080/"
        },
        "id": "wwfVa4aOlFac",
        "outputId": "9da4860b-a8ff-461b-a8c6-2d80603eb661"
      },
      "outputs": [
        {
          "name": "stdout",
          "output_type": "stream",
          "text": [
            "Epoch 1/50\n",
            "85/85 [==============================] - 68s 633ms/step - loss: 4.8458 - val_loss: 4.4170\n",
            "Epoch 2/50\n",
            "85/85 [==============================] - 53s 626ms/step - loss: 4.3930 - val_loss: 4.2113\n",
            "Epoch 3/50\n",
            "85/85 [==============================] - 53s 627ms/step - loss: 4.1070 - val_loss: 3.9194\n",
            "Epoch 4/50\n",
            "85/85 [==============================] - 53s 621ms/step - loss: 3.8104 - val_loss: 3.7178\n",
            "Epoch 5/50\n",
            "85/85 [==============================] - 53s 625ms/step - loss: 3.5689 - val_loss: 3.5688\n",
            "Epoch 6/50\n",
            "85/85 [==============================] - 53s 626ms/step - loss: 3.3615 - val_loss: 3.4517\n",
            "Epoch 7/50\n",
            "85/85 [==============================] - 53s 624ms/step - loss: 3.1800 - val_loss: 3.3623\n",
            "Epoch 8/50\n",
            "85/85 [==============================] - 53s 625ms/step - loss: 3.0138 - val_loss: 3.3166\n",
            "Epoch 9/50\n",
            "85/85 [==============================] - 53s 623ms/step - loss: 2.8646 - val_loss: 3.2678\n",
            "Epoch 10/50\n",
            "85/85 [==============================] - 53s 622ms/step - loss: 2.7205 - val_loss: 3.2270\n",
            "Epoch 11/50\n",
            "85/85 [==============================] - 53s 626ms/step - loss: 2.5851 - val_loss: 3.2193\n",
            "Epoch 12/50\n",
            "85/85 [==============================] - 53s 621ms/step - loss: 2.4575 - val_loss: 3.2119\n",
            "Epoch 13/50\n",
            "85/85 [==============================] - 53s 624ms/step - loss: 2.3312 - val_loss: 3.2138\n",
            "Epoch 14/50\n",
            "85/85 [==============================] - 53s 619ms/step - loss: 2.2140 - val_loss: 3.1935\n",
            "Epoch 15/50\n",
            "85/85 [==============================] - 53s 619ms/step - loss: 2.0981 - val_loss: 3.2097\n",
            "Epoch 16/50\n",
            "85/85 [==============================] - 52s 616ms/step - loss: 1.9830 - val_loss: 3.2179\n",
            "Epoch 16: early stopping\n"
          ]
        }
      ],
      "source": [
        "model.compile(optimizer='rmsprop', loss='sparse_categorical_crossentropy')\n",
        "es = EarlyStopping(monitor='val_loss', patience=2, verbose=1)\n",
        "history = model.fit(x=[encoder_input_train, decoder_input_train], y=decoder_target_train, \\\n",
        "          validation_data=([encoder_input_test, decoder_input_test], decoder_target_test), \\\n",
        "          batch_size=256, callbacks=[es], epochs=50)"
      ]
    },
    {
      "cell_type": "code",
      "execution_count": 43,
      "metadata": {
        "colab": {
          "base_uri": "https://localhost:8080/",
          "height": 265
        },
        "id": "XRkHrKLklMus",
        "outputId": "3c6a9c5f-a0d2-48e2-d989-b74446b3bd84"
      },
      "outputs": [
        {
          "data": {
            "image/png": "[encoded data removed]",
            "text/plain": [
              "<Figure size 432x288 with 1 Axes>"
            ]
          },
          "metadata": {
            "needs_background": "light"
          },
          "output_type": "display_data"
        }
      ],
      "source": [
        "plt.plot(history.history['loss'], label='train')\n",
        "plt.plot(history.history['val_loss'], label='test')\n",
        "plt.legend()\n",
        "plt.show()"
      ]
    },
    {
      "cell_type": "code",
      "execution_count": 44,
      "metadata": {
        "id": "4T2zuZcLm9ot"
      },
      "outputs": [],
      "source": [
        "src_index_to_word = src_tokenizer.index_word # 원문 단어 집합에서 정수 -> 단어를 얻음\n",
        "tar_word_to_index = tar_tokenizer.word_index # 요약 단어 집합에서 단어 -> 정수를 얻음\n",
        "tar_index_to_word = tar_tokenizer.index_word # 요약 단어 집합에서 정수 -> 단어를 얻음"
      ]
    },
    {
      "cell_type": "code",
      "execution_count": 45,
      "metadata": {
        "id": "On3PC8I2o-Ad"
      },
      "outputs": [],
      "source": [
        "# 인코더 설계\n",
        "encoder_model = Model(inputs=encoder_inputs, outputs=[encoder_outputs, state_h, state_c])\n",
        "\n",
        "# 이전 시점의 상태들을 저장하는 텐서\n",
        "decoder_state_input_h = Input(shape=(hidden_size,))\n",
        "decoder_state_input_c = Input(shape=(hidden_size,))\n",
        "\n",
        "dec_emb2 = dec_emb_layer(decoder_inputs)\n",
        "\n",
        "# 문장의 다음 단어를 예측하기 위해서 초기 상태(initial_state)를 이전 시점의 상태로 사용. 이는 뒤의 함수 decode_sequence()에 구현\n",
        "# 훈련 과정에서와 달리 LSTM의 리턴하는 은닉 상태와 셀 상태인 state_h와 state_c를 버리지 않음.\n",
        "decoder_outputs2, state_h2, state_c2 = decoder_lstm(dec_emb2, initial_state=[decoder_state_input_h, decoder_state_input_c])"
      ]
    },
    {
      "cell_type": "code",
      "execution_count": 46,
      "metadata": {
        "id": "rJ79Nbz4pA69"
      },
      "outputs": [],
      "source": [
        "# 어텐션 함수\n",
        "decoder_hidden_state_input = Input(shape=(text_max_len, hidden_size))\n",
        "attn_out_inf = attn_layer([decoder_outputs2, decoder_hidden_state_input])\n",
        "decoder_inf_concat = Concatenate(axis=-1, name='concat')([decoder_outputs2, attn_out_inf])\n",
        "\n",
        "# 디코더의 출력층\n",
        "decoder_outputs2 = decoder_softmax_layer(decoder_inf_concat) \n",
        "\n",
        "# 최종 디코더 모델\n",
        "decoder_model = Model(\n",
        "    [decoder_inputs] + [decoder_hidden_state_input,decoder_state_input_h, decoder_state_input_c],\n",
        "    [decoder_outputs2] + [state_h2, state_c2])"
      ]
    },
    {
      "cell_type": "code",
      "execution_count": 47,
      "metadata": {
        "id": "V1dkfwcipDWf"
      },
      "outputs": [],
      "source": [
        "def decode_sequence(input_seq):\n",
        "    # 입력으로부터 인코더의 상태를 얻음\n",
        "    e_out, e_h, e_c = encoder_model.predict(input_seq)\n",
        "\n",
        "     # <SOS>에 해당하는 토큰 생성\n",
        "    target_seq = np.zeros((1,1))\n",
        "    target_seq[0, 0] = tar_word_to_index['sostoken']\n",
        "\n",
        "    stop_condition = False\n",
        "    decoded_sentence = ''\n",
        "    while not stop_condition: # stop_condition이 True가 될 때까지 루프 반복\n",
        "\n",
        "        output_tokens, h, c = decoder_model.predict([target_seq] + [e_out, e_h, e_c])\n",
        "        sampled_token_index = np.argmax(output_tokens[0, -1, :])\n",
        "        sampled_token = tar_index_to_word[sampled_token_index]\n",
        "\n",
        "        if (sampled_token!='eostoken'):\n",
        "            decoded_sentence += ' '+sampled_token\n",
        "\n",
        "        #  <eos>에 도달하거나 최대 길이를 넘으면 중단.\n",
        "        if (sampled_token == 'eostoken'  or len(decoded_sentence.split()) >= (headlines_max_len-1)):\n",
        "            stop_condition = True\n",
        "\n",
        "        # 길이가 1인 타겟 시퀀스를 업데이트\n",
        "        target_seq = np.zeros((1,1))\n",
        "        target_seq[0, 0] = sampled_token_index\n",
        "\n",
        "        # 상태를 업데이트 합니다.\n",
        "        e_h, e_c = h, c\n",
        "\n",
        "    return decoded_sentence"
      ]
    },
    {
      "cell_type": "code",
      "execution_count": 48,
      "metadata": {
        "id": "EUwMZnyMpJOz"
      },
      "outputs": [],
      "source": [
        "# 원문의 정수 시퀀스를 텍스트 시퀀스로 변환\n",
        "def seq2text(input_seq):\n",
        "    temp=''\n",
        "    for i in input_seq:\n",
        "        if (i!=0):\n",
        "            temp = temp + src_index_to_word[i]+' '\n",
        "    return temp\n",
        "\n",
        "# 요약문의 정수 시퀀스를 텍스트 시퀀스로 변환\n",
        "def seq2summary(input_seq):\n",
        "    temp=''\n",
        "    for i in input_seq:\n",
        "        if ((i!=0 and i!=tar_word_to_index['sostoken']) and i!=tar_word_to_index['eostoken']):\n",
        "            temp = temp + tar_index_to_word[i] + ' '\n",
        "    return temp"
      ]
    },
    {
      "cell_type": "code",
      "execution_count": 49,
      "metadata": {
        "colab": {
          "base_uri": "https://localhost:8080/"
        },
        "id": "WiIdpKXdpOZ6",
        "outputId": "910b1945-2822-4c40-ae1c-9de778850e55"
      },
      "outputs": [
        {
          "name": "stdout",
          "output_type": "stream",
          "text": [
            "원문 : based doctors successfully removed woman early suffering heavy painful cycle several years multiple known removed three hour surgery patient recovered well discharged hospital said lead posting \n",
            "실제 요약 : removed from of arunachal woman \n",
            "예측 요약 :  man from cancer\n",
            "\n",
            "\n",
            "원문 : kuwait proposed setting international protection mission palestinians draft un security council resolution presented kuwait calls measures guarantee safety protection palestinian civilians occupied palestinian territories gaza strip palestinians killed israeli firing last two months \n",
            "실제 요약 : proposes international protection for \n",
            "예측 요약 :  over indians in spain\n",
            "\n",
            "\n",
            "원문 : us whistleblower edward slammed harvard university withdrawing invitation ex us transgender soldier chelsea harvard invited cia men directed defended killings blocks whistleblower fear controversy tweeted notably convicted giving classified us government materials wikileaks \n",
            "실제 요약 : slams harvard for to \n",
            "예측 요약 :  russian american chief charged with\n",
            "\n",
            "\n",
            "원문 : elon musk led space exploration startup spacex friday successfully launched landed pre used falcon rocket marking first class rocket spacex used technique involves firing rocket engines opposite direction speeds greater sound fuel launch used engine make landing \n",
            "실제 요약 : how did spacex and land used rocket \n",
            "예측 요약 :  spacex launches rocket landing on spacex\n",
            "\n",
            "\n",
            "원문 : university mumbai management council approved addition new colleges across maharashtra next academic year includes several law colleges hotel management institute arts science commerce colleges among others approved state government total number affiliated colleges state \n",
            "실제 요약 : mumbai university approves new \n",
            "예측 요약 :  mumbai to get new\n",
            "\n",
            "\n",
            "원문 : trailer tandon starrer released film revolves around ashish playing model relationship fashion played coffee shop girl portrayed chatterjee directed co written film scheduled release june \n",
            "실제 요약 : trailer of starrer released \n",
            "예측 요약 :  trailer of starrer released\n",
            "\n",
            "\n",
            "원문 : jawaharlal nehru university new delhi hold first years award degrees outgoing phd students august jnu first till date held late actor chief guest university reportedly planning continue holding event every year \n",
            "실제 요약 : to its first in years \n",
            "예측 요약 :  india first national day in\n",
            "\n",
            "\n",
            "원문 : week voting karnataka elections ended police sunday recovered covers eight voter paper audit machines house labourer constituency labourers using covers store clothes state election commission said police launched probe verify facts incident \n",
            "실제 요약 : found at karnataka home \n",
            "예측 요약 :  telangana police speaker to polls\n",
            "\n",
            "\n",
            "원문 : uber launching auto service india almost two years shutting offering march service available initially bengaluru pune starting month allow booking auto rickshaw rides auto option app uber spokesperson confirmed service include safety features available uber cab rides \n",
            "실제 요약 : uber re launches service in india \n",
            "예측 요약 :  uber to launch free ads in\n",
            "\n",
            "\n",
            "원문 : indian cricketer wife became parents baby boy tuesday year old revealed news twitter sharing picture wife newborn joy arrived thank love support wrote \n",
            "실제 요약 : wife welcome baby boy \n",
            "예측 요약 :  messi daughter on birth\n",
            "\n",
            "\n",
            "원문 : incidents related communal violence across country rose last year mos home affairs hansraj ahir said incidents caused death people left injured added cases uttar pradesh recorded maximum number communal incidents followed karnataka rajasthan ahir said \n",
            "실제 요약 : violence cases in highest in up \n",
            "예측 요약 :  kerala flood in\n",
            "\n",
            "\n",
            "원문 : vietnam president passed away friday age serious illness state media reported appointed vietnam president served public security minister also member communist party vietnam party top decision making body \n",
            "실제 요약 : president dies aged \n",
            "예측 요약 :  prez officer appointed president\n",
            "\n",
            "\n",
            "원문 : microsoft adding support email addresses indian languages across apps services company announced wednesday would allow users send receive emails local language email addresses accounts personal computers indian languages supported email address include hindi bengali marathi punjabi tamil telugu \n",
            "실제 요약 : microsoft to allow in indian \n",
            "예측 요약 :  microsoft appoints its first time\n",
            "\n",
            "\n",
            "원문 : british automaker martin collaboration us based submarines thursday unveiled concept submarine called project neptune based three person submarine platform cost around million limited edition vehicle reportedly feet tall travel speed kilometre per hour \n",
            "실제 요약 : unveils million concept \n",
            "예측 요약 :  mit engineers design\n",
            "\n",
            "\n",
            "원문 : stating pentagon complete us president donald trump concerns protecting us assets space defence secretary james mattis said need address space developing war fighting domain adding supports establishing new command space mattis said working way \n",
            "실제 요약 : space developing war us defence secy \n",
            "예측 요약 :  trump threatens to climate change\n",
            "\n",
            "\n",
            "원문 : kidambi srikanth become first indian male badminton player world number one ranking since prakash padukone year old become first ever indian win four superseries titles year recently helped india win gold mixed team event commonwealth games first time ever \n",
            "실제 요약 : india becomes world no player \n",
            "예측 요약 :  becomes india th\n",
            "\n",
            "\n",
            "원문 : indian legend sachin tendulkar took innings finally score th international century bangladesh march also sachin first odi ton bangladesh completing set centuries every icc full member nation odis tests notably tendulkar scored eight half centuries trying reach landmark figure \n",
            "실제 요약 : sachin to his th century \n",
            "예측 요약 :  sachin tendulkar meets sachin tendulkar after\n",
            "\n",
            "\n",
            "원문 : leopard attacked man tuesday residents tried away spotted near building maharashtra district officials said come search prey monsoon spotted near residential areas night patrolling animal captured soon officials added \n",
            "실제 요약 : near maharashtra attacks man \n",
            "예측 요약 :  video attacked on in\n",
            "\n",
            "\n",
            "원문 : weapon physicist laboratory california around video nuclear tests conducted us physicist team film experts located around estimated films created testing films content lost forever \n",
            "실제 요약 : video of nuclear tests \n",
            "예측 요약 :  russian in\n",
            "\n",
            "\n",
            "원문 : miss moscow got married year old malaysian king sultan muhammad reportedly russia last week wedding held russian capital moscow incorporated islamic russian traditions according reports converted islam changed name earlier year reports added \n",
            "실제 요약 : miss king \n",
            "예측 요약 :  us man over\n",
            "\n",
            "\n",
            "원문 : challenging criminal cases filed security personnel insurgency hit areas soldiers supreme court armed forces act earlier month soldiers moved sc similar request last year sc ordered probe allegations human rights violations security personnel manipur \n",
            "실제 요약 : more soldiers petition sc against of \n",
            "예측 요약 :  over compensation for army\n",
            "\n",
            "\n",
            "원문 : travel firm looking hire four paid encouraged position based sweden requires applicants productivity enjoy specialist position temporary lasting january february interestingly office feature beach themed \n",
            "실제 요약 : company looking to hire who \n",
            "예측 요약 :  to hire as\n",
            "\n",
            "\n",
            "원문 : two houses boat florida united states police said called someone noticed depression formed boat parked outside house hole opened within minutes residents left work firefighters managed rescue two dogs retrieve nn \n",
            "실제 요약 : and boat \n",
            "예측 요약 :  video of us highway\n",
            "\n",
            "\n",
            "원문 : doctor sir hospital varanasi hindu university allegedly left five inside woman body operation surgical although fir filed yet police sent case chief medical officer incident came light woman experienced pain following surgery \n",
            "실제 요약 : doctor leaves inside woman body during surgery \n",
            "예측 요약 :  actress passes away at\n",
            "\n",
            "\n",
            "원문 : spotted listing bluetooth certification site reveals listing product called oneplus bullets wireless report clarify whether fully wireless still include wire around neck report also states product launch around time oneplus \n",
            "실제 요약 : oneplus to launch wireless with oneplus report \n",
            "예측 요약 :  to launch reports\n",
            "\n",
            "\n",
            "원문 : cbi friday arrested directors hyderabad based infrastructure allegedly cheating consortium eight banks crore comes cbi registered case basis complaint union bank given loan crore loan declared non performing june \n",
            "실제 요약 : cbi arrests hyderabad firm over cr fraud \n",
            "예측 요약 :  cbi arrests crore in case\n",
            "\n",
            "\n",
            "원문 : nawazuddin siddiqui sanya malhotra starrer photograph screened berlin international film festival take place february film scheduled release march also film festival held january february film directed \n",
            "실제 요약 : nawazuddin to screen at film festival \n",
            "예측 요약 :  nawazuddin to release in film reports\n",
            "\n",
            "\n",
            "원문 : former windies captain brian lara became first cricketer history score plus runs first class innings june playing lara slammed record runs world record innings lara spent almost eight hours knock \n",
            "실제 요약 : slammed record in hours hit in and \n",
            "예측 요약 :  becomes th th\n",
            "\n",
            "\n",
            "원문 : indian railways decided cut tariff luxury trains like palace wheels royal almost according reports move government reportedly comes amid decline popularity revenue luxury tourist trains railway board reviewed policy luxury trains march \n",
            "실제 요약 : trains to be cut by reports \n",
            "예측 요약 :  railways to train\n",
            "\n",
            "\n",
            "원문 : itc ceo puri said tobacco regulations discriminatory cigarette industry said taxes cigarettes increased last years resulting smuggling cigarettes forms tobacco india long period tobacco consumption gone increased added \n",
            "실제 요약 : rules must not against \n",
            "예측 요약 :  ceo of\n",
            "\n",
            "\n",
            "원문 : delhi government announced plans grade around government private schools initiative help parents choose school kids based information schools infrastructure teaching learning facilities safety among others process begin august awarded announced children day \n",
            "실제 요약 : delhi schools to be on \n",
            "예측 요약 :  delhi to get free\n",
            "\n",
            "\n",
            "원문 : human remains found vatican embassy italy capital rome nthe vatican said human bones discovered work embassy forensic investigators working determine age gender remains well date death statement vatican read \n",
            "실제 요약 : human remains found at embassy in \n",
            "예측 요약 :  us to after\n",
            "\n",
            "\n",
            "원문 : union minister kiren rijiju tuesday said government undertaken construction roads operational along indo china border roads constructed defence ministry home ministry comes india china engaged standoff china attempted construct road doklam \n",
            "실제 요약 : over being built along india china border \n",
            "예측 요약 :  india to become population by\n",
            "\n",
            "\n",
            "원문 : singer ed sheeran coming india concert part asia tour year sheeran concert india scheduled november mumbai also perform asian cities including singapore tokyo hong kong bangkok singer release latest album \n",
            "실제 요약 : ed to perform in india in november \n",
            "예측 요약 :  india wins at\n",
            "\n",
            "\n",
            "원문 : three properties belonging underworld dawood ibrahim sold trust crore auction mumbai tuesday made highest bid three sealed properties included restaurant guest house six rooms building \n",
            "실제 요약 : properties of dawood auctioned in mumbai \n",
            "예측 요약 :  baahubali gets crore in\n",
            "\n",
            "\n",
            "원문 : bhattacharya former chairperson india largest lender sbi joined homegrown private equity firm adviser founded manages assets around billion across seven funds besides bhattacharya former technologies ceo also adviser private equity firm \n",
            "실제 요약 : ex sbi chief joins as \n",
            "예측 요약 :  india head quits after years\n",
            "\n",
            "\n",
            "원문 : comedian kapil sharma speaking negative reviews film said everyone film critic days maybe someone likes watching films sort film hero even hold hands added however kapil said things \n",
            "실제 요약 : is film days kapil sharma \n",
            "예측 요약 :  kapil is producer producer\n",
            "\n",
            "\n",
            "원문 : europe asia undergone sudden change colour marine algae form basis marine food consumed several sea animals expert said people may notice stronger sea smell due \n",
            "실제 요약 : changes due to \n",
            "예측 요약 :  of in\n",
            "\n",
            "\n",
            "원문 : lashkar taiba terrorist ahmad involved abduction murder killed security forces jammu kashmir kulgam saturday police said reportedly kidnapped militants attending cousin wedding may bullet body found next day jammu kashmir shopian \n",
            "실제 요약 : let terrorist in army officer murder killed \n",
            "예측 요약 :  terrorists killed in encounter in\n",
            "\n",
            "\n",
            "원문 : railways run special train special clear extra rush passengers ganesh karnataka train start journey railway station bengaluru august reach next day train coaches run special fares authorities said \n",
            "실제 요약 : special train to in karnataka \n",
            "예측 요약 :  railways to train station\n",
            "\n",
            "\n",
            "원문 : us based boston sent across atlantic uk based manchester evening news wednesday wake terror attack killed people media outlets sent newspaper nightclub attack boston received pizza boston marathon bombings kind started boston said \n",
            "실제 요약 : newspaper sends across to another newspaper \n",
            "예측 요약 :  attack on\n",
            "\n",
            "\n",
            "원문 : punjab tourism minister navjot singh sidhu said wrote pm narendra modi seeking crore bagh sidhu requested pm modi modern amenities gives world class supreme place state government observing th year massacre next year \n",
            "실제 요약 : punjab minister seeks crore to \n",
            "예측 요약 :  cabinet approves of national pm modi\n",
            "\n",
            "\n",
            "원문 : us restaurant giving guests chance eat burger part meat month owner said fill lottery ticket draw name come get eat one last six years meat month featured various \n",
            "실제 요약 : us restaurant via lottery \n",
            "예측 요약 :  american wins lakh for\n",
            "\n",
            "\n",
            "원문 : microsoft denied claims complaints sexual harassment revealing fired employees last year complaints microsoft chief people officer said firm received harassment complaints us based workforce employees nearly people complained supported following investigation said \n",
            "실제 요약 : microsoft denies claims that it sexual harassment \n",
            "예측 요약 :  co founder accused of sexual harassment\n",
            "\n",
            "\n",
            "원문 : hyderabad traffic police fined policemen traffic norms city based politician khan twitter campaign went viral khan campaign launched traffic police introduced fine driving without helmet khan telangana dgp telangana urban development minister rao tweets \n",
            "실제 요약 : traffic police fines cops after politician campaign \n",
            "예측 요약 :  police arrest for traffic metro station\n",
            "\n",
            "\n",
            "원문 : former indian captain sourav ganguly harbhajan singh daughter boy commenting family picture posted spinner twitter monday beta sundar hai ganguly commented picture minutes later ganguly apologised writing hai getting old \n",
            "실제 요약 : ganguly apologises for calling harbhajan daughter boy \n",
            "예측 요약 :  ganguly daughter yuvraj singh\n",
            "\n",
            "\n",
            "원문 : north korea missile nuclear programmes urgent dangerous threat security us defence secretary james mattis said north korea means deliver nuclear weapons increased pace added comes north korea test firing soon saying us never war armed country \n",
            "실제 요약 : north korea most threat to security us \n",
            "예측 요약 :  korea test site for nuclear threat\n",
            "\n",
            "\n",
            "원문 : former king michael forced passed away age switzerland tuesday suffering skin cancer first six years old \n",
            "실제 요약 : last passes away aged \n",
            "예측 요약 :  passes away at\n",
            "\n",
            "\n",
            "원문 : germany highest court ordered parents three children pay lakh fine someone house illegally album loud state reportedly said nobody forced deliver children parents refuse name guilty party pays internet bill held responsible \n",
            "실제 요약 : parents fined lakh after kids illegally music \n",
            "예측 요약 :  cbi stolen from\n",
            "\n",
            "\n",
            "원문 : police station established deal alleged corruption cases delhi police officers arrested accused personnel without able convict anyone senior officer unit said unless person caught red handed arrested arrests made evidence forensic \n",
            "실제 요약 : accused convicted delhi police action on cops \n",
            "예측 요약 :  police arrest for men in delhi\n",
            "\n",
            "\n"
          ]
        }
      ],
      "source": [
        "for i in range(50, 100):\n",
        "    print(\"원문 :\", seq2text(encoder_input_test[i]))\n",
        "    print(\"실제 요약 :\", seq2summary(decoder_input_test[i]))\n",
        "    print(\"예측 요약 :\", decode_sequence(encoder_input_test[i].reshape(1, text_max_len)))\n",
        "    print(\"\\n\")"
      ]
    },
    {
      "cell_type": "code",
      "execution_count": 50,
      "metadata": {
        "id": "yB3cbryzTecr"
      },
      "outputs": [],
      "source": [
        "urllib.request.urlretrieve(\"https://raw.githubusercontent.com/sunnysai12345/News_Summary/master/news_summary_more.csv\", filename=\"news_summary_more.csv\")\n",
        "ex_data = pd.read_csv('news_summary_more.csv', encoding='iso-8859-1')"
      ]
    },
    {
      "cell_type": "code",
      "execution_count": 51,
      "metadata": {
        "colab": {
          "base_uri": "https://localhost:8080/"
        },
        "id": "5zj0px-lqYVr",
        "outputId": "1015b493-d712-4eb8-89ce-faa5f705a023"
      },
      "outputs": [
        {
          "name": "stdout",
          "output_type": "stream",
          "text": [
            "원문 : Saurav Kant, an alumnus of upGrad and IIIT-B's PG Program in Machine learning and Artificial Intelligence, was a Sr Systems Engineer at Infosys with almost 5 years of work experience. The program and upGrad's 360-degree career support helped him transition to a Data Scientist at Tech Mahindra with 90% salary hike. upGrad's Online Power Learning has powered 3 lakh+ careers.\n",
            "실제 요약 : upGrad learner switches to career in ML & Al with 90% salary hike\n",
            "예측 요약 : [\"upGrad's Online Power Learning has powered 3 lakh+ careers.\"]\n",
            "예측 요약2 : upGrad's Online Power Learning has powered 3 lakh+ careers.\n",
            "\n",
            "\n",
            "원문 : Kunal Shah's credit card bill payment platform, CRED, gave users a chance to win free food from Swiggy for one year. Pranav Kaushik, a Delhi techie, bagged this reward after spending 2000 CRED coins. Users get one CRED coin per rupee of bill paid, which can be used to avail rewards from brands like Ixigo, BookMyShow, UberEats, Cult.Fit and more.\n",
            "실제 요약 : Delhi techie wins free food from Swiggy for one year on CRED\n",
            "예측 요약 : ['Users get one CRED coin per rupee of bill paid, which can be used to avail rewards from brands like Ixigo, BookMyShow, UberEats, Cult.Fit and more.']\n",
            "예측 요약2 : Users get one CRED coin per rupee of bill paid, which can be used to avail rewards from brands like Ixigo, BookMyShow, UberEats, Cult.Fit and more.\n",
            "\n",
            "\n",
            "원문 : New Zealand defeated India by 8 wickets in the fourth ODI at Hamilton on Thursday to win their first match of the five-match ODI series. India lost an international match under Rohit Sharma's captaincy after 12 consecutive victories dating back to March 2018. The match witnessed India getting all out for 92, their seventh lowest total in ODI cricket history.\n",
            "실제 요약 : New Zealand end Rohit Sharma-led India's 12-match winning streak\n",
            "예측 요약 : ['The match witnessed India getting all out for 92, their seventh lowest total in ODI cricket history.']\n",
            "예측 요약2 : The match witnessed India getting all out for 92, their seventh lowest total in ODI cricket history.\n",
            "\n",
            "\n",
            "원문 : With Aegon Life iTerm Insurance plan, customers can enjoy tax benefits on your premiums paid and save up to Ã¢ÂÂ¹46,800^ on taxes. The plan provides life cover up to the age of 100 years. Also, customers have options to insure against Critical Illnesses, Disability and Accidental Death Benefit Rider with a life cover up to the age of 80 years.\n",
            "실제 요약 : Aegon life iTerm insurance plan helps customers save tax\n",
            "예측 요약 : ['Also, customers have options to insure against Critical Illnesses, Disability and Accidental Death Benefit Rider with a life cover up to the age of 80 years.']\n",
            "예측 요약2 : Also, customers have options to insure against Critical Illnesses, Disability and Accidental Death Benefit Rider with a life cover up to the age of 80 years.\n",
            "\n",
            "\n",
            "원문 : Speaking about the sexual harassment allegations against Rajkumar Hirani, Sonam Kapoor said, \"I've known Hirani for many years...What if it's not true, the [#MeToo] movement will get derailed.\" \"In the #MeToo movement, I always believe a woman. But in this case, we need to reserve our judgment,\" she added. Hirani has been accused by an assistant who worked in 'Sanju'.\n",
            "실제 요약 : Have known Hirani for yrs, what if MeToo claims are not true: Sonam\n",
            "예측 요약 : ['Speaking about the sexual harassment allegations against Rajkumar Hirani, Sonam Kapoor said, \"I\\'ve known Hirani for many years...What if it\\'s not true, the [#MeToo] movement will get derailed.\" \"In the #MeToo movement, I always believe a woman.']\n",
            "예측 요약2 : Speaking about the sexual harassment allegations against Rajkumar Hirani, Sonam Kapoor said, \"I've known Hirani for many years...What if it's not true, the [#MeToo] movement will get derailed.\" \"In the #MeToo movement, I always believe a woman.\n",
            "\n",
            "\n",
            "원문 : Pakistani singer Rahat Fateh Ali Khan has denied receiving any notice from the Enforcement Directorate over allegedly smuggling foreign currency out of India. \"It would have been better if the authorities would have served the notice first if any and then publicised this,\" reads a press release issued on behalf of Rahat. The statement further called the allegation \"bizarre\".\n",
            "실제 요약 : Rahat Fateh Ali Khan denies getting notice for smuggling currency\n",
            "예측 요약 : ['Pakistani singer Rahat Fateh Ali Khan has denied receiving any notice from the Enforcement Directorate over allegedly smuggling foreign currency out of India.']\n",
            "예측 요약2 : Pakistani singer Rahat Fateh Ali Khan has denied receiving any notice from the Enforcement Directorate over allegedly smuggling foreign currency out of India.\n",
            "\n",
            "\n",
            "원문 : India recorded their lowest ODI total in New Zealand after getting all out for 92 runs in 30.5 overs in the fourth ODI at Hamilton on Thursday. Seven of India's batsmen were dismissed for single-digit scores, while their number ten batsman Yuzvendra Chahal top-scored with 18*(37). India's previous lowest ODI total in New Zealand was 108.\n",
            "실제 요약 : India get all out for 92, their lowest ODI total in New Zealand\n",
            "예측 요약 : [\"India's previous lowest ODI total in New Zealand was 108.\"]\n",
            "예측 요약2 : India's previous lowest ODI total in New Zealand was 108.\n",
            "\n",
            "\n",
            "원문 : Weeks after ex-CBI Director Alok Verma told the Department of Personnel and Training to consider him retired, the Home Ministry asked him to join work on the last day of his fixed tenure as Director on Thursday. The ministry directed him to immediately join as DG, Fire Services, the post he was transferred to after his removal as CBI chief.\n",
            "실제 요약 : Govt directs Alok Verma to join work 1 day before his retirement\n",
            "예측 요약 : ['Weeks after ex-CBI Director Alok Verma told the Department of Personnel and Training to consider him retired, the Home Ministry asked him to join work on the last day of his fixed tenure as Director on Thursday.']\n",
            "예측 요약2 : \n",
            "\n",
            "\n",
            "원문 : Andhra Pradesh CM N Chandrababu Naidu has said, \"When I met then US President Bill Clinton, I addressed him as Mr Clinton, not as 'sir'. (PM Narendra) Modi is my junior in politics...I addressed him as sir 10 times.\" \"I did this...to satisfy his ego in the hope that he will do justice to the state,\" he added.\n",
            "실제 요약 : Called PM Modi 'sir' 10 times to satisfy his ego: Andhra CM\n",
            "예측 요약 : ['Andhra Pradesh CM N Chandrababu Naidu has said, \"When I met then US President Bill Clinton, I addressed him as Mr Clinton, not as \\'sir\\'.']\n",
            "예측 요약2 : \n",
            "\n",
            "\n",
            "원문 : Congress candidate Shafia Zubair won the Ramgarh Assembly seat in Rajasthan, by defeating BJP's Sukhwant Singh with a margin of 12,228 votes in the bypoll. With this victory, Congress has taken its total to 100 seats in the 200-member assembly. The election to the Ramgarh seat was delayed due to the death of sitting MLA and BSP candidate Laxman Singh.\n",
            "실제 요약 : Cong wins Ramgarh bypoll in Rajasthan, takes total to 100 seats\n",
            "예측 요약 : [\"Congress candidate Shafia Zubair won the Ramgarh Assembly seat in Rajasthan, by defeating BJP's Sukhwant Singh with a margin of 12,228 votes in the bypoll.\"]\n",
            "예측 요약2 : Congress candidate Shafia Zubair won the Ramgarh Assembly seat in Rajasthan, by defeating BJP's Sukhwant Singh with a margin of 12,228 votes in the bypoll.\n",
            "\n",
            "\n",
            "원문 : Two minor cousins in Uttar Pradesh's Gorakhpur were allegedly repeatedly burnt with tongs and forced to eat human excreta by their family for being friends with two boys from the same school. The cousins revealed their ordeal to the police and Child Welfare Committee after being brought back to Gorakhpur from Nepal, where they had fled to escape the torture.\n",
            "실제 요약 : UP cousins fed human excreta for friendship with boys\n",
            "예측 요약 : [\"Two minor cousins in Uttar Pradesh's Gorakhpur were allegedly repeatedly burnt with tongs and forced to eat human excreta by their family for being friends with two boys from the same school.\"]\n",
            "예측 요약2 : \n",
            "\n",
            "\n",
            "원문 : Isha Ghosh, an 81-year-old member of Bharat Scouts and Guides (BSG), has been imparting physical and mental training to schoolchildren in Jharkhand for several decades. Chaibasa-based Ghosh reportedly walks seven kilometres daily and spends eight hours conducting physical training, apart from climbing and yoga sessions. She says, \"One should do something for society till one's last breath.\"\n",
            "실제 요약 : 81-yr-old woman conducts physical training in J'khand schools\n",
            "예측 요약 : ['Isha Ghosh, an 81-year-old member of Bharat Scouts and Guides (BSG), has been imparting physical and mental training to schoolchildren in Jharkhand for several decades.']\n",
            "예측 요약2 : Isha Ghosh, an 81-year-old member of Bharat Scouts and Guides (BSG), has been imparting physical and mental training to schoolchildren in Jharkhand for several decades.\n",
            "\n",
            "\n",
            "원문 : Urging saints and seers at the Kumbh Mela to quit smoking, Yoga guru Ramdev said, \"We follow Ram and Krishna who never smoked in their life then why should we?\" Making them take a pledge to quit tobacco, he collected chillum (clay pipe) from several sadhus. He said he will deposit the chillums for display at a museum he'll build.\n",
            "실제 요약 : Ram, Krishna didn't smoke, why should we: Ramdev to sadhus at Kumbh\n",
            "예측 요약 : ['Urging saints and seers at the Kumbh Mela to quit smoking, Yoga guru Ramdev said, \"We follow Ram and Krishna who never smoked in their life then why should we?\" Making them take a pledge to quit tobacco, he collected chillum (clay pipe) from several sadhus.']\n",
            "예측 요약2 : \n",
            "\n",
            "\n",
            "원문 : Former stripper and regional sales director of a pharmaceutical company, Sunrise Lee, gave a doctor a lap dance in a nightclub to persuade him to prescribe an addictive fentanyl spray in 2012, the company's sales representative told a US court. She said she saw Lee \"sitting on [doctor's] lap, kind of bouncing around.\" Lee has been accused of bribing doctors.\n",
            "실제 요약 : Pharma exec gave doctor a lap dance to sell medicine in US: Witness\n",
            "예측 요약 : [\"Former stripper and regional sales director of a pharmaceutical company, Sunrise Lee, gave a doctor a lap dance in a nightclub to persuade him to prescribe an addictive fentanyl spray in 2012, the company's sales representative told a US court.\"]\n",
            "예측 요약2 : \n",
            "\n",
            "\n",
            "원문 : Reliance Industries' Chairman Mukesh Ambani's daughter Isha Ambani, who got married last month, said she only cried at her 'bidaai' because she felt peer pressure as everyone was crying, especially her parents. \"I was emotional too but everyone around me would cry all the time,\" she added. \"It was a very emotional affair for everyone in my family,\" said Isha.\n",
            "실제 요약 :  I only cried at my 'bidaai' as I felt peer pressure: Isha Ambani\n",
            "예측 요약 : ['\"It was a very emotional affair for everyone in my family,\" said Isha.']\n",
            "예측 요약2 : \"It was a very emotional affair for everyone in my family,\" said Isha.\n",
            "\n",
            "\n",
            "원문 : Louis Vuitton owner LVMH, which makes high-end beverages like MoÃÂ«t & Chandon champagne and Hennessy cognac, said it's stockpiling four months' worth of wine and spirits in UK in preparation for Brexit. \"We're ready for worst case scenario if there are difficulties with deliveries,\" the French luxury giant said. The UK is scheduled to leave the EU on March 29.\n",
            "실제 요약 : Louis Vuitton owner to stockpile 4 months of wine, spirits in UK\n",
            "예측 요약 : [\"Louis Vuitton owner LVMH, which makes high-end beverages like MoÃ\\x83Â«t & Chandon champagne and Hennessy cognac, said it's stockpiling four months' worth of wine and spirits in UK in preparation for Brexit.\"]\n",
            "예측 요약2 : Louis Vuitton owner LVMH, which makes high-end beverages like MoÃÂ«t & Chandon champagne and Hennessy cognac, said it's stockpiling four months' worth of wine and spirits in UK in preparation for Brexit.\n",
            "\n",
            "\n",
            "원문 : Filmmaker Karan Johar and actress Tabu turned showstoppers for Gaurav Gupta on the opening night of LakmÃÂ© Fashion Week Summer/ Resort 2019. While Johar wore a red sequinned jacket with black pants, Tabu walked the ramp in a grey embellished gown. The fashion show, which began on January 29, will continue till February 3.\n",
            "실제 요약 : Karan Johar, Tabu turn showstoppers on opening night of LFW\n",
            "예측 요약 : ['Filmmaker Karan Johar and actress Tabu turned showstoppers for Gaurav Gupta on the opening night of LakmÃ\\x83Â© Fashion Week Summer/ Resort 2019.']\n",
            "예측 요약2 : Filmmaker Karan Johar and actress Tabu turned showstoppers for Gaurav Gupta on the opening night of LakmÃÂ© Fashion Week Summer/ Resort 2019.\n",
            "\n",
            "\n",
            "원문 : In a jibe at Congress President Rahul Gandhi, PM Narendra Modi on Wednesday said those on \"bail will have to go to jail.\" PM Modi added, \"He is out on bail and his associates too are facing charges...I know they will be convicted one day.\" The PM claimed he'd waged a war on corruption because he's from a common household. \n",
            "실제 요약 : Those on bail will go to jail: PM Modi takes jibe at Rahul\n",
            "예측 요약 : []\n",
            "예측 요약2 : \n",
            "\n",
            "\n",
            "원문 : Days after he threatened to step down from his post if Congress MLAs continue \"crossing the line,\" Karnataka Chief Minister HD Kumaraswamy accused them of taking potshots and asked, \"How many more days can I tolerate such stuff?\" Kumaraswamy, who made the statements after a Congress MLA demanded that Siddaramaiah be made CM again, said, \"Power is ephemeral.\"\n",
            "실제 요약 : How long can I tolerate Congress leaders' potshots: K'taka CM\n",
            "예측 요약 : []\n",
            "예측 요약2 : \n",
            "\n",
            "\n",
            "원문 : Union Minister Dharmendra Pradhan on Wednesday claimed the illegal mining mafia in Odisha operates under the control of CM Naveen Patnaik and state Congress chief Niranjan Patnaik. He added, \"The time has come for the people of Odisha to put a full stop to their activities...The time has come for us to ask for an explanation from this corrupt government.\"\n",
            "실제 요약 : Odisha CM Patnaik controls mining mafia: Union Minister\n",
            "예측 요약 : ['Union Minister Dharmendra Pradhan on Wednesday claimed the illegal mining mafia in Odisha operates under the control of CM Naveen Patnaik and state Congress chief Niranjan Patnaik.']\n",
            "예측 요약2 : \n",
            "\n",
            "\n"
          ]
        }
      ],
      "source": [
        "for idx, (head, text) in enumerate(zip(ex_data['headlines'], ex_data['text'])):\n",
        "    if idx == 20:\n",
        "        break\n",
        "    print(\"원문 :\", text)\n",
        "    print(\"실제 요약 :\", head)\n",
        "    print(\"예측 요약 :\", summarize(text,ratio=0.6, split=True))\n",
        "    print(\"예측 요약2 :\", summarize(text, ratio=0.35))\n",
        "    print(\"\\n\")"
      ]
    },
    {
      "cell_type": "markdown",
      "metadata": {
        "id": "hz397Z-v8V97"
      },
      "source": [
        "# 회고록\n",
        "NLP이해도가 매우 낮은 것을 체감한 EXP였다. 이론에서 보는 그림과 코드내에서 어떻게 매치되는지 알아가는 것이 어려웠고, 인퍼런스 모델은 노드 내용을 이해하는데도 어려웠다. 파라미터값 조정하면서 여러가지 실험을 시도했지만 크게 결과는 바뀌지 않아 다른 사람의 실험결과를 참고하면서 파라미터를 수정했다. \n",
        "## 실험 결과 표\n",
        "![image.png](data:image/png;base64,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)\n",
        "\n",
        "## 추상적요약 / 추출적 요약\n",
        "본문에 없는 단어를 생성해내면서 요약하는 테스크 자체는 흥미로운 부분이었지만, 라벨 값과 동떨어지는 답을 내는 것을 보면서 실험에 뭔가 문제가 있지 않았나.. 생각하게 되었다. 오히려 추출적 요약에서 비슷하게 뱉어낼 확률은 더 높은 것 같은 느낌이었다. 추출적요약의 일부는 빈리스트를 출력하는데 이것의 원인을 찾지 못했다. 파라미터 값을 적절하지 못하게 주었을때는 명사 단어의 일부가 잘리는 현상을 목격했다."
      ]
    },
    {
      "cell_type": "code",
      "execution_count": null,
      "metadata": {
        "id": "_rBzph-OTviD"
      },
      "outputs": [],
      "source": []
    }
  ],
  "metadata": {
    "accelerator": "GPU",
    "colab": {
      "authorship_tag": "ABX9TyNwCmAMXkS7VPM2pOvERlOl",
      "include_colab_link": true,
      "name": "[E-07]article.ipynb",
      "provenance": []
    },
    "kernelspec": {
      "display_name": "Python 3",
      "name": "python3"
    },
    "language_info": {
      "name": "python"
    }
  },
  "nbformat": 4,
  "nbformat_minor": 0
}
